{
 "cells": [
  {
   "cell_type": "markdown",
   "metadata": {},
   "source": [
    "# Evaluating Forecasts"
   ]
  },
  {
   "cell_type": "code",
   "execution_count": 1,
   "metadata": {},
   "outputs": [],
   "source": [
    "import pandas as pd\n",
    "import numpy as np\n",
    "import matplotlib.pyplot as plt\n",
    "\n",
    "from sklearn.linear_model import LinearRegression\n",
    "from sklearn.model_selection import TimeSeriesSplit, cross_val_score\n",
    "\n",
    "# Set figure size to (14,6)\n",
    "plt.rcParams['figure.figsize'] = (14,6)"
   ]
  },
  {
   "cell_type": "markdown",
   "metadata": {},
   "source": [
    "# Step 1 - Load the Data"
   ]
  },
  {
   "cell_type": "code",
   "execution_count": 2,
   "metadata": {},
   "outputs": [
    {
     "data": {
      "text/html": [
       "<div>\n",
       "<style scoped>\n",
       "    .dataframe tbody tr th:only-of-type {\n",
       "        vertical-align: middle;\n",
       "    }\n",
       "\n",
       "    .dataframe tbody tr th {\n",
       "        vertical-align: top;\n",
       "    }\n",
       "\n",
       "    .dataframe thead th {\n",
       "        text-align: right;\n",
       "    }\n",
       "</style>\n",
       "<table border=\"1\" class=\"dataframe\">\n",
       "  <thead>\n",
       "    <tr style=\"text-align: right;\">\n",
       "      <th></th>\n",
       "      <th>passengers</th>\n",
       "    </tr>\n",
       "    <tr>\n",
       "      <th>date</th>\n",
       "      <th></th>\n",
       "    </tr>\n",
       "  </thead>\n",
       "  <tbody>\n",
       "    <tr>\n",
       "      <th>1949-01-01</th>\n",
       "      <td>64</td>\n",
       "    </tr>\n",
       "    <tr>\n",
       "      <th>1949-02-01</th>\n",
       "      <td>75</td>\n",
       "    </tr>\n",
       "    <tr>\n",
       "      <th>1949-03-01</th>\n",
       "      <td>98</td>\n",
       "    </tr>\n",
       "    <tr>\n",
       "      <th>1949-04-01</th>\n",
       "      <td>93</td>\n",
       "    </tr>\n",
       "    <tr>\n",
       "      <th>1949-05-01</th>\n",
       "      <td>80</td>\n",
       "    </tr>\n",
       "  </tbody>\n",
       "</table>\n",
       "</div>"
      ],
      "text/plain": [
       "            passengers\n",
       "date                  \n",
       "1949-01-01          64\n",
       "1949-02-01          75\n",
       "1949-03-01          98\n",
       "1949-04-01          93\n",
       "1949-05-01          80"
      ]
     },
     "execution_count": 2,
     "metadata": {},
     "output_type": "execute_result"
    }
   ],
   "source": [
    "flights = pd.read_csv('flights_train.csv', index_col=0, parse_dates=True)\n",
    "flights.head()"
   ]
  },
  {
   "cell_type": "code",
   "execution_count": 3,
   "metadata": {},
   "outputs": [
    {
     "data": {
      "text/plain": [
       "(132, 1)"
      ]
     },
     "execution_count": 3,
     "metadata": {},
     "output_type": "execute_result"
    }
   ],
   "source": [
    "# Inspect the size of the data\n",
    "flights.shape"
   ]
  },
  {
   "cell_type": "code",
   "execution_count": null,
   "metadata": {},
   "outputs": [],
   "source": [
    "flights.describe()"
   ]
  },
  {
   "cell_type": "code",
   "execution_count": null,
   "metadata": {},
   "outputs": [],
   "source": [
    "flights.info()"
   ]
  },
  {
   "cell_type": "markdown",
   "metadata": {},
   "source": [
    "# Plot the data"
   ]
  },
  {
   "cell_type": "code",
   "execution_count": 11,
   "metadata": {},
   "outputs": [],
   "source": [
    "def plot_flights(df, title='Monthly Passenger Numbers in 1000 over Time', ylim=True):\n",
    "    '''\n",
    "    Custom plotting function for plotting the flights dataset\n",
    "    \n",
    "    Parameters\n",
    "    ----------\n",
    "    df : pd.DataFrame\n",
    "        The data to plot.\n",
    "    title : str\n",
    "        The title of the plot\n",
    "    ylim : bool\n",
    "        Whether to fix the minimum value of y; default is True\n",
    "    \n",
    "    Returns\n",
    "    -------\n",
    "    Plots the data\n",
    "    '''\n",
    "    df.plot()\n",
    "    plt.title(title)\n",
    "    plt.ylabel('# of Passengers in 1000')\n",
    "    if ylim:\n",
    "        plt.ylim(ymin=0)\n",
    "    plt.show()"
   ]
  },
  {
   "cell_type": "code",
   "execution_count": null,
   "metadata": {},
   "outputs": [],
   "source": [
    "plot_flights(flights)"
   ]
  },
  {
   "cell_type": "markdown",
   "metadata": {},
   "source": [
    "# Step 2 - Clean the Data - this maybe 80% of your job as a DS!!\n",
    "\n",
    "Fortunately we do not have to do that in case of the flights data."
   ]
  },
  {
   "cell_type": "markdown",
   "metadata": {},
   "source": [
    "# Step 3 - Extract the Timestep and the Seasonal Dummies for the whole Dataset"
   ]
  },
  {
   "cell_type": "code",
   "execution_count": null,
   "metadata": {},
   "outputs": [],
   "source": [
    "# Create a timestep variable - if you had missing values or dirty data, then the below assumption wouldn't hold\n",
    "#flights['timestep'] = list(range(len(flights)))\n",
    "flights['timestep'] = range(len(flights))\n",
    "flights.head()"
   ]
  },
  {
   "cell_type": "markdown",
   "metadata": {},
   "source": [
    "### Q: Why can we use matthias suggestion of a range object instead of a list of a range object?\n"
   ]
  },
  {
   "cell_type": "markdown",
   "metadata": {},
   "source": [
    "### A: A range object is a generator\n",
    "* A range object can create a list of numbers, but in its nascent state it isn't a list\n",
    "* to extract a list from a range object, you need to pull the values out of it\n",
    "* how do you pull values out of a range object? - you need to iterate over them"
   ]
  },
  {
   "cell_type": "code",
   "execution_count": null,
   "metadata": {},
   "outputs": [],
   "source": [
    "iterator = iter(range(len(flights)))"
   ]
  },
  {
   "cell_type": "code",
   "execution_count": null,
   "metadata": {},
   "outputs": [],
   "source": [
    "#we can run cell this 131 (len(flights)) times, before we hit an error\n",
    "next(iterator)"
   ]
  },
  {
   "cell_type": "code",
   "execution_count": null,
   "metadata": {},
   "outputs": [],
   "source": [
    "flights.head()"
   ]
  },
  {
   "cell_type": "code",
   "execution_count": null,
   "metadata": {},
   "outputs": [],
   "source": [
    "# Q: why does pandas accept list(range(len(flights))) or range(len(flights)) ? \n",
    "# A: I don't exactly know, but there'll be something like the below in pandas codebase somewhere\n",
    "def make_a_column(input_):\n",
    "    if type(input_) == list:\n",
    "        #make a column of that list\n",
    "    elif type(input_) == range:\n",
    "        #use a iterable on the range object, store the results in a list and proceed"
   ]
  },
  {
   "cell_type": "code",
   "execution_count": 5,
   "metadata": {},
   "outputs": [
    {
     "data": {
      "text/html": [
       "<div>\n",
       "<style scoped>\n",
       "    .dataframe tbody tr th:only-of-type {\n",
       "        vertical-align: middle;\n",
       "    }\n",
       "\n",
       "    .dataframe tbody tr th {\n",
       "        vertical-align: top;\n",
       "    }\n",
       "\n",
       "    .dataframe thead th {\n",
       "        text-align: right;\n",
       "    }\n",
       "</style>\n",
       "<table border=\"1\" class=\"dataframe\">\n",
       "  <thead>\n",
       "    <tr style=\"text-align: right;\">\n",
       "      <th></th>\n",
       "      <th>passengers</th>\n",
       "      <th>timestep</th>\n",
       "      <th>month_2</th>\n",
       "      <th>month_3</th>\n",
       "      <th>month_4</th>\n",
       "      <th>month_5</th>\n",
       "      <th>month_6</th>\n",
       "      <th>month_7</th>\n",
       "      <th>month_8</th>\n",
       "      <th>month_9</th>\n",
       "      <th>month_10</th>\n",
       "      <th>month_11</th>\n",
       "      <th>month_12</th>\n",
       "    </tr>\n",
       "    <tr>\n",
       "      <th>date</th>\n",
       "      <th></th>\n",
       "      <th></th>\n",
       "      <th></th>\n",
       "      <th></th>\n",
       "      <th></th>\n",
       "      <th></th>\n",
       "      <th></th>\n",
       "      <th></th>\n",
       "      <th></th>\n",
       "      <th></th>\n",
       "      <th></th>\n",
       "      <th></th>\n",
       "      <th></th>\n",
       "    </tr>\n",
       "  </thead>\n",
       "  <tbody>\n",
       "    <tr>\n",
       "      <th>1949-01-01</th>\n",
       "      <td>64</td>\n",
       "      <td>0</td>\n",
       "      <td>0</td>\n",
       "      <td>0</td>\n",
       "      <td>0</td>\n",
       "      <td>0</td>\n",
       "      <td>0</td>\n",
       "      <td>0</td>\n",
       "      <td>0</td>\n",
       "      <td>0</td>\n",
       "      <td>0</td>\n",
       "      <td>0</td>\n",
       "      <td>0</td>\n",
       "    </tr>\n",
       "    <tr>\n",
       "      <th>1949-02-01</th>\n",
       "      <td>75</td>\n",
       "      <td>1</td>\n",
       "      <td>1</td>\n",
       "      <td>0</td>\n",
       "      <td>0</td>\n",
       "      <td>0</td>\n",
       "      <td>0</td>\n",
       "      <td>0</td>\n",
       "      <td>0</td>\n",
       "      <td>0</td>\n",
       "      <td>0</td>\n",
       "      <td>0</td>\n",
       "      <td>0</td>\n",
       "    </tr>\n",
       "    <tr>\n",
       "      <th>1949-03-01</th>\n",
       "      <td>98</td>\n",
       "      <td>2</td>\n",
       "      <td>0</td>\n",
       "      <td>1</td>\n",
       "      <td>0</td>\n",
       "      <td>0</td>\n",
       "      <td>0</td>\n",
       "      <td>0</td>\n",
       "      <td>0</td>\n",
       "      <td>0</td>\n",
       "      <td>0</td>\n",
       "      <td>0</td>\n",
       "      <td>0</td>\n",
       "    </tr>\n",
       "    <tr>\n",
       "      <th>1949-04-01</th>\n",
       "      <td>93</td>\n",
       "      <td>3</td>\n",
       "      <td>0</td>\n",
       "      <td>0</td>\n",
       "      <td>1</td>\n",
       "      <td>0</td>\n",
       "      <td>0</td>\n",
       "      <td>0</td>\n",
       "      <td>0</td>\n",
       "      <td>0</td>\n",
       "      <td>0</td>\n",
       "      <td>0</td>\n",
       "      <td>0</td>\n",
       "    </tr>\n",
       "    <tr>\n",
       "      <th>1949-05-01</th>\n",
       "      <td>80</td>\n",
       "      <td>4</td>\n",
       "      <td>0</td>\n",
       "      <td>0</td>\n",
       "      <td>0</td>\n",
       "      <td>1</td>\n",
       "      <td>0</td>\n",
       "      <td>0</td>\n",
       "      <td>0</td>\n",
       "      <td>0</td>\n",
       "      <td>0</td>\n",
       "      <td>0</td>\n",
       "      <td>0</td>\n",
       "    </tr>\n",
       "  </tbody>\n",
       "</table>\n",
       "</div>"
      ],
      "text/plain": [
       "            passengers  timestep  month_2  month_3  month_4  month_5  month_6  \\\n",
       "date                                                                            \n",
       "1949-01-01          64         0        0        0        0        0        0   \n",
       "1949-02-01          75         1        1        0        0        0        0   \n",
       "1949-03-01          98         2        0        1        0        0        0   \n",
       "1949-04-01          93         3        0        0        1        0        0   \n",
       "1949-05-01          80         4        0        0        0        1        0   \n",
       "\n",
       "            month_7  month_8  month_9  month_10  month_11  month_12  \n",
       "date                                                                 \n",
       "1949-01-01        0        0        0         0         0         0  \n",
       "1949-02-01        0        0        0         0         0         0  \n",
       "1949-03-01        0        0        0         0         0         0  \n",
       "1949-04-01        0        0        0         0         0         0  \n",
       "1949-05-01        0        0        0         0         0         0  "
      ]
     },
     "execution_count": 5,
     "metadata": {},
     "output_type": "execute_result"
    }
   ],
   "source": [
    "# Create the seasonal dummies\n",
    "seasonal_dummies = pd.get_dummies(flights.index.month,\n",
    "                                  prefix='month',\n",
    "                                  drop_first=True).set_index(flights.index)\n",
    "\n",
    "flights = flights.join(seasonal_dummies)\n",
    "flights.head()"
   ]
  },
  {
   "cell_type": "markdown",
   "metadata": {},
   "source": [
    "## Q: what does drop_first=True do?\n",
    "### A: lets think about 3 breakfast_drinks \n",
    "* coffee\n",
    "* tea\n",
    "* water"
   ]
  },
  {
   "cell_type": "code",
   "execution_count": null,
   "metadata": {},
   "outputs": [],
   "source": [
    "df1 = pd.get_dummies(['coffee', 'tea', 'water'])\n",
    "df1"
   ]
  },
  {
   "cell_type": "code",
   "execution_count": null,
   "metadata": {},
   "outputs": [],
   "source": [
    "df2 = pd.get_dummies(['coffee', 'tea', 'water'], drop_first=True)\n",
    "df2.columns= ['tea', 'water_or_coffee']\n",
    "df2"
   ]
  },
  {
   "cell_type": "markdown",
   "metadata": {},
   "source": [
    "# 4) Train-Test-Split\n",
    "\n",
    "Fortunately not necessary for the flights data.\n",
    "* How would you train-test split a time-series? would you use train_test_split in sklearn? or some other method?\n",
    "* you can't use a random splitter, we can time-series split, or you can do it manually\n",
    "\n",
    "# 5) Model the Trend_Seasonal model"
   ]
  },
  {
   "cell_type": "code",
   "execution_count": 6,
   "metadata": {},
   "outputs": [],
   "source": [
    "# Define X and y\n",
    "X = flights.drop(columns=['passengers'])\n",
    "y = flights['passengers']"
   ]
  },
  {
   "cell_type": "code",
   "execution_count": 7,
   "metadata": {},
   "outputs": [
    {
     "data": {
      "text/plain": [
       "LinearRegression()"
      ]
     },
     "execution_count": 7,
     "metadata": {},
     "output_type": "execute_result"
    }
   ],
   "source": [
    "# Create and fit the model\n",
    "m = LinearRegression()\n",
    "m.fit(X, y)"
   ]
  },
  {
   "cell_type": "code",
   "execution_count": 8,
   "metadata": {},
   "outputs": [
    {
     "data": {
      "text/html": [
       "<div>\n",
       "<style scoped>\n",
       "    .dataframe tbody tr th:only-of-type {\n",
       "        vertical-align: middle;\n",
       "    }\n",
       "\n",
       "    .dataframe tbody tr th {\n",
       "        vertical-align: top;\n",
       "    }\n",
       "\n",
       "    .dataframe thead th {\n",
       "        text-align: right;\n",
       "    }\n",
       "</style>\n",
       "<table border=\"1\" class=\"dataframe\">\n",
       "  <thead>\n",
       "    <tr style=\"text-align: right;\">\n",
       "      <th></th>\n",
       "      <th>passengers</th>\n",
       "      <th>timestep</th>\n",
       "      <th>month_2</th>\n",
       "      <th>month_3</th>\n",
       "      <th>month_4</th>\n",
       "      <th>month_5</th>\n",
       "      <th>month_6</th>\n",
       "      <th>month_7</th>\n",
       "      <th>month_8</th>\n",
       "      <th>month_9</th>\n",
       "      <th>month_10</th>\n",
       "      <th>month_11</th>\n",
       "      <th>month_12</th>\n",
       "      <th>trend_seasonal</th>\n",
       "    </tr>\n",
       "    <tr>\n",
       "      <th>date</th>\n",
       "      <th></th>\n",
       "      <th></th>\n",
       "      <th></th>\n",
       "      <th></th>\n",
       "      <th></th>\n",
       "      <th></th>\n",
       "      <th></th>\n",
       "      <th></th>\n",
       "      <th></th>\n",
       "      <th></th>\n",
       "      <th></th>\n",
       "      <th></th>\n",
       "      <th></th>\n",
       "      <th></th>\n",
       "    </tr>\n",
       "  </thead>\n",
       "  <tbody>\n",
       "    <tr>\n",
       "      <th>1949-01-01</th>\n",
       "      <td>64</td>\n",
       "      <td>0</td>\n",
       "      <td>0</td>\n",
       "      <td>0</td>\n",
       "      <td>0</td>\n",
       "      <td>0</td>\n",
       "      <td>0</td>\n",
       "      <td>0</td>\n",
       "      <td>0</td>\n",
       "      <td>0</td>\n",
       "      <td>0</td>\n",
       "      <td>0</td>\n",
       "      <td>0</td>\n",
       "      <td>59.594697</td>\n",
       "    </tr>\n",
       "    <tr>\n",
       "      <th>1949-02-01</th>\n",
       "      <td>75</td>\n",
       "      <td>1</td>\n",
       "      <td>1</td>\n",
       "      <td>0</td>\n",
       "      <td>0</td>\n",
       "      <td>0</td>\n",
       "      <td>0</td>\n",
       "      <td>0</td>\n",
       "      <td>0</td>\n",
       "      <td>0</td>\n",
       "      <td>0</td>\n",
       "      <td>0</td>\n",
       "      <td>0</td>\n",
       "      <td>57.503788</td>\n",
       "    </tr>\n",
       "    <tr>\n",
       "      <th>1949-03-01</th>\n",
       "      <td>98</td>\n",
       "      <td>2</td>\n",
       "      <td>0</td>\n",
       "      <td>1</td>\n",
       "      <td>0</td>\n",
       "      <td>0</td>\n",
       "      <td>0</td>\n",
       "      <td>0</td>\n",
       "      <td>0</td>\n",
       "      <td>0</td>\n",
       "      <td>0</td>\n",
       "      <td>0</td>\n",
       "      <td>0</td>\n",
       "      <td>90.503788</td>\n",
       "    </tr>\n",
       "    <tr>\n",
       "      <th>1949-04-01</th>\n",
       "      <td>93</td>\n",
       "      <td>3</td>\n",
       "      <td>0</td>\n",
       "      <td>0</td>\n",
       "      <td>1</td>\n",
       "      <td>0</td>\n",
       "      <td>0</td>\n",
       "      <td>0</td>\n",
       "      <td>0</td>\n",
       "      <td>0</td>\n",
       "      <td>0</td>\n",
       "      <td>0</td>\n",
       "      <td>0</td>\n",
       "      <td>83.412879</td>\n",
       "    </tr>\n",
       "    <tr>\n",
       "      <th>1949-05-01</th>\n",
       "      <td>80</td>\n",
       "      <td>4</td>\n",
       "      <td>0</td>\n",
       "      <td>0</td>\n",
       "      <td>0</td>\n",
       "      <td>1</td>\n",
       "      <td>0</td>\n",
       "      <td>0</td>\n",
       "      <td>0</td>\n",
       "      <td>0</td>\n",
       "      <td>0</td>\n",
       "      <td>0</td>\n",
       "      <td>0</td>\n",
       "      <td>85.231061</td>\n",
       "    </tr>\n",
       "  </tbody>\n",
       "</table>\n",
       "</div>"
      ],
      "text/plain": [
       "            passengers  timestep  month_2  month_3  month_4  month_5  month_6  \\\n",
       "date                                                                            \n",
       "1949-01-01          64         0        0        0        0        0        0   \n",
       "1949-02-01          75         1        1        0        0        0        0   \n",
       "1949-03-01          98         2        0        1        0        0        0   \n",
       "1949-04-01          93         3        0        0        1        0        0   \n",
       "1949-05-01          80         4        0        0        0        1        0   \n",
       "\n",
       "            month_7  month_8  month_9  month_10  month_11  month_12  \\\n",
       "date                                                                  \n",
       "1949-01-01        0        0        0         0         0         0   \n",
       "1949-02-01        0        0        0         0         0         0   \n",
       "1949-03-01        0        0        0         0         0         0   \n",
       "1949-04-01        0        0        0         0         0         0   \n",
       "1949-05-01        0        0        0         0         0         0   \n",
       "\n",
       "            trend_seasonal  \n",
       "date                        \n",
       "1949-01-01       59.594697  \n",
       "1949-02-01       57.503788  \n",
       "1949-03-01       90.503788  \n",
       "1949-04-01       83.412879  \n",
       "1949-05-01       85.231061  "
      ]
     },
     "execution_count": 8,
     "metadata": {},
     "output_type": "execute_result"
    }
   ],
   "source": [
    "# Create a new column with the predictions of the trend_seasonal model\n",
    "flights['trend_seasonal'] = m.predict(X)\n",
    "flights.head()"
   ]
  },
  {
   "cell_type": "markdown",
   "metadata": {},
   "source": [
    "# Plot the original data and preliminary model"
   ]
  },
  {
   "cell_type": "code",
   "execution_count": 12,
   "metadata": {},
   "outputs": [
    {
     "data": {
      "image/png": "[encoded data removed]",
      "text/plain": [
       "<Figure size 1008x432 with 1 Axes>"
      ]
     },
     "metadata": {
      "needs_background": "light"
     },
     "output_type": "display_data"
    }
   ],
   "source": [
    "plot_flights(flights[['passengers', 'trend_seasonal']])"
   ]
  },
  {
   "cell_type": "markdown",
   "metadata": {},
   "source": [
    "# 6) - Extract the remainder"
   ]
  },
  {
   "cell_type": "code",
   "execution_count": null,
   "metadata": {},
   "outputs": [],
   "source": [
    "# Fast - fourier transform - which decomposes a time-series into subcomponents"
   ]
  },
  {
   "cell_type": "code",
   "execution_count": 13,
   "metadata": {},
   "outputs": [],
   "source": [
    "# We want to extract the part of the model that the trend_seasonal is not able to explain\n",
    "flights['remainder'] = flights['passengers'] - flights['trend_seasonal']"
   ]
  },
  {
   "cell_type": "code",
   "execution_count": 14,
   "metadata": {},
   "outputs": [
    {
     "data": {
      "image/png": "[encoded data removed]",
      "text/plain": [
       "<Figure size 1008x432 with 1 Axes>"
      ]
     },
     "metadata": {
      "needs_background": "light"
     },
     "output_type": "display_data"
    }
   ],
   "source": [
    "plot_flights(flights['remainder'], title='Remainder after modelling trend and seasonality', ylim=False)"
   ]
  },
  {
   "cell_type": "markdown",
   "metadata": {},
   "source": [
    "# 7) - Inspect the remainder to decide how many lags to include\n",
    "\n",
    "For now, I will include one lag only. - you might want to look autocorrelations to help you\n",
    "\n",
    "# 8) - Add the lags of the remainder to the training data"
   ]
  },
  {
   "cell_type": "code",
   "execution_count": 15,
   "metadata": {},
   "outputs": [
    {
     "data": {
      "text/html": [
       "<div>\n",
       "<style scoped>\n",
       "    .dataframe tbody tr th:only-of-type {\n",
       "        vertical-align: middle;\n",
       "    }\n",
       "\n",
       "    .dataframe tbody tr th {\n",
       "        vertical-align: top;\n",
       "    }\n",
       "\n",
       "    .dataframe thead th {\n",
       "        text-align: right;\n",
       "    }\n",
       "</style>\n",
       "<table border=\"1\" class=\"dataframe\">\n",
       "  <thead>\n",
       "    <tr style=\"text-align: right;\">\n",
       "      <th></th>\n",
       "      <th>passengers</th>\n",
       "      <th>timestep</th>\n",
       "      <th>month_2</th>\n",
       "      <th>month_3</th>\n",
       "      <th>month_4</th>\n",
       "      <th>month_5</th>\n",
       "      <th>month_6</th>\n",
       "      <th>month_7</th>\n",
       "      <th>month_8</th>\n",
       "      <th>month_9</th>\n",
       "      <th>month_10</th>\n",
       "      <th>month_11</th>\n",
       "      <th>month_12</th>\n",
       "      <th>trend_seasonal</th>\n",
       "      <th>remainder</th>\n",
       "      <th>lag1</th>\n",
       "    </tr>\n",
       "    <tr>\n",
       "      <th>date</th>\n",
       "      <th></th>\n",
       "      <th></th>\n",
       "      <th></th>\n",
       "      <th></th>\n",
       "      <th></th>\n",
       "      <th></th>\n",
       "      <th></th>\n",
       "      <th></th>\n",
       "      <th></th>\n",
       "      <th></th>\n",
       "      <th></th>\n",
       "      <th></th>\n",
       "      <th></th>\n",
       "      <th></th>\n",
       "      <th></th>\n",
       "      <th></th>\n",
       "    </tr>\n",
       "  </thead>\n",
       "  <tbody>\n",
       "    <tr>\n",
       "      <th>1949-02-01</th>\n",
       "      <td>75</td>\n",
       "      <td>1</td>\n",
       "      <td>1</td>\n",
       "      <td>0</td>\n",
       "      <td>0</td>\n",
       "      <td>0</td>\n",
       "      <td>0</td>\n",
       "      <td>0</td>\n",
       "      <td>0</td>\n",
       "      <td>0</td>\n",
       "      <td>0</td>\n",
       "      <td>0</td>\n",
       "      <td>0</td>\n",
       "      <td>57.503788</td>\n",
       "      <td>17.496212</td>\n",
       "      <td>4.405303</td>\n",
       "    </tr>\n",
       "    <tr>\n",
       "      <th>1949-03-01</th>\n",
       "      <td>98</td>\n",
       "      <td>2</td>\n",
       "      <td>0</td>\n",
       "      <td>1</td>\n",
       "      <td>0</td>\n",
       "      <td>0</td>\n",
       "      <td>0</td>\n",
       "      <td>0</td>\n",
       "      <td>0</td>\n",
       "      <td>0</td>\n",
       "      <td>0</td>\n",
       "      <td>0</td>\n",
       "      <td>0</td>\n",
       "      <td>90.503788</td>\n",
       "      <td>7.496212</td>\n",
       "      <td>17.496212</td>\n",
       "    </tr>\n",
       "    <tr>\n",
       "      <th>1949-04-01</th>\n",
       "      <td>93</td>\n",
       "      <td>3</td>\n",
       "      <td>0</td>\n",
       "      <td>0</td>\n",
       "      <td>1</td>\n",
       "      <td>0</td>\n",
       "      <td>0</td>\n",
       "      <td>0</td>\n",
       "      <td>0</td>\n",
       "      <td>0</td>\n",
       "      <td>0</td>\n",
       "      <td>0</td>\n",
       "      <td>0</td>\n",
       "      <td>83.412879</td>\n",
       "      <td>9.587121</td>\n",
       "      <td>7.496212</td>\n",
       "    </tr>\n",
       "    <tr>\n",
       "      <th>1949-05-01</th>\n",
       "      <td>80</td>\n",
       "      <td>4</td>\n",
       "      <td>0</td>\n",
       "      <td>0</td>\n",
       "      <td>0</td>\n",
       "      <td>1</td>\n",
       "      <td>0</td>\n",
       "      <td>0</td>\n",
       "      <td>0</td>\n",
       "      <td>0</td>\n",
       "      <td>0</td>\n",
       "      <td>0</td>\n",
       "      <td>0</td>\n",
       "      <td>85.231061</td>\n",
       "      <td>-5.231061</td>\n",
       "      <td>9.587121</td>\n",
       "    </tr>\n",
       "    <tr>\n",
       "      <th>1949-06-01</th>\n",
       "      <td>103</td>\n",
       "      <td>5</td>\n",
       "      <td>0</td>\n",
       "      <td>0</td>\n",
       "      <td>0</td>\n",
       "      <td>0</td>\n",
       "      <td>1</td>\n",
       "      <td>0</td>\n",
       "      <td>0</td>\n",
       "      <td>0</td>\n",
       "      <td>0</td>\n",
       "      <td>0</td>\n",
       "      <td>0</td>\n",
       "      <td>115.776515</td>\n",
       "      <td>-12.776515</td>\n",
       "      <td>-5.231061</td>\n",
       "    </tr>\n",
       "  </tbody>\n",
       "</table>\n",
       "</div>"
      ],
      "text/plain": [
       "            passengers  timestep  month_2  month_3  month_4  month_5  month_6  \\\n",
       "date                                                                            \n",
       "1949-02-01          75         1        1        0        0        0        0   \n",
       "1949-03-01          98         2        0        1        0        0        0   \n",
       "1949-04-01          93         3        0        0        1        0        0   \n",
       "1949-05-01          80         4        0        0        0        1        0   \n",
       "1949-06-01         103         5        0        0        0        0        1   \n",
       "\n",
       "            month_7  month_8  month_9  month_10  month_11  month_12  \\\n",
       "date                                                                  \n",
       "1949-02-01        0        0        0         0         0         0   \n",
       "1949-03-01        0        0        0         0         0         0   \n",
       "1949-04-01        0        0        0         0         0         0   \n",
       "1949-05-01        0        0        0         0         0         0   \n",
       "1949-06-01        0        0        0         0         0         0   \n",
       "\n",
       "            trend_seasonal  remainder       lag1  \n",
       "date                                              \n",
       "1949-02-01       57.503788  17.496212   4.405303  \n",
       "1949-03-01       90.503788   7.496212  17.496212  \n",
       "1949-04-01       83.412879   9.587121   7.496212  \n",
       "1949-05-01       85.231061  -5.231061   9.587121  \n",
       "1949-06-01      115.776515 -12.776515  -5.231061  "
      ]
     },
     "execution_count": 15,
     "metadata": {},
     "output_type": "execute_result"
    }
   ],
   "source": [
    "flights['lag1'] = flights['remainder'].shift(1)\n",
    "flights.dropna(inplace=True)\n",
    "flights.head()"
   ]
  },
  {
   "cell_type": "markdown",
   "metadata": {},
   "source": [
    "# 9) Run the full model"
   ]
  },
  {
   "cell_type": "code",
   "execution_count": 16,
   "metadata": {},
   "outputs": [],
   "source": [
    "# Assign X\n",
    "X_full = flights.drop(columns=['passengers', 'trend_seasonal', 'remainder'])\n",
    "y_full = flights['passengers']"
   ]
  },
  {
   "cell_type": "code",
   "execution_count": 17,
   "metadata": {},
   "outputs": [
    {
     "data": {
      "text/html": [
       "<div>\n",
       "<style scoped>\n",
       "    .dataframe tbody tr th:only-of-type {\n",
       "        vertical-align: middle;\n",
       "    }\n",
       "\n",
       "    .dataframe tbody tr th {\n",
       "        vertical-align: top;\n",
       "    }\n",
       "\n",
       "    .dataframe thead th {\n",
       "        text-align: right;\n",
       "    }\n",
       "</style>\n",
       "<table border=\"1\" class=\"dataframe\">\n",
       "  <thead>\n",
       "    <tr style=\"text-align: right;\">\n",
       "      <th></th>\n",
       "      <th>timestep</th>\n",
       "      <th>month_2</th>\n",
       "      <th>month_3</th>\n",
       "      <th>month_4</th>\n",
       "      <th>month_5</th>\n",
       "      <th>month_6</th>\n",
       "      <th>month_7</th>\n",
       "      <th>month_8</th>\n",
       "      <th>month_9</th>\n",
       "      <th>month_10</th>\n",
       "      <th>month_11</th>\n",
       "      <th>month_12</th>\n",
       "      <th>lag1</th>\n",
       "    </tr>\n",
       "    <tr>\n",
       "      <th>date</th>\n",
       "      <th></th>\n",
       "      <th></th>\n",
       "      <th></th>\n",
       "      <th></th>\n",
       "      <th></th>\n",
       "      <th></th>\n",
       "      <th></th>\n",
       "      <th></th>\n",
       "      <th></th>\n",
       "      <th></th>\n",
       "      <th></th>\n",
       "      <th></th>\n",
       "      <th></th>\n",
       "    </tr>\n",
       "  </thead>\n",
       "  <tbody>\n",
       "    <tr>\n",
       "      <th>1949-02-01</th>\n",
       "      <td>1</td>\n",
       "      <td>1</td>\n",
       "      <td>0</td>\n",
       "      <td>0</td>\n",
       "      <td>0</td>\n",
       "      <td>0</td>\n",
       "      <td>0</td>\n",
       "      <td>0</td>\n",
       "      <td>0</td>\n",
       "      <td>0</td>\n",
       "      <td>0</td>\n",
       "      <td>0</td>\n",
       "      <td>4.405303</td>\n",
       "    </tr>\n",
       "    <tr>\n",
       "      <th>1949-03-01</th>\n",
       "      <td>2</td>\n",
       "      <td>0</td>\n",
       "      <td>1</td>\n",
       "      <td>0</td>\n",
       "      <td>0</td>\n",
       "      <td>0</td>\n",
       "      <td>0</td>\n",
       "      <td>0</td>\n",
       "      <td>0</td>\n",
       "      <td>0</td>\n",
       "      <td>0</td>\n",
       "      <td>0</td>\n",
       "      <td>17.496212</td>\n",
       "    </tr>\n",
       "    <tr>\n",
       "      <th>1949-04-01</th>\n",
       "      <td>3</td>\n",
       "      <td>0</td>\n",
       "      <td>0</td>\n",
       "      <td>1</td>\n",
       "      <td>0</td>\n",
       "      <td>0</td>\n",
       "      <td>0</td>\n",
       "      <td>0</td>\n",
       "      <td>0</td>\n",
       "      <td>0</td>\n",
       "      <td>0</td>\n",
       "      <td>0</td>\n",
       "      <td>7.496212</td>\n",
       "    </tr>\n",
       "    <tr>\n",
       "      <th>1949-05-01</th>\n",
       "      <td>4</td>\n",
       "      <td>0</td>\n",
       "      <td>0</td>\n",
       "      <td>0</td>\n",
       "      <td>1</td>\n",
       "      <td>0</td>\n",
       "      <td>0</td>\n",
       "      <td>0</td>\n",
       "      <td>0</td>\n",
       "      <td>0</td>\n",
       "      <td>0</td>\n",
       "      <td>0</td>\n",
       "      <td>9.587121</td>\n",
       "    </tr>\n",
       "    <tr>\n",
       "      <th>1949-06-01</th>\n",
       "      <td>5</td>\n",
       "      <td>0</td>\n",
       "      <td>0</td>\n",
       "      <td>0</td>\n",
       "      <td>0</td>\n",
       "      <td>1</td>\n",
       "      <td>0</td>\n",
       "      <td>0</td>\n",
       "      <td>0</td>\n",
       "      <td>0</td>\n",
       "      <td>0</td>\n",
       "      <td>0</td>\n",
       "      <td>-5.231061</td>\n",
       "    </tr>\n",
       "  </tbody>\n",
       "</table>\n",
       "</div>"
      ],
      "text/plain": [
       "            timestep  month_2  month_3  month_4  month_5  month_6  month_7  \\\n",
       "date                                                                         \n",
       "1949-02-01         1        1        0        0        0        0        0   \n",
       "1949-03-01         2        0        1        0        0        0        0   \n",
       "1949-04-01         3        0        0        1        0        0        0   \n",
       "1949-05-01         4        0        0        0        1        0        0   \n",
       "1949-06-01         5        0        0        0        0        1        0   \n",
       "\n",
       "            month_8  month_9  month_10  month_11  month_12       lag1  \n",
       "date                                                                   \n",
       "1949-02-01        0        0         0         0         0   4.405303  \n",
       "1949-03-01        0        0         0         0         0  17.496212  \n",
       "1949-04-01        0        0         0         0         0   7.496212  \n",
       "1949-05-01        0        0         0         0         0   9.587121  \n",
       "1949-06-01        0        0         0         0         0  -5.231061  "
      ]
     },
     "execution_count": 17,
     "metadata": {},
     "output_type": "execute_result"
    }
   ],
   "source": [
    "X_full.head()"
   ]
  },
  {
   "cell_type": "code",
   "execution_count": 18,
   "metadata": {},
   "outputs": [
    {
     "data": {
      "text/plain": [
       "LinearRegression()"
      ]
     },
     "execution_count": 18,
     "metadata": {},
     "output_type": "execute_result"
    }
   ],
   "source": [
    "m_full = LinearRegression()\n",
    "m_full.fit(X_full, y_full)"
   ]
  },
  {
   "cell_type": "code",
   "execution_count": 19,
   "metadata": {},
   "outputs": [],
   "source": [
    "# Create a new predictions column\n",
    "flights['predictions_full_model'] = m_full.predict(X_full)"
   ]
  },
  {
   "cell_type": "markdown",
   "metadata": {},
   "source": [
    "# 10) - Plot the prediction vs passengers for the training data"
   ]
  },
  {
   "cell_type": "code",
   "execution_count": 20,
   "metadata": {},
   "outputs": [
    {
     "data": {
      "image/png": "[encoded data removed]",
      "text/plain": [
       "<Figure size 1008x432 with 1 Axes>"
      ]
     },
     "metadata": {
      "needs_background": "light"
     },
     "output_type": "display_data"
    }
   ],
   "source": [
    "plot_flights(flights[['passengers', 'trend_seasonal', 'predictions_full_model']])"
   ]
  },
  {
   "cell_type": "markdown",
   "metadata": {},
   "source": [
    "# Is this model good?\n",
    "\n",
    "# 10) - Evaluate our model\n",
    "\n",
    "We want to understand how good our model would work on data it has not been trained on. We can get an estimate of that by using cross-validation.\n",
    "\n",
    "Cross-validation so far:\n",
    "\n",
    "- Dividing training data into subsets (folds)\n",
    "- in each iteration singled out one fold as validation set\n",
    "- trained on the remaining training data and evaluated the fit on the validation set.\n",
    "\n",
    "Cross-validation for time series:\n",
    "\n",
    "- Dividing training data into subsets (folds)\n",
    "- in the first iteration, use the first fold to evaluate the second fold\n",
    "- in the second iteration, use the first and the second fold to evaluate the third fold\n",
    "- ..."
   ]
  },
  {
   "cell_type": "code",
   "execution_count": 21,
   "metadata": {},
   "outputs": [],
   "source": [
    "# Create a TimeSeriesSplit object\n",
    "ts_split = TimeSeriesSplit(n_splits=5)"
   ]
  },
  {
   "cell_type": "code",
   "execution_count": 23,
   "metadata": {},
   "outputs": [
    {
     "data": {
      "text/plain": [
       "<generator object TimeSeriesSplit.split at 0x7fd1c291e7b0>"
      ]
     },
     "execution_count": 23,
     "metadata": {},
     "output_type": "execute_result"
    }
   ],
   "source": [
    "ts_split.split(X_full, y_full)"
   ]
  },
  {
   "cell_type": "code",
   "execution_count": 24,
   "metadata": {},
   "outputs": [
    {
     "name": "stdout",
     "output_type": "stream",
     "text": [
      "The training data for the 1th iteration are the observations [ 0  1  2  3  4  5  6  7  8  9 10 11 12 13 14 15 16 17 18 19 20 21 22 23\n",
      " 24 25]\n",
      "The validation data for the 1th iteration are the observations [26 27 28 29 30 31 32 33 34 35 36 37 38 39 40 41 42 43 44 45 46]\n",
      "\n",
      "The training data for the 2th iteration are the observations [ 0  1  2  3  4  5  6  7  8  9 10 11 12 13 14 15 16 17 18 19 20 21 22 23\n",
      " 24 25 26 27 28 29 30 31 32 33 34 35 36 37 38 39 40 41 42 43 44 45 46]\n",
      "The validation data for the 2th iteration are the observations [47 48 49 50 51 52 53 54 55 56 57 58 59 60 61 62 63 64 65 66 67]\n",
      "\n",
      "The training data for the 3th iteration are the observations [ 0  1  2  3  4  5  6  7  8  9 10 11 12 13 14 15 16 17 18 19 20 21 22 23\n",
      " 24 25 26 27 28 29 30 31 32 33 34 35 36 37 38 39 40 41 42 43 44 45 46 47\n",
      " 48 49 50 51 52 53 54 55 56 57 58 59 60 61 62 63 64 65 66 67]\n",
      "The validation data for the 3th iteration are the observations [68 69 70 71 72 73 74 75 76 77 78 79 80 81 82 83 84 85 86 87 88]\n",
      "\n",
      "The training data for the 4th iteration are the observations [ 0  1  2  3  4  5  6  7  8  9 10 11 12 13 14 15 16 17 18 19 20 21 22 23\n",
      " 24 25 26 27 28 29 30 31 32 33 34 35 36 37 38 39 40 41 42 43 44 45 46 47\n",
      " 48 49 50 51 52 53 54 55 56 57 58 59 60 61 62 63 64 65 66 67 68 69 70 71\n",
      " 72 73 74 75 76 77 78 79 80 81 82 83 84 85 86 87 88]\n",
      "The validation data for the 4th iteration are the observations [ 89  90  91  92  93  94  95  96  97  98  99 100 101 102 103 104 105 106\n",
      " 107 108 109]\n",
      "\n",
      "The training data for the 5th iteration are the observations [  0   1   2   3   4   5   6   7   8   9  10  11  12  13  14  15  16  17\n",
      "  18  19  20  21  22  23  24  25  26  27  28  29  30  31  32  33  34  35\n",
      "  36  37  38  39  40  41  42  43  44  45  46  47  48  49  50  51  52  53\n",
      "  54  55  56  57  58  59  60  61  62  63  64  65  66  67  68  69  70  71\n",
      "  72  73  74  75  76  77  78  79  80  81  82  83  84  85  86  87  88  89\n",
      "  90  91  92  93  94  95  96  97  98  99 100 101 102 103 104 105 106 107\n",
      " 108 109]\n",
      "The validation data for the 5th iteration are the observations [110 111 112 113 114 115 116 117 118 119 120 121 122 123 124 125 126 127\n",
      " 128 129 130]\n",
      "\n"
     ]
    }
   ],
   "source": [
    "# Split the training data into folds\n",
    "for i, (train_index, validation_index) in enumerate(ts_split.split(X_full, y_full)):\n",
    "    print(f'The training data for the {i+1}th iteration are the observations {train_index}')\n",
    "    print(f'The validation data for the {i+1}th iteration are the observations {validation_index}')\n",
    "    print()\n",
    "    "
   ]
  },
  {
   "cell_type": "code",
   "execution_count": 25,
   "metadata": {},
   "outputs": [
    {
     "data": {
      "text/plain": [
       "<generator object TimeSeriesSplit.split at 0x7fd1c291ea50>"
      ]
     },
     "execution_count": 25,
     "metadata": {},
     "output_type": "execute_result"
    }
   ],
   "source": [
    "# Create the time series split\n",
    "time_series_split = ts_split.split(X_full, y_full) "
   ]
  },
  {
   "cell_type": "code",
   "execution_count": 26,
   "metadata": {},
   "outputs": [
    {
     "data": {
      "text/plain": [
       "array([0.82727944, 0.82914029, 0.95730085, 0.9419188 , 0.92308191])"
      ]
     },
     "execution_count": 26,
     "metadata": {},
     "output_type": "execute_result"
    }
   ],
   "source": [
    "# Do the cross validation\n",
    "result = cross_val_score(estimator=m_full, X=X_full, y=y_full, cv=time_series_split)\n",
    "result"
   ]
  },
  {
   "cell_type": "code",
   "execution_count": 27,
   "metadata": {},
   "outputs": [
    {
     "data": {
      "text/plain": [
       "0.8957442586519804"
      ]
     },
     "execution_count": 27,
     "metadata": {},
     "output_type": "execute_result"
    }
   ],
   "source": [
    "result.mean()"
   ]
  },
  {
   "cell_type": "code",
   "execution_count": null,
   "metadata": {},
   "outputs": [],
   "source": [
    "result_ordinary_cv = cross_val_score(estimator=m_full, X=X_full, y=y_full, cv=5)\n",
    "result_ordinary_cv"
   ]
  },
  {
   "cell_type": "code",
   "execution_count": null,
   "metadata": {},
   "outputs": [],
   "source": [
    "result_ordinary_cv.mean()"
   ]
  },
  {
   "cell_type": "markdown",
   "metadata": {},
   "source": [
    "---"
   ]
  },
  {
   "cell_type": "markdown",
   "metadata": {},
   "source": [
    "# im talking about 2 different things when i talk about metrics\n",
    "* Cost function - is the fuel for gradient descent\n",
    "* Score on the data - how you evaluate a fitted model\n",
    "\n",
    "* Cost - MSE\n",
    "* Score - R^2"
   ]
  },
  {
   "cell_type": "markdown",
   "metadata": {},
   "source": [
    "# Evaluation Metrics\n",
    "\n",
    "# Cost \n",
    "\n",
    "### 1. Mean-Squared-Error (MSE)\n",
    "\n",
    "$\\frac{1}{n} \\sum (y_t - \\hat{y_t}) ^2$\n",
    "\n",
    "#### Advantages:\n",
    "- Is widely implemented\n",
    "\n",
    "#### Disadvantages:\n",
    "- Strong penalty on outliers - preprocess to remove outliers (what is an outlier?)\n",
    "- Unit hardly interpretable\n",
    "- Not comparable across models with different units"
   ]
  },
  {
   "cell_type": "markdown",
   "metadata": {},
   "source": [
    "### 2. Mean Absolute Error (MAE)\n",
    "\n",
    "$\\frac{1}{n} \\sum |y_t - \\hat{y}_t|$\n",
    "\n",
    "#### Advantages:\n",
    "\n",
    "- Error is in the unit of interest\n",
    "- Does not overly value outliers\n",
    "\n",
    "#### Disadvantages:\n",
    "\n",
    "- Ranges from 0 to infinity\n",
    "- Not comparable across models with different units"
   ]
  },
  {
   "cell_type": "markdown",
   "metadata": {},
   "source": [
    "### 3. Root-Mean-Squared-Error (RMSE)\n",
    "\n",
    "$\\sqrt{\\frac{1}{n} \\sum (y_t - \\hat{y_t}) ^2}$\n",
    "\n",
    "#### Advantages:\n",
    "- Errors in the unit of interest\n",
    "- Does not overly value outliers\n",
    "\n",
    "#### Disadvantages:\n",
    "- Can only be compared between models whos errors are measured in the same unit"
   ]
  },
  {
   "cell_type": "markdown",
   "metadata": {},
   "source": [
    "### 4. Mean Absolute Percent Error (MAPE)\n",
    "\n",
    "$\\frac{1}{n} \\sum |\\frac{y_t - \\hat{y}_t}{y_t}| * 100$\n",
    "\n",
    "#### Advantages:\n",
    "- Comparable over different models\n",
    "\n",
    "#### Disadvantages:\n",
    "- Is not defined for 0 values"
   ]
  },
  {
   "cell_type": "markdown",
   "metadata": {},
   "source": [
    "### 5. Root Mean Squared Log Error (RMSLE)\n",
    "\n",
    "$\\sqrt{\\frac{1}{n} \\sum (log(y_t + 1) - log(\\hat{y_t} + 1)) ^2}$\n",
    "\n",
    "#### Advantages:\n",
    "- Captures relative error\n",
    "- Penalizes underestimation stronger than overestimation"
   ]
  },
  {
   "cell_type": "markdown",
   "metadata": {},
   "source": [
    "# Score\n",
    "\n",
    "### 6. $R^2$\n",
    "\n",
    "\n",
    "$1 - \\frac{\\sum{(y_i - \\hat{y_i})^2}}{\\sum{(y_i - \\bar{y})^2}}$"
   ]
  },
  {
   "cell_type": "markdown",
   "metadata": {},
   "source": [
    "### 7. $R_{adj}^2$\n",
    "\n",
    "\n",
    "$1 - (1-R^2)\\frac{n-1}{n-p-1} $\n",
    "\n",
    "* n = no.of data points\n",
    "* p = no. of features"
   ]
  },
  {
   "cell_type": "markdown",
   "metadata": {},
   "source": [
    "---"
   ]
  },
  {
   "cell_type": "code",
   "execution_count": 33,
   "metadata": {},
   "outputs": [],
   "source": [
    "from sklearn.metrics import mean_squared_error, mean_squared_log_error, mean_absolute_error, r2_score"
   ]
  },
  {
   "cell_type": "code",
   "execution_count": 34,
   "metadata": {},
   "outputs": [],
   "source": [
    "#paraphased from stackoverflow1!! - link to follow\n",
    "def adj_r2(df, r2_score, y_test, y_pred):\n",
    "    adj_r2 = (1 - (1 - r2_score(y_test,y_pred)) * ((df.shape[0] - 1) / \n",
    "          (df.shape[0] - df.shape[1] - 1)))\n",
    "    return adj_r2"
   ]
  },
  {
   "cell_type": "code",
   "execution_count": 35,
   "metadata": {},
   "outputs": [],
   "source": [
    "mses = []\n",
    "maes = []\n",
    "rmse = []\n",
    "mape = []\n",
    "rmsle = []\n",
    "r2 = []\n",
    "ar2 = []\n",
    "for i, (train_index, validation_index) in enumerate(ts_split.split(X_full, y_full)):\n",
    "    model = LinearRegression()\n",
    "    model.fit(X_full.iloc[train_index], y_full.iloc[train_index])\n",
    "    ypred = model.predict(X_full.iloc[validation_index])\n",
    "    mses.append(mean_squared_error(y_full.iloc[validation_index], ypred))\n",
    "    maes.append(mean_absolute_error(y_full.iloc[validation_index], ypred))\n",
    "    rmse.append(np.sqrt(mean_squared_error(y_full.iloc[validation_index], ypred)))\n",
    "    mape.append(sum(abs((y_full.iloc[validation_index] - ypred) / y_full.iloc[validation_index])) * 100 / len(y_full.iloc[validation_index]))\n",
    "    rmsle.append(np.sqrt(mean_squared_log_error(y_full.iloc[validation_index], ypred)))\n",
    "    r2.append(r2_score(y_full.iloc[validation_index], ypred))\n",
    "    ar2.append(adj_r2(X_full,r2_score,y_full.iloc[validation_index], ypred))"
   ]
  },
  {
   "cell_type": "code",
   "execution_count": 36,
   "metadata": {},
   "outputs": [],
   "source": [
    "#create a descriptive index labelling each time-series split %\n",
    "index = [f'{x}%' for x in range(20,120,20)]"
   ]
  },
  {
   "cell_type": "code",
   "execution_count": 37,
   "metadata": {},
   "outputs": [
    {
     "data": {
      "text/html": [
       "<div>\n",
       "<style scoped>\n",
       "    .dataframe tbody tr th:only-of-type {\n",
       "        vertical-align: middle;\n",
       "    }\n",
       "\n",
       "    .dataframe tbody tr th {\n",
       "        vertical-align: top;\n",
       "    }\n",
       "\n",
       "    .dataframe thead th {\n",
       "        text-align: right;\n",
       "    }\n",
       "</style>\n",
       "<table border=\"1\" class=\"dataframe\">\n",
       "  <thead>\n",
       "    <tr style=\"text-align: right;\">\n",
       "      <th></th>\n",
       "      <th>mse</th>\n",
       "      <th>mae</th>\n",
       "      <th>rmse</th>\n",
       "      <th>mape</th>\n",
       "      <th>rmsle</th>\n",
       "      <th>r2</th>\n",
       "      <th>adj_r2</th>\n",
       "    </tr>\n",
       "  </thead>\n",
       "  <tbody>\n",
       "    <tr>\n",
       "      <th>20%</th>\n",
       "      <td>115.596661</td>\n",
       "      <td>8.894312</td>\n",
       "      <td>10.751589</td>\n",
       "      <td>5.286884</td>\n",
       "      <td>0.064403</td>\n",
       "      <td>0.827279</td>\n",
       "      <td>0.808088</td>\n",
       "    </tr>\n",
       "    <tr>\n",
       "      <th>40%</th>\n",
       "      <td>169.361106</td>\n",
       "      <td>9.659083</td>\n",
       "      <td>13.013881</td>\n",
       "      <td>4.767023</td>\n",
       "      <td>0.064155</td>\n",
       "      <td>0.829140</td>\n",
       "      <td>0.810156</td>\n",
       "    </tr>\n",
       "    <tr>\n",
       "      <th>60%</th>\n",
       "      <td>59.057472</td>\n",
       "      <td>6.265405</td>\n",
       "      <td>7.684886</td>\n",
       "      <td>2.373065</td>\n",
       "      <td>0.028483</td>\n",
       "      <td>0.957301</td>\n",
       "      <td>0.952557</td>\n",
       "    </tr>\n",
       "    <tr>\n",
       "      <th>80%</th>\n",
       "      <td>69.129536</td>\n",
       "      <td>6.404015</td>\n",
       "      <td>8.314417</td>\n",
       "      <td>2.040224</td>\n",
       "      <td>0.026455</td>\n",
       "      <td>0.941919</td>\n",
       "      <td>0.935465</td>\n",
       "    </tr>\n",
       "    <tr>\n",
       "      <th>100%</th>\n",
       "      <td>118.318157</td>\n",
       "      <td>8.776058</td>\n",
       "      <td>10.877415</td>\n",
       "      <td>2.545621</td>\n",
       "      <td>0.031138</td>\n",
       "      <td>0.923082</td>\n",
       "      <td>0.914535</td>\n",
       "    </tr>\n",
       "  </tbody>\n",
       "</table>\n",
       "</div>"
      ],
      "text/plain": [
       "             mse       mae       rmse      mape     rmsle        r2    adj_r2\n",
       "20%   115.596661  8.894312  10.751589  5.286884  0.064403  0.827279  0.808088\n",
       "40%   169.361106  9.659083  13.013881  4.767023  0.064155  0.829140  0.810156\n",
       "60%    59.057472  6.265405   7.684886  2.373065  0.028483  0.957301  0.952557\n",
       "80%    69.129536  6.404015   8.314417  2.040224  0.026455  0.941919  0.935465\n",
       "100%  118.318157  8.776058  10.877415  2.545621  0.031138  0.923082  0.914535"
      ]
     },
     "execution_count": 37,
     "metadata": {},
     "output_type": "execute_result"
    }
   ],
   "source": [
    "evaluations = pd.DataFrame(dict(mse=mses, mae=maes, rmse=rmse, mape=mape, rmsle=rmsle, r2=r2, adj_r2=ar2), index=index)\n",
    "evaluations"
   ]
  },
  {
   "cell_type": "markdown",
   "metadata": {},
   "source": [
    "# if you feel you need to change the cost function in your regression model, MAKE_SCORER function in sklearn to help you!!"
   ]
  },
  {
   "cell_type": "markdown",
   "metadata": {},
   "source": [
    "---"
   ]
  },
  {
   "cell_type": "markdown",
   "metadata": {},
   "source": [
    "# Out of scope - AIC!"
   ]
  }
 ],
 "metadata": {
  "kernelspec": {
   "display_name": "Python 3",
   "language": "python",
   "name": "python3"
  },
  "language_info": {
   "codemirror_mode": {
    "name": "ipython",
    "version": 3
   },
   "file_extension": ".py",
   "mimetype": "text/x-python",
   "name": "python",
   "nbconvert_exporter": "python",
   "pygments_lexer": "ipython3",
   "version": "3.8.3"
  }
 },
 "nbformat": 4,
 "nbformat_minor": 4
}
