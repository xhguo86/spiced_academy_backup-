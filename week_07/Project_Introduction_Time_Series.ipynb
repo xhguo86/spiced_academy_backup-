{
 "cells": [
  {
   "cell_type": "markdown",
   "metadata": {},
   "source": [
    "# Project Time Series\n",
    "\n",
    "## Time Series Data\n",
    "\n",
    "**\"An obvious characteristic of time series data that distinguishes it from cross-sectional data is temporal ordering.\"**<br>\n",
    "- Introductory Econometrics, J. Wooldridge\n",
    "\n",
    "We have seen data with temporal ordering in the course --> Bikesharing data\n",
    "\n",
    "Time Sereis Data has 3 common components. We will talk more about these components in the coming days.\n",
    "\n",
    "## Time Series Analysis\n",
    "\n",
    "Time Series Analysis is a field of statistical Analysis that deals with modelling **time dependence**, one of the components.\n",
    "\n",
    "## Topics we will cover this week\n",
    "\n",
    "- Modle time series data and its different components\n",
    "- Distribution Functions\n",
    "- (Linear) Autoregressive Model\n",
    "- Evaluation of Time Series Models\n",
    "- Visualizing Time Series Data on a Map\n",
    "- ARIMA Model\n",
    "- Statistics of Time Series Analysis\n",
    "\n",
    "## Main Project Goal\n",
    "\n",
    "- Understand the purpose of time series analysis\n",
    "- Get and clean temperature data from www.ecad.eu\n",
    "- Build a baseline model modelling trend and seasonality\n",
    "- Plot and inspect the different components of a time series\n",
    "- Model time dependence of the remainder using an AR model\n",
    "- Compare the statistical output of different AR models\n",
    "- Test the remainder for stationarity\n",
    "- Upload your code to GitHub"
   ]
  },
  {
   "cell_type": "code",
   "execution_count": null,
   "metadata": {},
   "outputs": [],
   "source": []
  }
 ],
 "metadata": {
  "kernelspec": {
   "display_name": "Python 3",
   "language": "python",
   "name": "python3"
  },
  "language_info": {
   "codemirror_mode": {
    "name": "ipython",
    "version": 3
   },
   "file_extension": ".py",
   "mimetype": "text/x-python",
   "name": "python",
   "nbconvert_exporter": "python",
   "pygments_lexer": "ipython3",
   "version": "3.8.3"
  }
 },
 "nbformat": 4,
 "nbformat_minor": 4
}
