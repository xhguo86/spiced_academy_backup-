{
 "cells": [
  {
   "cell_type": "code",
   "execution_count": 1,
   "metadata": {},
   "outputs": [],
   "source": [
    "import pandas as pd\n",
    "import matplotlib.pyplot as plt\n",
    "\n",
    "from statsmodels.graphics.tsaplots import plot_pacf, plot_acf\n",
    "from statsmodels.tsa.ar_model import ar_select_order\n",
    "from statsmodels.tsa.ar_model import AutoReg\n",
    "from statsmodels.tsa.arima.model import ARIMA\n",
    "\n",
    "# Set the figure size to (14,6)\n",
    "plt.rcParams['figure.figsize'] = (14,6)"
   ]
  },
  {
   "cell_type": "markdown",
   "metadata": {},
   "source": [
    "# Warmup\n",
    "\n",
    "## 1) Load the Data"
   ]
  },
  {
   "cell_type": "code",
   "execution_count": null,
   "metadata": {},
   "outputs": [],
   "source": [
    "df = pd.read_csv('arma_process.csv')\n",
    "df.head()"
   ]
  },
  {
   "cell_type": "markdown",
   "metadata": {},
   "source": [
    "## 2) Plot the Data"
   ]
  },
  {
   "cell_type": "code",
   "execution_count": null,
   "metadata": {},
   "outputs": [],
   "source": [
    "df.plot()\n",
    "plt.title('Remainder')\n",
    "plt.show()"
   ]
  },
  {
   "cell_type": "markdown",
   "metadata": {},
   "source": [
    "## 3) Inspect the Partial Autocorrelation and use ar_select_order"
   ]
  },
  {
   "cell_type": "code",
   "execution_count": null,
   "metadata": {},
   "outputs": [],
   "source": [
    "# Plot the partial autocorrelation function\n"
   ]
  },
  {
   "cell_type": "markdown",
   "metadata": {},
   "source": [
    "Inspecting the pacf plot we choose to include 4 lags into our model following the Box-Jenkins-Methodology"
   ]
  },
  {
   "cell_type": "code",
   "execution_count": null,
   "metadata": {},
   "outputs": [],
   "source": [
    "# Use ar_select_order\n",
    "order = ..."
   ]
  },
  {
   "cell_type": "code",
   "execution_count": null,
   "metadata": {},
   "outputs": [],
   "source": [
    "# How many lags does ar_select_order suggest?"
   ]
  },
  {
   "cell_type": "markdown",
   "metadata": {},
   "source": [
    "## 4) Choose number of lags\n",
    "\n",
    "..."
   ]
  },
  {
   "cell_type": "code",
   "execution_count": null,
   "metadata": {},
   "outputs": [],
   "source": [
    "# Fit a statsmodels AutoReg model\n",
    "ar_model = ..."
   ]
  },
  {
   "cell_type": "code",
   "execution_count": null,
   "metadata": {
    "scrolled": true
   },
   "outputs": [],
   "source": [
    "# Look at the summary\n"
   ]
  },
  {
   "cell_type": "code",
   "execution_count": null,
   "metadata": {},
   "outputs": [],
   "source": [
    "# Plot the prediction\n"
   ]
  },
  {
   "cell_type": "markdown",
   "metadata": {},
   "source": [
    "# Looks good! Can we do better?"
   ]
  },
  {
   "cell_type": "code",
   "execution_count": null,
   "metadata": {},
   "outputs": [],
   "source": []
  },
  {
   "cell_type": "code",
   "execution_count": null,
   "metadata": {},
   "outputs": [],
   "source": []
  },
  {
   "cell_type": "code",
   "execution_count": null,
   "metadata": {},
   "outputs": [],
   "source": []
  },
  {
   "cell_type": "code",
   "execution_count": null,
   "metadata": {},
   "outputs": [],
   "source": []
  },
  {
   "cell_type": "code",
   "execution_count": null,
   "metadata": {},
   "outputs": [],
   "source": []
  },
  {
   "cell_type": "code",
   "execution_count": null,
   "metadata": {},
   "outputs": [],
   "source": []
  },
  {
   "cell_type": "code",
   "execution_count": null,
   "metadata": {},
   "outputs": [],
   "source": []
  },
  {
   "cell_type": "markdown",
   "metadata": {},
   "source": [
    "## ARIMA - Autoregressive Integrated Moving Average\n",
    "\n",
    "With the AR model we found a quite decent model for our data. The question is, can we do even better? One way we might be able to improve our model is by including a Moving Average part (MA) into the model. Simply speaking the MA part is just a different way of modeling time dependence (modelling the remainder). Instead of using past values of the variable itself we will use past prediction errors to predict the future. Mathematically this looks like:\n",
    "\n",
    "### L5.1) AR(p)\n",
    "\n",
    "The $AR(p)$ part is just an autoregressive part of the model where *p* denotes the number of lags to include.\n",
    "\n",
    "### L5.2) I(d)\n",
    "\n",
    "The $I(d)$ part is just the part where the model is detrended. *d* determines which order of differencing should be applied to the original time series data before modelling the AR and MA parts. My suggestion is to ignore that part and tell students that modelling the trend took care of this.\n",
    "\n",
    "### L5.3) MA(q)\n",
    "\n",
    "This is the new part that we have not seen before. MA stands for Moving Average. Simply speaking it is just another way of modelling time dependence. Instead of regressing on past lags, the Moving Average approach regresses on past errors:\n",
    "\n",
    "**MA(1):** $y_t = b + \\phi*\\epsilon_{t-1} + \\epsilon_t$\n",
    "\n",
    "or adding more features (lags):\n",
    "\n",
    "**MA(2):** $y_t = b + \\phi_1*\\epsilon_{t-1} + \\phi_2*\\epsilon_{t-2} + \\epsilon_t$\n",
    "\n",
    "or adding more features (lags):\n",
    "\n",
    "**MA(q):** $y_t = b + \\phi_1*\\epsilon_{t-1} + ... + \\phi_q*\\epsilon_{t-q} + \\epsilon_t$\n",
    "\n",
    "\n",
    "### How do we determine the order of the MA term q?\n",
    "\n",
    "Instead of looking at the partial autocorrelation as was the case for the AR model we can look at the autocorrelation between observations $y_t$ and $y_{t-h}$.\n",
    "\n",
    "$$\n",
    "Corr(y_t, y_{t-h}) = \\frac{Cov(y_t, y_{t-h})}{\\sqrt{V(y_t)*V(y_{t-h})}}\n",
    "$$\n",
    "\n",
    "What does the Box-Jenkins method say here:\n",
    "\n",
    "#### \"Value of q\n",
    "The value of q is found from the autocorrelations [...]. If the autocorrelations\n",
    "cut off after a few lags, the last lag with a large value would be the estimated value of q. If the autocorrelations do not cut off, you either have an autoregressive model (q=0) or an ARIMA model with a positive p and q.\"\n",
    "\n",
    "https://www.ncss.com/wp-content/themes/ncss/pdf/Procedures/NCSS/The_Box-Jenkins_Method.pdf"
   ]
  },
  {
   "cell_type": "markdown",
   "metadata": {},
   "source": [
    "# I in fact know that we are dealing with an ARIMA(1,0,1) process."
   ]
  },
  {
   "cell_type": "code",
   "execution_count": null,
   "metadata": {},
   "outputs": [],
   "source": [
    "# Fit an ARIMA model\n",
    "arima_model = ..."
   ]
  },
  {
   "cell_type": "code",
   "execution_count": null,
   "metadata": {},
   "outputs": [],
   "source": [
    "# Look at the summary\n"
   ]
  },
  {
   "cell_type": "code",
   "execution_count": null,
   "metadata": {},
   "outputs": [],
   "source": [
    "# Plot all time series\n"
   ]
  },
  {
   "cell_type": "markdown",
   "metadata": {},
   "source": [
    "## How do I determine which model to choose?\n",
    "\n",
    "Analogous to the PACF_plot for the AR term, we can use the ACF_plot for the MA term. ACF stands for Autocorrelation function. Autocorrelation is defined as the correlation between lags.\n",
    "\n",
    "$$\n",
    "Corr(y_t, y_{t-h}) = \\frac{Cov(y_t, y_{t-h})}{\\sqrt{V(y_t)*V(y_{t-h})}}\n",
    "$$"
   ]
  },
  {
   "cell_type": "code",
   "execution_count": null,
   "metadata": {},
   "outputs": [],
   "source": [
    "# Plot the autocorrelation between lags\n"
   ]
  },
  {
   "cell_type": "code",
   "execution_count": null,
   "metadata": {},
   "outputs": [],
   "source": [
    "# Plot the partial autocorrelation between lags\n"
   ]
  },
  {
   "cell_type": "markdown",
   "metadata": {},
   "source": [
    "Analogous to the plot of the partial autocorrelation for the AR part of the model, the plot of the autocorrelation function gives us an idea which lag to chose for the MA. If there is no clear cutoff this could mean\n",
    "\n",
    "- That the time series is better modelled by a pure AR model\n",
    "- That the time series is best modelled by a model including AR and MA terms (ARIMA)\n",
    "\n",
    "### How to read the ACF-plot and the PACF-plot\n",
    "\n",
    "#### AR process\n",
    "\n",
    "ACF-Plot AR(1)             |  PACF-Plot AR(1)\n",
    ":-------------------------:|:-------------------------:\n",
    "![](./images/acf_ar.png)   |  ![](./images/pacf_ar.png)\n",
    "\n",
    "#### MA process\n",
    "\n",
    "ACF-Plot MA(1)             |  PACF-Plot MA(1)\n",
    ":-------------------------:|:-------------------------:\n",
    "![](./images/acf_ma.png)   |  ![](./images/pacf_ma.png)\n",
    "\n",
    "#### ARIMA process\n",
    "\n",
    "ACF-Plot ARIMA(1,0,1)      |  PACF-Plot ARIMA(1,0,1)\n",
    ":-------------------------:|:-------------------------:\n",
    "![](./images/acf_arima.png)|  ![](./images/pacf_arima.png)"
   ]
  },
  {
   "cell_type": "markdown",
   "metadata": {},
   "source": [
    "# Let's look at the flights remainder"
   ]
  },
  {
   "cell_type": "code",
   "execution_count": 2,
   "metadata": {},
   "outputs": [
    {
     "data": {
      "text/html": [
       "<div>\n",
       "<style scoped>\n",
       "    .dataframe tbody tr th:only-of-type {\n",
       "        vertical-align: middle;\n",
       "    }\n",
       "\n",
       "    .dataframe tbody tr th {\n",
       "        vertical-align: top;\n",
       "    }\n",
       "\n",
       "    .dataframe thead th {\n",
       "        text-align: right;\n",
       "    }\n",
       "</style>\n",
       "<table border=\"1\" class=\"dataframe\">\n",
       "  <thead>\n",
       "    <tr style=\"text-align: right;\">\n",
       "      <th></th>\n",
       "      <th>remainder</th>\n",
       "    </tr>\n",
       "    <tr>\n",
       "      <th>date</th>\n",
       "      <th></th>\n",
       "    </tr>\n",
       "  </thead>\n",
       "  <tbody>\n",
       "    <tr>\n",
       "      <th>1949-01-01</th>\n",
       "      <td>4.405303</td>\n",
       "    </tr>\n",
       "    <tr>\n",
       "      <th>1949-02-01</th>\n",
       "      <td>17.496212</td>\n",
       "    </tr>\n",
       "    <tr>\n",
       "      <th>1949-03-01</th>\n",
       "      <td>7.496212</td>\n",
       "    </tr>\n",
       "    <tr>\n",
       "      <th>1949-04-01</th>\n",
       "      <td>9.587121</td>\n",
       "    </tr>\n",
       "    <tr>\n",
       "      <th>1949-05-01</th>\n",
       "      <td>-5.231061</td>\n",
       "    </tr>\n",
       "  </tbody>\n",
       "</table>\n",
       "</div>"
      ],
      "text/plain": [
       "            remainder\n",
       "date                 \n",
       "1949-01-01   4.405303\n",
       "1949-02-01  17.496212\n",
       "1949-03-01   7.496212\n",
       "1949-04-01   9.587121\n",
       "1949-05-01  -5.231061"
      ]
     },
     "execution_count": 2,
     "metadata": {},
     "output_type": "execute_result"
    }
   ],
   "source": [
    "remainder = pd.read_csv('flights_remainder.csv', index_col=0, parse_dates=True)\n",
    "remainder.head()"
   ]
  },
  {
   "cell_type": "code",
   "execution_count": 3,
   "metadata": {},
   "outputs": [
    {
     "data": {
      "image/png": "[encoded data removed]",
      "text/plain": [
       "<Figure size 1008x432 with 1 Axes>"
      ]
     },
     "metadata": {
      "needs_background": "light"
     },
     "output_type": "display_data"
    }
   ],
   "source": [
    "# Plot the partial autocorrelation\n",
    "plot_pacf(remainder);"
   ]
  },
  {
   "cell_type": "code",
   "execution_count": 4,
   "metadata": {},
   "outputs": [
    {
     "data": {
      "image/png": "[encoded data removed]",
      "text/plain": [
       "<Figure size 1008x432 with 1 Axes>"
      ]
     },
     "metadata": {
      "needs_background": "light"
     },
     "output_type": "display_data"
    }
   ],
   "source": [
    "# Plot the autocorrelation\n",
    "plot_acf(remainder);"
   ]
  },
  {
   "cell_type": "code",
   "execution_count": null,
   "metadata": {},
   "outputs": [],
   "source": []
  },
  {
   "cell_type": "markdown",
   "metadata": {},
   "source": [
    "# Integrated(I)\n",
    "\n",
    "Integrating a time series is an alternative way to model a trend of the time series.\n",
    "\n",
    "if $y_t$ is our time series, then $y_t - y_{t-1}$ would be the time series integrated by order 1: I(1)"
   ]
  },
  {
   "cell_type": "code",
   "execution_count": null,
   "metadata": {},
   "outputs": [],
   "source": []
  }
 ],
 "metadata": {
  "kernelspec": {
   "display_name": "Python 3",
   "language": "python",
   "name": "python3"
  },
  "language_info": {
   "codemirror_mode": {
    "name": "ipython",
    "version": 3
   },
   "file_extension": ".py",
   "mimetype": "text/x-python",
   "name": "python",
   "nbconvert_exporter": "python",
   "pygments_lexer": "ipython3",
   "version": "3.8.3"
  }
 },
 "nbformat": 4,
 "nbformat_minor": 4
}
