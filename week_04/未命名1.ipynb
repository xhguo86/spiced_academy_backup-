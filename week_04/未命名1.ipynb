{
 "cells": [
  {
   "cell_type": "code",
   "execution_count": 13,
   "metadata": {},
   "outputs": [
    {
     "name": "stdout",
     "output_type": "stream",
     "text": [
      "what about life\n"
     ]
    },
    {
     "data": {
      "text/plain": [
       "array(['MJ'], dtype=object)"
      ]
     },
     "execution_count": 13,
     "metadata": {},
     "output_type": "execute_result"
    }
   ],
   "source": [
    "#!/usr/bin/env python\n",
    "# coding: utf-8\n",
    "\"\"\"\n",
    "Dummy lyrics predictor\n",
    "\"\"\"\n",
    "\n",
    "# 1. imports\n",
    "import sys\n",
    "import pandas as pd\n",
    "import numpy as np\n",
    "from sklearn.feature_extraction.text import CountVectorizer\n",
    "import operator\n",
    "from sklearn.linear_model import LogisticRegression\n",
    "from sklearn.model_selection import cross_val_score, cross_validate\n",
    "import os\n",
    "from sklearn.model_selection import train_test_split as tts\n",
    "from sklearn.feature_extraction.text import TfidfVectorizer\n",
    "\n",
    "# 2. constants\n",
    "\n",
    "filepath1 = '/home/guo/download/Taylor-Swift/'\n",
    "filepath2 = '/home/guo/download/Michael-Jackson/'\n",
    "\n",
    "# 3. function definitions\n",
    "# clean text\n",
    "def clean_text(text):\n",
    "    clean_text = text.replace('\\n', ' ').strip()\n",
    "    return clean_text\n",
    "\n",
    "def song_as_string(filepath):\n",
    "    files = os.listdir(filepath)\n",
    "    corpus = []\n",
    "    i = 0\n",
    "    for fn in files:\n",
    "            # get filename名称的信息  \n",
    "            filename = filepath + os.sep + files[i]    \n",
    "            # read file\n",
    "            if fn.endswith('txt'):\n",
    "                text = open(filename).read()\n",
    "                text_cl = clean_text(text)\n",
    "                corpus.append(text_cl)\n",
    "            i += 1\n",
    "    return corpus\n",
    "\n",
    "# clean text\n",
    "def clean_text(text):\n",
    "    clean_text = text.replace('\\n', ' ').strip()\n",
    "    return clean_text\n",
    "\n",
    "# change the list in the file as strings in line\n",
    "def lines_as_str(lyrics_lines):\n",
    "    s_list = []\n",
    "    for line in open(lyrics_lines):\n",
    "        if line != '\\n':\n",
    "            n=0\n",
    "            line = clean_text(line)\n",
    "            s_list.append(line)\n",
    "            n+=1  \n",
    "    return s_list \n",
    "\n",
    "def predict_artist(lyrics_input):\n",
    "    \"\"\"returns the probable name of the artist given some text\"\"\"\n",
    "    string1 = song_as_string(filepath1)\n",
    "    string2 = song_as_string(filepath2)\n",
    "    l1=len(string1)\n",
    "    l2=len(string2)\n",
    "    corpus = string1 + string2  \n",
    "    labels = ['Taylor-Swift'] * l1  + ['MJ'] * l2\n",
    "    data = {'star': labels, 'lyrics': corpus}\n",
    "    df = pd.DataFrame(data)\n",
    "    X = df.iloc[:,0:]\n",
    "    y = df['star']\n",
    "    # train test split\n",
    "    Xtrain, Xtest, ytrain, ytest = tts(X,y,train_size=0.8)\n",
    " \n",
    "    cv = TfidfVectorizer(stop_words='english',min_df=0.00001,ngram_range=(1,2))\n",
    "    cv.fit(Xtrain)\n",
    "    X1 = cv.fit_transform(Xtrain['lyrics']) \n",
    "    X_df = pd.DataFrame(X1.todense(), columns=cv.get_feature_names(), index=Xtrain['star'])\n",
    "\n",
    "    m_lr = LogisticRegression(C=0.01,class_weight='balanced')\n",
    "    m_lr.fit(X_df, ytrain)\n",
    "    \n",
    "    lyrics_input_t = cv.transform([lyrics_input])  \n",
    "    #probs = m_lr.predict_proba(lyrics_input_t)\n",
    "    #df1 = pd.DataFrame(probs)\n",
    "    # score0 = df1.iloc[0,0]\n",
    "    #if score0 > 0.50:\n",
    "        #return  print('Taylor Swift','possibility is',score0)\n",
    "    # else:\n",
    "    return m_lr.predict(lyrics_input_t)\n",
    "\n",
    "# 4. main program\n",
    "# prediction with user input\n",
    "user = input()\n",
    "print(predict_artist(user))"
   ]
  },
  {
   "cell_type": "code",
   "execution_count": null,
   "metadata": {},
   "outputs": [],
   "source": []
  }
 ],
 "metadata": {
  "kernelspec": {
   "display_name": "Python 3",
   "language": "python",
   "name": "python3"
  },
  "language_info": {
   "codemirror_mode": {
    "name": "ipython",
    "version": 3
   },
   "file_extension": ".py",
   "mimetype": "text/x-python",
   "name": "python",
   "nbconvert_exporter": "python",
   "pygments_lexer": "ipython3",
   "version": "3.8.3"
  }
 },
 "nbformat": 4,
 "nbformat_minor": 4
}
