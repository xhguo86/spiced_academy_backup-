{
 "cells": [
  {
   "cell_type": "code",
   "execution_count": 5,
   "metadata": {},
   "outputs": [],
   "source": [
    "import os\n",
    "\n",
    "import requests\n",
    "from bs4 import BeautifulSoup"
   ]
  },
  {
   "cell_type": "markdown",
   "metadata": {},
   "source": [
    "# 1) What is a function?"
   ]
  },
  {
   "cell_type": "markdown",
   "metadata": {},
   "source": [
    "- A set of rule that takes some parameters and returns some output\n",
    "- A code snippet calle by a function name\n",
    "- (An object)\n",
    "\n",
    "\"a function is a self-contained block of code that encapsulates a specific task or related group of tasks.\" - realpython.org"
   ]
  },
  {
   "cell_type": "markdown",
   "metadata": {},
   "source": [
    "# 2) Elements of function"
   ]
  },
  {
   "cell_type": "markdown",
   "metadata": {},
   "source": [
    "- has a name\n",
    "- we can pass parameters to a function\n",
    "- task of the function\n",
    "- returns some output"
   ]
  },
  {
   "cell_type": "markdown",
   "metadata": {},
   "source": [
    "# 3) Advantages of functions"
   ]
  },
  {
   "cell_type": "markdown",
   "metadata": {},
   "source": [
    "- Reusability; DRY - Don't repeat yourself\n",
    "    - Repetition makes the code less readable\n",
    "    - Repetition increases the chance of bugs / repetition makes it hard to maintain the code\n",
    "    - Using functions will make you code faster\n",
    "- Modularity\n",
    "    - Writing functions that perform smaller tasks makes writing the code a lot easier"
   ]
  },
  {
   "cell_type": "markdown",
   "metadata": {},
   "source": [
    "# 4) Function definition"
   ]
  },
  {
   "cell_type": "code",
   "execution_count": 6,
   "metadata": {},
   "outputs": [],
   "source": [
    "def function_name(): # function_names are usually written with underscores and all lowercase strings\n",
    "    ..."
   ]
  },
  {
   "cell_type": "code",
   "execution_count": 7,
   "metadata": {},
   "outputs": [],
   "source": [
    "function_name()"
   ]
  },
  {
   "cell_type": "code",
   "execution_count": 8,
   "metadata": {},
   "outputs": [],
   "source": [
    "def return_five():\n",
    "    result = 5\n",
    "    return result # return statement is important for the concept of functions; every time we want to return some result, we will have to use the return statement"
   ]
  },
  {
   "cell_type": "code",
   "execution_count": 9,
   "metadata": {},
   "outputs": [
    {
     "data": {
      "text/plain": [
       "5"
      ]
     },
     "execution_count": 9,
     "metadata": {},
     "output_type": "execute_result"
    }
   ],
   "source": [
    "return_five()"
   ]
  },
  {
   "cell_type": "code",
   "execution_count": 10,
   "metadata": {},
   "outputs": [],
   "source": [
    "def return_number(number=3):\n",
    "    return number"
   ]
  },
  {
   "cell_type": "code",
   "execution_count": 11,
   "metadata": {},
   "outputs": [
    {
     "data": {
      "text/plain": [
       "5"
      ]
     },
     "execution_count": 11,
     "metadata": {},
     "output_type": "execute_result"
    }
   ],
   "source": [
    "return_number(5)"
   ]
  },
  {
   "cell_type": "code",
   "execution_count": 12,
   "metadata": {},
   "outputs": [],
   "source": [
    "def add_one(number):\n",
    "    \"\"\"\n",
    "    Short descritpiton of what the function does. Adds the integer 1 to some numerical input.\n",
    "    \n",
    "    Parameters\n",
    "    ----------\n",
    "    number : int, float\n",
    "        The input number to which the function will add the value one\n",
    "    \n",
    "    \n",
    "    Returns\n",
    "    -------\n",
    "    int, float\n",
    "        The value after 1 is added to the input\n",
    "    \n",
    "    \"\"\"\n",
    "    return number + 1"
   ]
  },
  {
   "cell_type": "code",
   "execution_count": 13,
   "metadata": {},
   "outputs": [
    {
     "data": {
      "text/plain": [
       "2"
      ]
     },
     "execution_count": 13,
     "metadata": {},
     "output_type": "execute_result"
    }
   ],
   "source": [
    "add_one(1)"
   ]
  },
  {
   "cell_type": "markdown",
   "metadata": {},
   "source": [
    "Let's write some code that parses the website https://spiced.academy/en/program/data-science and returns the curriculum descriptions in a list."
   ]
  },
  {
   "cell_type": "code",
   "execution_count": 14,
   "metadata": {},
   "outputs": [],
   "source": [
    "# Define the url\n",
    "url_ds = 'https://spiced.academy/en/program/data-science'\n",
    "\n",
    "# Send the get request to the web server\n",
    "response = requests.get(url_ds).text\n",
    "\n",
    "# Parse the html using BeautifulSoup\n",
    "html_parsed_ds = BeautifulSoup(response)"
   ]
  },
  {
   "cell_type": "code",
   "execution_count": 59,
   "metadata": {},
   "outputs": [],
   "source": [
    "# This cell will append the headers and descriptions of the curriculum to a list\n",
    "curriculum_sections = []\n",
    "for section in html_parsed_ds.find_all('div', attrs={'class': 'curriculum-mini-section'}):\n",
    "    curriculum_sections.append(section.text)"
   ]
  },
  {
   "cell_type": "code",
   "execution_count": 22,
   "metadata": {},
   "outputs": [],
   "source": [
    "# This cell would instead save the descriptions to files in a directory\n",
    "current_workingdirectory = os.getcwd()\n",
    "new_directory = 'data-science'\n",
    "\n",
    "for section in html_parsed_ds.find_all('div', attrs={'class': 'curriculum-mini-section'}):\n",
    "    filename = current_workingdirectory + '/' + new_directory + '/' + section.find_all('h3')[0].text\n",
    "    with open(filename, 'w') as file:\n",
    "        file.write(section.find_all('h3')[1].text)    "
   ]
  },
  {
   "cell_type": "code",
   "execution_count": 75,
   "metadata": {},
   "outputs": [],
   "source": [
    "def clean_text(text):\n",
    "    '''\n",
    "    Cleans the curriculum descriptions from line breaks.\n",
    "    \n",
    "    Parameters\n",
    "    ----------\n",
    "    text : str\n",
    "        The description to clean\n",
    "    \n",
    "    Returns\n",
    "    -------\n",
    "    str\n",
    "        Clean description\n",
    "    '''\n",
    "    clean_text = text.replace('\\n', ' ').strip()\n",
    "    return clean_text"
   ]
  },
  {
   "cell_type": "code",
   "execution_count": 72,
   "metadata": {},
   "outputs": [],
   "source": [
    "def scrape_curriculum(url):\n",
    "    '''\n",
    "    Scrapes the curriculum descriptions of Spiced Academy courses provided the ulr of the program.\n",
    "    \n",
    "    Parameters\n",
    "    ----------\n",
    "    url : str\n",
    "        The url of the program\n",
    "        \n",
    "    Returns\n",
    "    -------\n",
    "    list\n",
    "        List of descritptions\n",
    "    '''\n",
    "    response = requests.get(url).text\n",
    "    html_parsed = BeautifulSoup(response)\n",
    "    curriculum_sections = []\n",
    "    for section in html_parsed.find_all('div', attrs={'class': 'curriculum-mini-section'}):\n",
    "        text = clean_text(section.text)\n",
    "        curriculum_sections.append(text)\n",
    "    return curriculum_sections"
   ]
  },
  {
   "cell_type": "code",
   "execution_count": 74,
   "metadata": {},
   "outputs": [],
   "source": [
    "# Let's use the function for full stack\n",
    "url_full_stack = 'https://spiced.academy/en/program/full-stack-web-development'\n",
    "\n",
    "scrape_curriculum(url_full_stack)"
   ]
  },
  {
   "cell_type": "code",
   "execution_count": 29,
   "metadata": {},
   "outputs": [],
   "source": [
    "def scrape_curriculum_and_save(program):\n",
    "    '''\n",
    "    Scrapes the curriculum descriptions of Spiced Academy courses provided the ulr of the program. The descriptions\n",
    "    are saved in a new directory under the current working directory.\n",
    "    \n",
    "    Parameters\n",
    "    ----------\n",
    "    program : str\n",
    "        The name of the program that we want to extract\n",
    "    '''\n",
    "    url = 'https://spiced.academy/en/program/' + program\n",
    "    response = requests.get(url).text\n",
    "    html_parsed = BeautifulSoup(response)\n",
    "    curriculum_sections = []\n",
    "    current_workingdirectory = os.getcwd()\n",
    "    os.mkdir(current_workingdirectory+'/'+program)\n",
    "    for section in html_parsed.find_all('div', attrs={'class': 'curriculum-mini-section'}):\n",
    "        filename = current_workingdirectory + '/' + program + '/' + section.find_all('h3')[0].text\n",
    "        with open(filename, 'w') as file:\n",
    "            file.write(section.find_all('h3')[1].text)\n",
    "#    return curriculum_sections"
   ]
  },
  {
   "cell_type": "code",
   "execution_count": 32,
   "metadata": {},
   "outputs": [],
   "source": [
    "scrape_curriculum_and_save('data-science')"
   ]
  },
  {
   "cell_type": "code",
   "execution_count": 33,
   "metadata": {},
   "outputs": [],
   "source": [
    "scrape_curriculum_and_save('full-stack-web-development')"
   ]
  },
  {
   "cell_type": "code",
   "execution_count": 34,
   "metadata": {},
   "outputs": [],
   "source": [
    "# Opening a file in python\n",
    "maths_functions = open('maths_functions.py', 'r')\n",
    "maths_functions.read()\n",
    "maths_functions.close()"
   ]
  },
  {
   "cell_type": "code",
   "execution_count": 38,
   "metadata": {},
   "outputs": [],
   "source": [
    "# Open a file with a context manager\n",
    "with open('maths_functions.py', 'r') as file:\n",
    "    file.read()"
   ]
  },
  {
   "cell_type": "code",
   "execution_count": 40,
   "metadata": {},
   "outputs": [],
   "source": [
    "# To use RegEx for Python\n",
    "import re"
   ]
  },
  {
   "cell_type": "code",
   "execution_count": 46,
   "metadata": {},
   "outputs": [
    {
     "data": {
      "text/plain": [
       "['Hi']"
      ]
     },
     "execution_count": 46,
     "metadata": {},
     "output_type": "execute_result"
    }
   ],
   "source": [
    "pattern = '.+'\n",
    "re.findall(pattern=pattern, string='Hi')"
   ]
  },
  {
   "cell_type": "code",
   "execution_count": null,
   "metadata": {},
   "outputs": [],
   "source": []
  }
 ],
 "metadata": {
  "kernelspec": {
   "display_name": "Python 3",
   "language": "python",
   "name": "python3"
  },
  "language_info": {
   "codemirror_mode": {
    "name": "ipython",
    "version": 3
   },
   "file_extension": ".py",
   "mimetype": "text/x-python",
   "name": "python",
   "nbconvert_exporter": "python",
   "pygments_lexer": "ipython3",
   "version": "3.8.3"
  }
 },
 "nbformat": 4,
 "nbformat_minor": 4
}
