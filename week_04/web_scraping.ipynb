{
 "cells": [
  {
   "cell_type": "markdown",
   "metadata": {},
   "source": [
    "# Request html document from the webserver"
   ]
  },
  {
   "cell_type": "code",
   "execution_count": 2,
   "metadata": {},
   "outputs": [
    {
     "name": "stdout",
     "output_type": "stream",
     "text": [
      "Requirement already satisfied: requests in /Users/stefanroth/anaconda3/lib/python3.8/site-packages (2.24.0)\n",
      "Requirement already satisfied: chardet<4,>=3.0.2 in /Users/stefanroth/anaconda3/lib/python3.8/site-packages (from requests) (3.0.4)\n",
      "Requirement already satisfied: idna<3,>=2.5 in /Users/stefanroth/anaconda3/lib/python3.8/site-packages (from requests) (2.10)\n",
      "Requirement already satisfied: urllib3!=1.25.0,!=1.25.1,<1.26,>=1.21.1 in /Users/stefanroth/anaconda3/lib/python3.8/site-packages (from requests) (1.25.11)\n",
      "Requirement already satisfied: certifi>=2017.4.17 in /Users/stefanroth/anaconda3/lib/python3.8/site-packages (from requests) (2020.6.20)\n"
     ]
    }
   ],
   "source": [
    "!pip install requests"
   ]
  },
  {
   "cell_type": "code",
   "execution_count": 3,
   "metadata": {},
   "outputs": [],
   "source": [
    "import requests"
   ]
  },
  {
   "cell_type": "code",
   "execution_count": 4,
   "metadata": {},
   "outputs": [],
   "source": [
    "url = 'https://www.lyrics.com/artist/Queen/5205'"
   ]
  },
  {
   "cell_type": "code",
   "execution_count": 5,
   "metadata": {},
   "outputs": [],
   "source": [
    "response = requests.get(url)"
   ]
  },
  {
   "cell_type": "code",
   "execution_count": 6,
   "metadata": {},
   "outputs": [
    {
     "data": {
      "text/plain": [
       "200"
      ]
     },
     "execution_count": 6,
     "metadata": {},
     "output_type": "execute_result"
    }
   ],
   "source": [
    "# Check the status code\n",
    "response.status_code\n",
    "\n",
    "# 200: means that the request was valid and we got what we asked for\n",
    "# 404: Page not found\n",
    "\n",
    "# Everything with 400 means that we made a mistake or are not authorized\n",
    "\n",
    "# Everything with 500 means that there is an error on the server side"
   ]
  },
  {
   "cell_type": "code",
   "execution_count": 7,
   "metadata": {},
   "outputs": [
    {
     "name": "stdout",
     "output_type": "stream",
     "text": [
      "\n",
      "<!doctype html>\n",
      "<!--[if lt IE 7]> <html\n"
     ]
    }
   ],
   "source": [
    "# Where is the html\n",
    "print(response.text[:40])"
   ]
  },
  {
   "cell_type": "code",
   "execution_count": 8,
   "metadata": {},
   "outputs": [],
   "source": [
    "html = response.text"
   ]
  },
  {
   "cell_type": "markdown",
   "metadata": {},
   "source": [
    "# How can we use the structure that the html document provides us to our advantage?\n",
    "\n",
    "-> Parse html"
   ]
  },
  {
   "cell_type": "code",
   "execution_count": 9,
   "metadata": {},
   "outputs": [
    {
     "name": "stdout",
     "output_type": "stream",
     "text": [
      "Requirement already satisfied: beautifulsoup4 in /Users/stefanroth/anaconda3/lib/python3.8/site-packages (4.9.3)\n",
      "Requirement already satisfied: soupsieve>1.2 in /Users/stefanroth/anaconda3/lib/python3.8/site-packages (from beautifulsoup4) (2.0.1)\n"
     ]
    }
   ],
   "source": [
    "!pip install beautifulsoup4"
   ]
  },
  {
   "cell_type": "code",
   "execution_count": 10,
   "metadata": {},
   "outputs": [],
   "source": [
    "from bs4 import BeautifulSoup"
   ]
  },
  {
   "cell_type": "code",
   "execution_count": 11,
   "metadata": {},
   "outputs": [],
   "source": [
    "parsed_html = BeautifulSoup(html)"
   ]
  },
  {
   "cell_type": "code",
   "execution_count": 12,
   "metadata": {},
   "outputs": [],
   "source": [
    "# print(parsed_html.prettify())"
   ]
  },
  {
   "cell_type": "code",
   "execution_count": 13,
   "metadata": {},
   "outputs": [
    {
     "data": {
      "text/plain": [
       "<div id=\"fb-root\"></div>"
      ]
     },
     "execution_count": 13,
     "metadata": {},
     "output_type": "execute_result"
    }
   ],
   "source": [
    "# Find the body of the html document\n",
    "parsed_html.find('body').find('div')"
   ]
  },
  {
   "cell_type": "markdown",
   "metadata": {},
   "source": [
    "# Extract the curriculum from https://spiced.academy/de/program/data-science"
   ]
  },
  {
   "cell_type": "code",
   "execution_count": 14,
   "metadata": {},
   "outputs": [
    {
     "data": {
      "text/plain": [
       "200"
      ]
     },
     "execution_count": 14,
     "metadata": {},
     "output_type": "execute_result"
    }
   ],
   "source": [
    "# Request the page\n",
    "spiced_response = requests.get('https://spiced.academy/de/program/data-science')\n",
    "spiced_response.status_code"
   ]
  },
  {
   "cell_type": "code",
   "execution_count": 15,
   "metadata": {},
   "outputs": [],
   "source": [
    "# Turn this into a BeautifulSoup object\n",
    "parsed_spiced_html = BeautifulSoup(spiced_response.text)"
   ]
  },
  {
   "cell_type": "code",
   "execution_count": 16,
   "metadata": {},
   "outputs": [],
   "source": [
    "#print(parsed_spiced_html.prettify())"
   ]
  },
  {
   "cell_type": "code",
   "execution_count": 17,
   "metadata": {},
   "outputs": [
    {
     "data": {
      "text/plain": [
       "'Werde fließend im Umgang mit Python zur Analyse, Sammlung und Visualisierung von Daten, mit Fokus auf leistungsstarke Bibliotheken wie Pandas & NumPy.'"
      ]
     },
     "execution_count": 17,
     "metadata": {},
     "output_type": "execute_result"
    }
   ],
   "source": [
    "# Find all h3 tags\n",
    "parsed_spiced_html.find_all('h3', attrs={'class': 'mob-hidden'})[1].text\n",
    "\n",
    "# returns a bs4.ResultSet; it behaves like a list"
   ]
  },
  {
   "cell_type": "code",
   "execution_count": 18,
   "metadata": {},
   "outputs": [
    {
     "name": "stdout",
     "output_type": "stream",
     "text": [
      "Werde fließend im Umgang mit Python zur Analyse, Sammlung und Visualisierung von Daten, mit Fokus auf leistungsstarke Bibliotheken wie Pandas & NumPy.\n",
      "\n",
      "\n",
      "Tauche ein in die Welt des überwachten und unüberwachten Lernens, mit Modulen und Frameworks, wie SciKit-Learn und Statsmodels.\n",
      "\n",
      "\n",
      "Lern Daten in SQL-Datenbanken wie PostgreSQL zu organisieren, zu speichern und wieder abzurufen.\n",
      "\n",
      "\n",
      "Stell deinen Code live auf externen Servern mit Docker und AWS bereit und baue dir ein Online-Dashboard.\n",
      "\n",
      "\n",
      "Erlerne hochaktuelle Engineering-Skills, um größere Python-Anwendungen zu schreiben, zu testen und zu deployen.\n",
      "\n",
      "\n",
      "Über den gesamten Kursverlauf hinweg verwendest Du Git und GitHub zur Versionskontrolle Deines Codes und für die Arbeit im Team.\n",
      "\n",
      "\n"
     ]
    }
   ],
   "source": [
    "for entry in parsed_spiced_html.find_all('h3', attrs={'class': 'mob-hidden'})[1:]:\n",
    "    print(entry.text)\n",
    "    print('\\n')"
   ]
  },
  {
   "cell_type": "code",
   "execution_count": 19,
   "metadata": {},
   "outputs": [
    {
     "data": {
      "text/plain": [
       "'/'"
      ]
     },
     "execution_count": 19,
     "metadata": {},
     "output_type": "execute_result"
    }
   ],
   "source": [
    "# You can walk down the hierarchies with beautiful soup\n",
    "parsed_spiced_html.find('body').div.a.get('href')"
   ]
  },
  {
   "cell_type": "code",
   "execution_count": null,
   "metadata": {},
   "outputs": [],
   "source": []
  }
 ],
 "metadata": {
  "kernelspec": {
   "display_name": "Python 3",
   "language": "python",
   "name": "python3"
  },
  "language_info": {
   "codemirror_mode": {
    "name": "ipython",
    "version": 3
   },
   "file_extension": ".py",
   "mimetype": "text/x-python",
   "name": "python",
   "nbconvert_exporter": "python",
   "pygments_lexer": "ipython3",
   "version": "3.8.3"
  }
 },
 "nbformat": 4,
 "nbformat_minor": 4
}
