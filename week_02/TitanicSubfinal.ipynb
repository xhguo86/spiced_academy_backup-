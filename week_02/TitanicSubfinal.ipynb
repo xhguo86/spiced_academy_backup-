{
 "cells": [
  {
   "cell_type": "code",
   "execution_count": 1,
   "metadata": {},
   "outputs": [],
   "source": [
    "# Submission for the Titanic challenge by M6sB5n  -final version using decision trees -0.78468  \n",
    "import pandas as pd\n",
    "#from sklearn.linear_model import LogisticRegression     \n",
    "from sklearn.metrics import accuracy_score\n",
    "from sklearn.pipeline import make_pipeline\n",
    "from sklearn.compose import ColumnTransformer\n",
    "from sklearn.impute import SimpleImputer\n",
    "from sklearn.preprocessing import OneHotEncoder, MinMaxScaler, KBinsDiscretizer\n",
    "from sklearn.tree import DecisionTreeClassifier, plot_tree\n",
    "# We already got splitted test data. Following import just noted for completeness.\n",
    "#from sklearn.model_selection import train_test_split as tts "
   ]
  },
  {
   "cell_type": "code",
   "execution_count": 3,
   "metadata": {},
   "outputs": [],
   "source": [
    "# read the data\n",
    "df = pd.read_csv('data/train.csv',  index_col=0)\n",
    "y = df['Survived']\n",
    "#Since the test data does not contain the column 'Survived', i dropped it thereby pleasing the ColumnTransformer\n",
    "df.drop(['Survived'], axis=1, inplace=True)   \n",
    "# load test data\n",
    "# Subsequent splitting needed, if data not yet divided. X input/independent data. y target/dependent data. random_state=<number> ensures determined randomnes.\n",
    "#Xtrain, Xtest, ytrain, ytest = tts(df_X, df_y, random_state=42)"
   ]
  },
  {
   "cell_type": "code",
   "execution_count": 4,
   "metadata": {},
   "outputs": [],
   "source": [
    "##################################### feature engeneering vfinal\n",
    "#df.head()"
   ]
  },
  {
   "cell_type": "code",
   "execution_count": 5,
   "metadata": {},
   "outputs": [],
   "source": [
    "# manual binning: all options presented by KBinDiscretizer upon this data set produce grouping in a mathematical but not biological sensical manner\n",
    "# Thus manual bining within \"reasonable\" edges \n",
    "df['Age'] = pd.cut(df['Age'].fillna(df.groupby(['Pclass', 'Sex'])['Age'].transform('mean')), bins=(0,10,18,30,45,60,100), labels=['A0_10', 'A11_18','A19_30','A31_45','A46_60','A60_99']);"
   ]
  },
  {
   "cell_type": "code",
   "execution_count": 6,
   "metadata": {},
   "outputs": [],
   "source": [
    "# Since Embarkment could correlate with survival chances by i.e.options of accommodation or embarkment habour as econimical attractor for certain classes(i.e by geography,\n",
    "# infrastratur, ...)                   \n",
    "pipeEmbarked = make_pipeline(\n",
    "    SimpleImputer(strategy='most_frequent'),\n",
    "    OneHotEncoder(sparse=False, handle_unknown='ignore')\n",
    "    #OneHotEncoder(sparse=False, handle_unknown='ignore')\n",
    ")"
   ]
  },
  {
   "cell_type": "code",
   "execution_count": 40,
   "metadata": {},
   "outputs": [],
   "source": [
    "trans_Sex_Pclass_Age_Emb = ColumnTransformer([\n",
    "    ('Cat_Sex_Pclass', OneHotEncoder(sparse=False, handle_unknown='ignore'), ['Sex','Pclass']),\n",
    "    #('Cat_Age', KBinsDiscretizer(n_bins=4, encode='onehot-dense', strategy='quantile'),['Age']),      # manual binning performed better\n",
    "    ('Cat_Age', OneHotEncoder(sparse=False, handle_unknown='ignore'), ['Age']),    # needs binninig\n",
    "    #('Cat_Fare', KBinsDiscretizer(n_bins=4, encode='onehot-dense', strategy='quantile'),['Fare']),    # decresed score... might be to strong correlated with Pclass\n",
    "    ('Imp_Embarked', pipeEmbarked, ['Embarked']),\n",
    "    #('Cat_Sib', OneHotEncoder(sparse=False, handle_unknown='ignore'), ['SibSp']),     #did not change the score\n",
    "    #('Cat_Parch', 'passthrough', ['Parch'])                                           #not implemented\n",
    "    #Name                                                                              #not immplemented\n",
    "])"
   ]
  },
  {
   "cell_type": "code",
   "execution_count": 41,
   "metadata": {},
   "outputs": [],
   "source": [
    "trans_Sex_Pclass_Age_Emb.fit(df);    #fits the transormer\n",
    "df_train = trans_Sex_Pclass_Age_Emb.transform(df) "
   ]
  },
  {
   "cell_type": "code",
   "execution_count": 42,
   "metadata": {},
   "outputs": [],
   "source": [
    "#switch to decision tree model\n",
    "model = DecisionTreeClassifier(max_depth=4)"
   ]
  },
  {
   "cell_type": "raw",
   "metadata": {},
   "source": [
    "models = [\n",
    "          ('logreg', LogisticRegression()),\n",
    "          ('tree', DecisionTreeClassifier(max_depth=4)),\n",
    "          #('svm', SVC(kernel='rbf'))                    # did not improve!\n",
    "]\n",
    "m = VotingClassifier(models)\n",
    "\n",
    "m.fit(df_train, y)\n",
    "m.score(df_train, y)"
   ]
  },
  {
   "cell_type": "code",
   "execution_count": 49,
   "metadata": {},
   "outputs": [],
   "source": [
    "# Fitting and Training the model\n",
    "model.fit(df_train, y)    # trains the model\n",
    "ypred_train = model.predict(df_train)  "
   ]
  },
  {
   "cell_type": "code",
   "execution_count": 50,
   "metadata": {},
   "outputs": [],
   "source": [
    "# load and transform the test data\n",
    "test = pd.read_csv('../data/test.csv',  index_col=0)\n",
    "test['Age'] = pd.cut(test['Age'].fillna(test.groupby(['Pclass', 'Sex'])['Age'].transform('mean')),  bins=(0,10,18,30,45,60,100), labels=['A0_10', 'A11_18','A19_30','A31_45','A46_60','A60_99'])\n",
    "#there is a missing value in the test data for the fares\n",
    "#test['Fare'] = test['Fare'].fillna(test.groupby(['Pclass', 'Sex'])['Fare'].transform('mean'))"
   ]
  },
  {
   "cell_type": "code",
   "execution_count": 51,
   "metadata": {},
   "outputs": [],
   "source": [
    "# transforming test data and applying model to create prediction and store it\n",
    "test_trans= trans_Sex_Pclass_Age_Emb.transform(test)\n",
    "ypred_test = model.predict(test_trans)\n",
    "submission = pd.DataFrame(ypred_test, index=test.index, columns=['Survived'])\n",
    "submission.to_csv('submissionfinal.csv')"
   ]
  },
  {
   "cell_type": "markdown",
   "metadata": {},
   "source": [
    "### Evaluation\n"
   ]
  },
  {
   "cell_type": "code",
   "execution_count": 45,
   "metadata": {},
   "outputs": [
    {
     "name": "stdout",
     "output_type": "stream",
     "text": [
      "              precision    recall  f1-score   support\n",
      "\n",
      "           0       0.80      0.96      0.87       549\n",
      "           1       0.91      0.62      0.74       342\n",
      "\n",
      "    accuracy                           0.83       891\n",
      "   macro avg       0.86      0.79      0.81       891\n",
      "weighted avg       0.84      0.83      0.82       891\n",
      "\n"
     ]
    },
    {
     "data": {
      "text/plain": [
       "(0.8305274971941639,\n",
       " None,\n",
       " <sklearn.metrics._plot.confusion_matrix.ConfusionMatrixDisplay at 0x7f1dcbd6f520>)"
      ]
     },
     "execution_count": 45,
     "metadata": {},
     "output_type": "execute_result"
    },
    {
     "data": {
      "image/png": "[encoded data removed]",
      "text/plain": [
       "<Figure size 432x288 with 2 Axes>"
      ]
     },
     "metadata": {
      "needs_background": "light"
     },
     "output_type": "display_data"
    }
   ],
   "source": [
    "# classifiers evaluation. all evaluation is done on the train data as well, since the ypred_test is not available.\n",
    "from sklearn.metrics import accuracy_score, classification_report, plot_confusion_matrix\n",
    "accuracy_score(y, ypred_train),print(classification_report(y, ypred_train)), plot_confusion_matrix(model, df_train, y)   # model tested on the traiing data themself"
   ]
  },
  {
   "cell_type": "markdown",
   "metadata": {},
   "source": [
    "### Comparison with former versions"
   ]
  },
  {
   "cell_type": "raw",
   "metadata": {},
   "source": [
    "A = pd.read_csv('submissionXv.csv',index_col=0)\n",
    "B = pd.read_csv('submissionXvI.csv', index_col=0)\n",
    "\n",
    "AB = pd.merge(A, B, on='PassengerId')\n",
    "for i, row in AB.iterrows():\n",
    "    if row['Survived_x'] != row['Survived_y']:\n",
    "        print(row)"
   ]
  }
 ],
 "metadata": {
  "kernelspec": {
   "display_name": "Python 3",
   "language": "python",
   "name": "python3"
  },
  "language_info": {
   "codemirror_mode": {
    "name": "ipython",
    "version": 3
   },
   "file_extension": ".py",
   "mimetype": "text/x-python",
   "name": "python",
   "nbconvert_exporter": "python",
   "pygments_lexer": "ipython3",
   "version": "3.8.3"
  }
 },
 "nbformat": 4,
 "nbformat_minor": 4
}
