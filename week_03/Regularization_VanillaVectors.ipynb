{
 "cells": [
  {
   "cell_type": "markdown",
   "metadata": {},
   "source": [
    "# Regularization:\n",
    "\n",
    "**GOAL**: Reduce complexity of your model. AKA Prevent Overfitting. AKA Reduce Variance."
   ]
  },
  {
   "cell_type": "markdown",
   "metadata": {},
   "source": [
    "Let's try to create some data that roughly follows this equation:\n",
    "\n",
    "\n",
    "$$ y = \\sqrt x $$\n",
    "\n",
    "\n",
    "Add in some normally-distributed noise to make it a bit more interesting."
   ]
  },
  {
   "cell_type": "code",
   "execution_count": 1,
   "metadata": {},
   "outputs": [],
   "source": [
    "import numpy as np\n",
    "import matplotlib.pyplot as plt\n",
    "from sklearn.preprocessing import PolynomialFeatures, StandardScaler\n",
    "from sklearn.linear_model import LinearRegression, Ridge, Lasso, ElasticNet"
   ]
  },
  {
   "cell_type": "code",
   "execution_count": 2,
   "metadata": {},
   "outputs": [],
   "source": [
    "X = np.arange(0, 100, 2)\n",
    "y = [np.sqrt(x_val) + np.random.normal(0, 0.9) for x_val in X]  # list comprehension -> like a condensed for-loop"
   ]
  },
  {
   "cell_type": "code",
   "execution_count": 4,
   "metadata": {
    "collapsed": true
   },
   "outputs": [
    {
     "data": {
      "text/plain": [
       "[0.404193536998871,\n",
       " 2.6852356661037304,\n",
       " 2.7454861630652863,\n",
       " 2.580748131285609,\n",
       " 3.066165517183963,\n",
       " 4.35313888027235,\n",
       " 3.971641349065358,\n",
       " 4.361138379249711,\n",
       " 3.739845172098009,\n",
       " 5.277153782282055,\n",
       " 4.843271762881882,\n",
       " 6.613302488423516,\n",
       " 4.659932796336345,\n",
       " 5.220812296070102,\n",
       " 4.393128612657829,\n",
       " 4.26590497641783,\n",
       " 5.916698089956824,\n",
       " 5.399089694177427,\n",
       " 5.568221011375261,\n",
       " 7.144593877643989,\n",
       " 3.769516475567811,\n",
       " 5.787446700395673,\n",
       " 7.885933197112593,\n",
       " 6.9738455350478805,\n",
       " 8.409796500048083,\n",
       " 7.078461415793181,\n",
       " 7.282678580283934,\n",
       " 6.98963372319834,\n",
       " 7.258706824841251,\n",
       " 8.74057175266189,\n",
       " 8.982247602382266,\n",
       " 9.634202768821382,\n",
       " 7.873469694594391,\n",
       " 8.910208505361044,\n",
       " 7.746061297428794,\n",
       " 6.784769759406845,\n",
       " 8.277043977063945,\n",
       " 8.978498624032095,\n",
       " 9.44659608040536,\n",
       " 8.953155614158131,\n",
       " 8.874906751834972,\n",
       " 11.669155523346463,\n",
       " 9.504703304065494,\n",
       " 6.643944696056948,\n",
       " 9.049317859613657,\n",
       " 10.19909082728105,\n",
       " 8.902804100167776,\n",
       " 9.074583499746737,\n",
       " 9.106083683745956,\n",
       " 10.418610557382664]"
      ]
     },
     "execution_count": 4,
     "metadata": {},
     "output_type": "execute_result"
    }
   ],
   "source": [
    "y"
   ]
  },
  {
   "cell_type": "code",
   "execution_count": 5,
   "metadata": {},
   "outputs": [
    {
     "data": {
      "text/plain": [
       "<matplotlib.collections.PathCollection at 0x7fe32e8ae978>"
      ]
     },
     "execution_count": 5,
     "metadata": {},
     "output_type": "execute_result"
    },
    {
     "data": {
      "image/png": "[encoded data removed]",
      "text/plain": [
       "<Figure size 432x288 with 1 Axes>"
      ]
     },
     "metadata": {
      "needs_background": "light"
     },
     "output_type": "display_data"
    }
   ],
   "source": [
    "plt.scatter(X,y)"
   ]
  },
  {
   "cell_type": "markdown",
   "metadata": {},
   "source": [
    "### 🚨 Always scale the data for Regularization"
   ]
  },
  {
   "cell_type": "code",
   "execution_count": 6,
   "metadata": {},
   "outputs": [],
   "source": [
    "scaler = StandardScaler()"
   ]
  },
  {
   "cell_type": "code",
   "execution_count": 8,
   "metadata": {},
   "outputs": [],
   "source": [
    "X = scaler.fit_transform(X.reshape(-1,1))"
   ]
  },
  {
   "cell_type": "code",
   "execution_count": 10,
   "metadata": {
    "collapsed": true
   },
   "outputs": [
    {
     "data": {
      "text/plain": [
       "array([[-1.69774938],\n",
       "       [-1.62845348],\n",
       "       [-1.55915759],\n",
       "       [-1.4898617 ],\n",
       "       [-1.4205658 ],\n",
       "       [-1.35126991],\n",
       "       [-1.28197402],\n",
       "       [-1.21267813],\n",
       "       [-1.14338223],\n",
       "       [-1.07408634],\n",
       "       [-1.00479045],\n",
       "       [-0.93549455],\n",
       "       [-0.86619866],\n",
       "       [-0.79690277],\n",
       "       [-0.72760688],\n",
       "       [-0.65831098],\n",
       "       [-0.58901509],\n",
       "       [-0.5197192 ],\n",
       "       [-0.4504233 ],\n",
       "       [-0.38112741],\n",
       "       [-0.31183152],\n",
       "       [-0.24253563],\n",
       "       [-0.17323973],\n",
       "       [-0.10394384],\n",
       "       [-0.03464795],\n",
       "       [ 0.03464795],\n",
       "       [ 0.10394384],\n",
       "       [ 0.17323973],\n",
       "       [ 0.24253563],\n",
       "       [ 0.31183152],\n",
       "       [ 0.38112741],\n",
       "       [ 0.4504233 ],\n",
       "       [ 0.5197192 ],\n",
       "       [ 0.58901509],\n",
       "       [ 0.65831098],\n",
       "       [ 0.72760688],\n",
       "       [ 0.79690277],\n",
       "       [ 0.86619866],\n",
       "       [ 0.93549455],\n",
       "       [ 1.00479045],\n",
       "       [ 1.07408634],\n",
       "       [ 1.14338223],\n",
       "       [ 1.21267813],\n",
       "       [ 1.28197402],\n",
       "       [ 1.35126991],\n",
       "       [ 1.4205658 ],\n",
       "       [ 1.4898617 ],\n",
       "       [ 1.55915759],\n",
       "       [ 1.62845348],\n",
       "       [ 1.69774938]])"
      ]
     },
     "execution_count": 10,
     "metadata": {},
     "output_type": "execute_result"
    }
   ],
   "source": [
    "X"
   ]
  },
  {
   "cell_type": "code",
   "execution_count": null,
   "metadata": {},
   "outputs": [],
   "source": []
  },
  {
   "cell_type": "markdown",
   "metadata": {},
   "source": [
    "### Now let's intentionally overfit a model that focuses too much on training examples."
   ]
  },
  {
   "cell_type": "code",
   "execution_count": 11,
   "metadata": {},
   "outputs": [],
   "source": [
    "poly = PolynomialFeatures(degree=20)   # this is a crazy amount of degrees - we really want to overfit \n",
    "X_poly = poly.fit_transform(X) "
   ]
  },
  {
   "cell_type": "code",
   "execution_count": 13,
   "metadata": {},
   "outputs": [
    {
     "data": {
      "text/plain": [
       "(50, 21)"
      ]
     },
     "execution_count": 13,
     "metadata": {},
     "output_type": "execute_result"
    }
   ],
   "source": [
    "X_poly.shape  # 20 new features/columns"
   ]
  },
  {
   "cell_type": "code",
   "execution_count": 14,
   "metadata": {
    "scrolled": true
   },
   "outputs": [
    {
     "data": {
      "text/plain": [
       "LinearRegression()"
      ]
     },
     "execution_count": 14,
     "metadata": {},
     "output_type": "execute_result"
    }
   ],
   "source": [
    "m = LinearRegression()\n",
    "m.fit(X_poly, y)"
   ]
  },
  {
   "cell_type": "code",
   "execution_count": 15,
   "metadata": {},
   "outputs": [],
   "source": [
    "ypred = m.predict(X_poly)"
   ]
  },
  {
   "cell_type": "code",
   "execution_count": 17,
   "metadata": {},
   "outputs": [
    {
     "data": {
      "text/plain": [
       "[<matplotlib.lines.Line2D at 0x7fe32fe832e8>]"
      ]
     },
     "execution_count": 17,
     "metadata": {},
     "output_type": "execute_result"
    },
    {
     "data": {
      "image/png": "[encoded data removed]",
      "text/plain": [
       "<Figure size 432x288 with 1 Axes>"
      ]
     },
     "metadata": {
      "needs_background": "light"
     },
     "output_type": "display_data"
    }
   ],
   "source": [
    "plt.scatter(X, y)\n",
    "plt.plot(X, ypred)"
   ]
  },
  {
   "cell_type": "code",
   "execution_count": 18,
   "metadata": {},
   "outputs": [
    {
     "data": {
      "text/plain": [
       "0.8999874674367774"
      ]
     },
     "execution_count": 18,
     "metadata": {},
     "output_type": "execute_result"
    }
   ],
   "source": [
    "m.score(X_poly, y)"
   ]
  },
  {
   "cell_type": "markdown",
   "metadata": {},
   "source": [
    "### Another extreme case:\n",
    "- Generate similar data but purposely throw in some outliers."
   ]
  },
  {
   "cell_type": "code",
   "execution_count": 19,
   "metadata": {
    "scrolled": false
   },
   "outputs": [
    {
     "name": "stderr",
     "output_type": "stream",
     "text": [
      "/usr/local/anaconda3/envs/std/lib/python3.6/site-packages/numpy/ma/core.py:2832: VisibleDeprecationWarning: Creating an ndarray from ragged nested sequences (which is a list-or-tuple of lists-or-tuples-or ndarrays with different lengths or shapes) is deprecated. If you meant to do this, you must specify 'dtype=object' when creating the ndarray\n",
      "  order=order, subok=True, ndmin=ndmin)\n"
     ]
    },
    {
     "data": {
      "text/plain": [
       "<matplotlib.collections.PathCollection at 0x7fe32fdb05c0>"
      ]
     },
     "execution_count": 19,
     "metadata": {},
     "output_type": "execute_result"
    },
    {
     "data": {
      "image/png": "[encoded data removed]",
      "text/plain": [
       "<Figure size 432x288 with 1 Axes>"
      ]
     },
     "metadata": {
      "needs_background": "light"
     },
     "output_type": "display_data"
    }
   ],
   "source": [
    "X = np.linspace(0, 15, 15).reshape(-1, 1)\n",
    "y = [np.sqrt(x_val) + np.random.normal(0,0.1) for x_val in X]\n",
    "\n",
    "# Create some outliers intentionally:\n",
    "y[2] = 4\n",
    "y[8] = 1\n",
    "\n",
    "plt.scatter(X, y)"
   ]
  },
  {
   "cell_type": "markdown",
   "metadata": {},
   "source": [
    "## ... and watch how the Linear Regression model overfits\n",
    "It pays too much attention to single data points."
   ]
  },
  {
   "cell_type": "code",
   "execution_count": 31,
   "metadata": {},
   "outputs": [],
   "source": [
    "### Make model unnecessarily complex\n",
    "poly = PolynomialFeatures(degree=4, include_bias=False)"
   ]
  },
  {
   "cell_type": "code",
   "execution_count": 32,
   "metadata": {},
   "outputs": [],
   "source": [
    "X_poly = poly.fit_transform(X)"
   ]
  },
  {
   "cell_type": "code",
   "execution_count": 33,
   "metadata": {},
   "outputs": [
    {
     "data": {
      "text/html": [
       "<div>\n",
       "<style scoped>\n",
       "    .dataframe tbody tr th:only-of-type {\n",
       "        vertical-align: middle;\n",
       "    }\n",
       "\n",
       "    .dataframe tbody tr th {\n",
       "        vertical-align: top;\n",
       "    }\n",
       "\n",
       "    .dataframe thead th {\n",
       "        text-align: right;\n",
       "    }\n",
       "</style>\n",
       "<table border=\"1\" class=\"dataframe\">\n",
       "  <thead>\n",
       "    <tr style=\"text-align: right;\">\n",
       "      <th></th>\n",
       "      <th>0</th>\n",
       "      <th>1</th>\n",
       "      <th>2</th>\n",
       "      <th>3</th>\n",
       "    </tr>\n",
       "  </thead>\n",
       "  <tbody>\n",
       "    <tr>\n",
       "      <th>0</th>\n",
       "      <td>0.000000</td>\n",
       "      <td>0.000000</td>\n",
       "      <td>0.000000</td>\n",
       "      <td>0.000000</td>\n",
       "    </tr>\n",
       "    <tr>\n",
       "      <th>1</th>\n",
       "      <td>1.071429</td>\n",
       "      <td>1.147959</td>\n",
       "      <td>1.229956</td>\n",
       "      <td>1.317810</td>\n",
       "    </tr>\n",
       "    <tr>\n",
       "      <th>2</th>\n",
       "      <td>2.142857</td>\n",
       "      <td>4.591837</td>\n",
       "      <td>9.839650</td>\n",
       "      <td>21.084965</td>\n",
       "    </tr>\n",
       "    <tr>\n",
       "      <th>3</th>\n",
       "      <td>3.214286</td>\n",
       "      <td>10.331633</td>\n",
       "      <td>33.208819</td>\n",
       "      <td>106.742633</td>\n",
       "    </tr>\n",
       "    <tr>\n",
       "      <th>4</th>\n",
       "      <td>4.285714</td>\n",
       "      <td>18.367347</td>\n",
       "      <td>78.717201</td>\n",
       "      <td>337.359434</td>\n",
       "    </tr>\n",
       "    <tr>\n",
       "      <th>5</th>\n",
       "      <td>5.357143</td>\n",
       "      <td>28.698980</td>\n",
       "      <td>153.744534</td>\n",
       "      <td>823.631430</td>\n",
       "    </tr>\n",
       "    <tr>\n",
       "      <th>6</th>\n",
       "      <td>6.428571</td>\n",
       "      <td>41.326531</td>\n",
       "      <td>265.670554</td>\n",
       "      <td>1707.882132</td>\n",
       "    </tr>\n",
       "    <tr>\n",
       "      <th>7</th>\n",
       "      <td>7.500000</td>\n",
       "      <td>56.250000</td>\n",
       "      <td>421.875000</td>\n",
       "      <td>3164.062500</td>\n",
       "    </tr>\n",
       "    <tr>\n",
       "      <th>8</th>\n",
       "      <td>8.571429</td>\n",
       "      <td>73.469388</td>\n",
       "      <td>629.737609</td>\n",
       "      <td>5397.750937</td>\n",
       "    </tr>\n",
       "    <tr>\n",
       "      <th>9</th>\n",
       "      <td>9.642857</td>\n",
       "      <td>92.984694</td>\n",
       "      <td>896.638120</td>\n",
       "      <td>8646.153296</td>\n",
       "    </tr>\n",
       "    <tr>\n",
       "      <th>10</th>\n",
       "      <td>10.714286</td>\n",
       "      <td>114.795918</td>\n",
       "      <td>1229.956268</td>\n",
       "      <td>13178.102874</td>\n",
       "    </tr>\n",
       "    <tr>\n",
       "      <th>11</th>\n",
       "      <td>11.785714</td>\n",
       "      <td>138.903061</td>\n",
       "      <td>1637.071793</td>\n",
       "      <td>19294.060418</td>\n",
       "    </tr>\n",
       "    <tr>\n",
       "      <th>12</th>\n",
       "      <td>12.857143</td>\n",
       "      <td>165.306122</td>\n",
       "      <td>2125.364431</td>\n",
       "      <td>27326.114119</td>\n",
       "    </tr>\n",
       "    <tr>\n",
       "      <th>13</th>\n",
       "      <td>13.928571</td>\n",
       "      <td>194.005102</td>\n",
       "      <td>2702.213921</td>\n",
       "      <td>37637.979618</td>\n",
       "    </tr>\n",
       "    <tr>\n",
       "      <th>14</th>\n",
       "      <td>15.000000</td>\n",
       "      <td>225.000000</td>\n",
       "      <td>3375.000000</td>\n",
       "      <td>50625.000000</td>\n",
       "    </tr>\n",
       "  </tbody>\n",
       "</table>\n",
       "</div>"
      ],
      "text/plain": [
       "            0           1            2             3\n",
       "0    0.000000    0.000000     0.000000      0.000000\n",
       "1    1.071429    1.147959     1.229956      1.317810\n",
       "2    2.142857    4.591837     9.839650     21.084965\n",
       "3    3.214286   10.331633    33.208819    106.742633\n",
       "4    4.285714   18.367347    78.717201    337.359434\n",
       "5    5.357143   28.698980   153.744534    823.631430\n",
       "6    6.428571   41.326531   265.670554   1707.882132\n",
       "7    7.500000   56.250000   421.875000   3164.062500\n",
       "8    8.571429   73.469388   629.737609   5397.750937\n",
       "9    9.642857   92.984694   896.638120   8646.153296\n",
       "10  10.714286  114.795918  1229.956268  13178.102874\n",
       "11  11.785714  138.903061  1637.071793  19294.060418\n",
       "12  12.857143  165.306122  2125.364431  27326.114119\n",
       "13  13.928571  194.005102  2702.213921  37637.979618\n",
       "14  15.000000  225.000000  3375.000000  50625.000000"
      ]
     },
     "execution_count": 33,
     "metadata": {},
     "output_type": "execute_result"
    }
   ],
   "source": [
    "import pandas as pd\n",
    "pd.DataFrame(X_poly)"
   ]
  },
  {
   "cell_type": "code",
   "execution_count": 20,
   "metadata": {},
   "outputs": [
    {
     "name": "stderr",
     "output_type": "stream",
     "text": [
      "/usr/local/anaconda3/envs/std/lib/python3.6/site-packages/numpy/core/_asarray.py:83: VisibleDeprecationWarning: Creating an ndarray from ragged nested sequences (which is a list-or-tuple of lists-or-tuples-or ndarrays with different lengths or shapes) is deprecated. If you meant to do this, you must specify 'dtype=object' when creating the ndarray\n",
      "  return array(a, dtype, copy=False, order=order)\n",
      "/usr/local/anaconda3/envs/std/lib/python3.6/site-packages/numpy/ma/core.py:2832: VisibleDeprecationWarning: Creating an ndarray from ragged nested sequences (which is a list-or-tuple of lists-or-tuples-or ndarrays with different lengths or shapes) is deprecated. If you meant to do this, you must specify 'dtype=object' when creating the ndarray\n",
      "  order=order, subok=True, ndmin=ndmin)\n"
     ]
    },
    {
     "data": {
      "text/plain": [
       "[<matplotlib.lines.Line2D at 0x7fe3301b4f60>]"
      ]
     },
     "execution_count": 20,
     "metadata": {},
     "output_type": "execute_result"
    },
    {
     "data": {
      "image/png": "[encoded data removed]",
      "text/plain": [
       "<Figure size 864x576 with 1 Axes>"
      ]
     },
     "metadata": {
      "needs_background": "light"
     },
     "output_type": "display_data"
    }
   ],
   "source": [
    "m = LinearRegression() \n",
    "m.fit(X_poly, y)  \n",
    "ypred = m.predict(X_poly)\n",
    "plt.figure(figsize=(12, 8))\n",
    "plt.scatter(X, y)\n",
    "plt.plot(X, ypred)"
   ]
  },
  {
   "cell_type": "markdown",
   "metadata": {},
   "source": [
    "## We can reduce this complexity through Regularization"
   ]
  },
  {
   "cell_type": "markdown",
   "metadata": {},
   "source": [
    "There are three models that we can use for this purpose: \n",
    "- Ridge\n",
    "- Lasso \n",
    "- ElasticNet  \n"
   ]
  },
  {
   "cell_type": "code",
   "execution_count": 28,
   "metadata": {},
   "outputs": [
    {
     "name": "stderr",
     "output_type": "stream",
     "text": [
      "/usr/local/anaconda3/envs/std/lib/python3.6/site-packages/numpy/core/_asarray.py:83: VisibleDeprecationWarning: Creating an ndarray from ragged nested sequences (which is a list-or-tuple of lists-or-tuples-or ndarrays with different lengths or shapes) is deprecated. If you meant to do this, you must specify 'dtype=object' when creating the ndarray\n",
      "  return array(a, dtype, copy=False, order=order)\n",
      "/usr/local/anaconda3/envs/std/lib/python3.6/site-packages/numpy/core/_asarray.py:83: VisibleDeprecationWarning: Creating an ndarray from ragged nested sequences (which is a list-or-tuple of lists-or-tuples-or ndarrays with different lengths or shapes) is deprecated. If you meant to do this, you must specify 'dtype=object' when creating the ndarray\n",
      "  return array(a, dtype, copy=False, order=order)\n",
      "/usr/local/anaconda3/envs/std/lib/python3.6/site-packages/numpy/core/_asarray.py:83: VisibleDeprecationWarning: Creating an ndarray from ragged nested sequences (which is a list-or-tuple of lists-or-tuples-or ndarrays with different lengths or shapes) is deprecated. If you meant to do this, you must specify 'dtype=object' when creating the ndarray\n",
      "  return array(a, dtype, copy=False, order=order)\n",
      "/usr/local/anaconda3/envs/std/lib/python3.6/site-packages/numpy/core/_asarray.py:83: VisibleDeprecationWarning: Creating an ndarray from ragged nested sequences (which is a list-or-tuple of lists-or-tuples-or ndarrays with different lengths or shapes) is deprecated. If you meant to do this, you must specify 'dtype=object' when creating the ndarray\n",
      "  return array(a, dtype, copy=False, order=order)\n",
      "/usr/local/anaconda3/envs/std/lib/python3.6/site-packages/sklearn/linear_model/_coordinate_descent.py:532: ConvergenceWarning: Objective did not converge. You might want to increase the number of iterations. Duality gap: 4.835144498844219, tolerance: 0.0020169511734593262\n",
      "  positive)\n",
      "/usr/local/anaconda3/envs/std/lib/python3.6/site-packages/numpy/ma/core.py:2832: VisibleDeprecationWarning: Creating an ndarray from ragged nested sequences (which is a list-or-tuple of lists-or-tuples-or ndarrays with different lengths or shapes) is deprecated. If you meant to do this, you must specify 'dtype=object' when creating the ndarray\n",
      "  order=order, subok=True, ndmin=ndmin)\n"
     ]
    },
    {
     "data": {
      "text/plain": [
       "<matplotlib.legend.Legend at 0x7fe32f856a20>"
      ]
     },
     "execution_count": 28,
     "metadata": {},
     "output_type": "execute_result"
    },
    {
     "data": {
      "image/png": "[encoded data removed]",
      "text/plain": [
       "<Figure size 864x576 with 1 Axes>"
      ]
     },
     "metadata": {
      "needs_background": "light"
     },
     "output_type": "display_data"
    }
   ],
   "source": [
    "m = LinearRegression() \n",
    "m_ridge = Ridge(alpha=2)  \n",
    "m_lasso = Lasso(alpha=0.5)\n",
    "m_elastic = ElasticNet(alpha=0.1, l1_ratio=0.2)\n",
    "\n",
    "m.fit(X_poly, y)       \n",
    "m_ridge.fit(X_poly, y)  \n",
    "m_lasso.fit(X_poly, y)  \n",
    "m_elastic.fit(X_poly, y)  \n",
    "\n",
    "ypred = m.predict(X_poly)\n",
    "ypred_ridge = m_ridge.predict(X_poly)\n",
    "ypred_lasso = m_lasso.predict(X_poly)\n",
    "ypred_elastic = m_elastic.predict(X_poly)\n",
    "\n",
    "plt.figure(figsize=(12, 8))\n",
    "plt.scatter(X, y, s=10)\n",
    "plt.plot(X, ypred, label='No Regularization')\n",
    "plt.plot(X, ypred_ridge, label='Ridge')\n",
    "plt.plot(X, ypred_lasso, label='Lasso')\n",
    "plt.plot(X, ypred_elastic, label ='Elastic Net')\n",
    "plt.legend()"
   ]
  },
  {
   "cell_type": "markdown",
   "metadata": {},
   "source": [
    "---"
   ]
  },
  {
   "cell_type": "markdown",
   "metadata": {},
   "source": [
    "**Inspect Coefficients**"
   ]
  },
  {
   "cell_type": "code",
   "execution_count": 25,
   "metadata": {},
   "outputs": [
    {
     "data": {
      "text/plain": [
       "array([ 0.00000000e+00,  1.98035703e+00, -4.91846706e-01,  4.57296222e-02,\n",
       "       -1.37506828e-03])"
      ]
     },
     "execution_count": 25,
     "metadata": {},
     "output_type": "execute_result"
    }
   ],
   "source": [
    "m.coef_"
   ]
  },
  {
   "cell_type": "code",
   "execution_count": 26,
   "metadata": {},
   "outputs": [
    {
     "data": {
      "text/plain": [
       "array([ 0.00000000e+00,  7.25861117e-01, -1.46902272e-01,  1.27492363e-02,\n",
       "       -3.51096337e-04])"
      ]
     },
     "execution_count": 26,
     "metadata": {},
     "output_type": "execute_result"
    }
   ],
   "source": [
    "m_ridge.coef_"
   ]
  },
  {
   "cell_type": "code",
   "execution_count": 27,
   "metadata": {},
   "outputs": [
    {
     "data": {
      "text/plain": [
       "array([ 0.00000000e+00,  0.00000000e+00,  1.19836100e-02, -3.09004031e-05,\n",
       "       -5.71289061e-06])"
      ]
     },
     "execution_count": 27,
     "metadata": {},
     "output_type": "execute_result"
    }
   ],
   "source": [
    "m_lasso.coef_   # some coefficients can be reduced to 0"
   ]
  },
  {
   "cell_type": "code",
   "execution_count": null,
   "metadata": {},
   "outputs": [],
   "source": []
  },
  {
   "cell_type": "markdown",
   "metadata": {},
   "source": [
    "Good visual explanation of why Ridge doesn't shrink coefficients to 0, but Lasso does: \n",
    "https://www.youtube.com/watch?v=Xm2C_gTAl8c"
   ]
  },
  {
   "cell_type": "code",
   "execution_count": null,
   "metadata": {},
   "outputs": [],
   "source": []
  },
  {
   "cell_type": "markdown",
   "metadata": {},
   "source": [
    "# Exercise: 🚲 🚲 🚲 "
   ]
  },
  {
   "cell_type": "markdown",
   "metadata": {},
   "source": [
    "Try Ridge, Lasso or ElasticNet on your bicycle project."
   ]
  },
  {
   "cell_type": "code",
   "execution_count": null,
   "metadata": {},
   "outputs": [],
   "source": []
  }
 ],
 "metadata": {
  "kernelspec": {
   "display_name": "Python 3",
   "language": "python",
   "name": "python3"
  },
  "language_info": {
   "codemirror_mode": {
    "name": "ipython",
    "version": 3
   },
   "file_extension": ".py",
   "mimetype": "text/x-python",
   "name": "python",
   "nbconvert_exporter": "python",
   "pygments_lexer": "ipython3",
   "version": "3.8.3"
  }
 },
 "nbformat": 4,
 "nbformat_minor": 4
}
