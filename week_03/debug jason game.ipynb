{
 "cells": [
  {
   "cell_type": "code",
   "execution_count": 69,
   "metadata": {},
   "outputs": [],
   "source": [
    "import json"
   ]
  },
  {
   "cell_type": "code",
   "execution_count": 70,
   "metadata": {},
   "outputs": [],
   "source": [
    "def is_answer(node):\n",
    "    return len(node) == 1"
   ]
  },
  {
   "cell_type": "code",
   "execution_count": 71,
   "metadata": {},
   "outputs": [],
   "source": [
    "f = open('questions.json')"
   ]
  },
  {
   "cell_type": "code",
   "execution_count": 72,
   "metadata": {},
   "outputs": [],
   "source": [
    "content = f.read()"
   ]
  },
  {
   "cell_type": "code",
   "execution_count": 73,
   "metadata": {},
   "outputs": [],
   "source": [
    "node = json.loads(content)"
   ]
  },
  {
   "cell_type": "code",
   "execution_count": null,
   "metadata": {},
   "outputs": [],
   "source": []
  },
  {
   "cell_type": "code",
   "execution_count": 74,
   "metadata": {},
   "outputs": [],
   "source": [
    "finished = False"
   ]
  },
  {
   "cell_type": "code",
   "execution_count": null,
   "metadata": {},
   "outputs": [],
   "source": []
  },
  {
   "cell_type": "code",
   "execution_count": 75,
   "metadata": {},
   "outputs": [
    {
     "name": "stdout",
     "output_type": "stream",
     "text": [
      "Can it fly?\n",
      "y\n",
      "Does it have feathers?\n",
      "y\n",
      "Does it sometimes live in water?\n",
      "y\n",
      "Does it eat fish?\n",
      "y\n",
      "Does it have long legs?\n",
      "y\n",
      "Is it pink?\n",
      "y\n",
      "Does it look weird to humans?\n",
      "y\n",
      "Does it sometimes stand on one leg?\n",
      "y\n",
      "It's not pink or stands on one leg is it?\n",
      "y\n",
      "Is it some kind of jelly fish?\n",
      "y\n",
      "Does it have legs?\n",
      "y\n",
      "Is it not real?\n",
      "y\n",
      "Are you going to keep hitting yes?\n",
      "y\n",
      "Does it have stripes?\n",
      "y\n",
      "Is it white?\n",
      "y\n",
      "Is it a male?\n",
      "y\n",
      "Is it yellow?\n",
      "y\n",
      "Is it related to the cat family?\n",
      "y\n",
      "Can it be all animals?\n",
      "y\n",
      "Are you going to click yes for the last question?\n",
      "y\n",
      "Are you going to answer \"no\" for this question?\n",
      "y\n",
      "Can it do everything?\n",
      "y\n",
      "God\n"
     ]
    }
   ],
   "source": [
    "while not finished:\n",
    "    print(node['text'])\n",
    "    \n",
    "    if is_answer(node):\n",
    "        finished = True\n",
    "    else:\n",
    "        answer = input()\n",
    "        if answer.lower() in ['yes', 'y']:\n",
    "            node = node['yes']\n",
    "        else:\n",
    "            node = node['no']"
   ]
  },
  {
   "cell_type": "code",
   "execution_count": null,
   "metadata": {},
   "outputs": [],
   "source": []
  }
 ],
 "metadata": {
  "kernelspec": {
   "display_name": "Python 3",
   "language": "python",
   "name": "python3"
  },
  "language_info": {
   "codemirror_mode": {
    "name": "ipython",
    "version": 3
   },
   "file_extension": ".py",
   "mimetype": "text/x-python",
   "name": "python",
   "nbconvert_exporter": "python",
   "pygments_lexer": "ipython3",
   "version": "3.8.3"
  }
 },
 "nbformat": 4,
 "nbformat_minor": 4
}
