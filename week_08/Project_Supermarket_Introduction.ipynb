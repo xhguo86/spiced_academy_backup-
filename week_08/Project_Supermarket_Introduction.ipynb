{
 "cells": [
  {
   "cell_type": "markdown",
   "metadata": {
    "slideshow": {
     "slide_type": "slide"
    }
   },
   "source": [
    "# Project Supermarket Introduction"
   ]
  },
  {
   "cell_type": "markdown",
   "metadata": {
    "slideshow": {
     "slide_type": "slide"
    }
   },
   "source": [
    "## 1) Project Goal\n",
    "\n",
    "Write a program that simulates customer behavior in a supermarket. The steps towards this goal are:\n",
    ">- explore the data (includes pandas wrangling)\n",
    ">- calculate transition probabilities (a 5x5 matrix)\n",
    ">- implement a customer class\n",
    ">- run a MCMC simulation for a single customer\n",
    ">- extend the simulation to multiple customers\n",
    "\n",
    "### !!Difficult Bonus!!\n",
    "For the fast groups among you, there is an extra challenge. You can visualize the customer churney through the supermarket! (eg. https://github.com/win-times-win/supermarket_simulation)\n",
    "\n",
    "### Work in a group!"
   ]
  },
  {
   "cell_type": "markdown",
   "metadata": {},
   "source": [
    "## 2) Concepts and tools\n",
    "\n",
    "1. Monte Carlo Methods\n",
    "2. Markov Chains\n",
    "3. Object-oriented programming (Classes)\n",
    "4. Numpy\n",
    "\n",
    "Let's talk about more about the first two of these concepts"
   ]
  },
  {
   "cell_type": "markdown",
   "metadata": {},
   "source": [
    "### 2.1) Monte Carlo Methods\n",
    "\n",
    "A class of computational algorithms that rely on **repeated random sampling** to obtain numerical results. These methods can help us\n",
    "\n",
    ">1. Estimate expectations if they are not computable\n",
    ">2. Estimate parameters of (nonlinear) models\n",
    ">3. Simulate different scenarios\n",
    "\n",
    "We will use **repeated random sampling** to simulate customer behavior.\n",
    "\n",
    "The following question arises: **How do we model customer behavior?** To answer this question we introduce the concept of **Markov Chains**."
   ]
  },
  {
   "cell_type": "markdown",
   "metadata": {},
   "source": [
    "### 2.2) Markov Chains\n",
    "\n",
    "- **A Markov Chain is a stochastic process that has the Markov property.**\n",
    "- \"Markov chains, named after Andrey Markov, are mathematical systems that hop from one \"state\" (a situation or set of values) to another.\" https://setosa.io/blog/2014/07/26/markov-chains/index.html\n",
    "\n",
    "#### 2.2.1) Markov Property\n",
    "\n",
    "A stochastic process has the Markov Property, if **knowledge of the current state is all that is necessary to determine the probability distribution of future states**. The stochastic process is said to be memoryless.\n",
    "\n",
    "#### 2.2.2) Assumptions\n",
    "\n",
    "1. Markov Property: Knowledge of the current state is all that is necessary to determine the probability distribution of future states.\n",
    "2. Finite State Space: `states = []`\n",
    "3. Time-homogenous: transition probabilities do not change with time\n",
    "\n",
    "#### 2.2.3) Characteristics\n",
    "\n",
    "A Markov Chain can be characterized by three elements:\n",
    "\n",
    "- State space (all possible states)\n",
    "- Initial state or initial probability distribution\n",
    "- Transition probabilities"
   ]
  },
  {
   "cell_type": "code",
   "execution_count": 1,
   "metadata": {},
   "outputs": [],
   "source": [
    "import random\n",
    "import pandas as pd\n",
    "import numpy as np"
   ]
  },
  {
   "cell_type": "markdown",
   "metadata": {},
   "source": [
    "![](./markov_weather.png)"
   ]
  },
  {
   "cell_type": "code",
   "execution_count": 2,
   "metadata": {},
   "outputs": [
    {
     "data": {
      "text/plain": [
       "['snow', 'snow', 'sun', 'snow', 'snow', 'sun', 'snow', 'sun', 'sun']"
      ]
     },
     "execution_count": 2,
     "metadata": {},
     "output_type": "execute_result"
    }
   ],
   "source": [
    "# Let's store that information\n",
    "weather = ['snow', 'snow', 'sun', 'snow', 'snow', 'sun', 'snow', 'sun', 'sun']\n",
    "weather"
   ]
  },
  {
   "cell_type": "markdown",
   "metadata": {},
   "source": [
    "## What are the possible states?\n",
    "\n",
    "The possible states are sun and snow.\n",
    "The state space S = ['sun', 'snow']"
   ]
  },
  {
   "cell_type": "code",
   "execution_count": 13,
   "metadata": {},
   "outputs": [],
   "source": [
    "S = ['snow', 'sun']"
   ]
  },
  {
   "cell_type": "markdown",
   "metadata": {},
   "source": [
    "## How can we calculate the transition matrix?\n",
    "\n",
    "The transition matrix $P$ has the element $p_{ij}$, with rows $i$ and columns $j$, such that:\n",
    "\n",
    "$$\n",
    "p_{ij} = P(Y_t = y_j | Y_{t-1} = y_i)\n",
    "$$\n",
    "\n",
    "For example $p_{0,1} = p_{snow, sun}$ is the probability of a sunny day when it was snowing the day before. "
   ]
  },
  {
   "cell_type": "code",
   "execution_count": 3,
   "metadata": {},
   "outputs": [
    {
     "data": {
      "text/html": [
       "<div>\n",
       "<style scoped>\n",
       "    .dataframe tbody tr th:only-of-type {\n",
       "        vertical-align: middle;\n",
       "    }\n",
       "\n",
       "    .dataframe tbody tr th {\n",
       "        vertical-align: top;\n",
       "    }\n",
       "\n",
       "    .dataframe thead th {\n",
       "        text-align: right;\n",
       "    }\n",
       "</style>\n",
       "<table border=\"1\" class=\"dataframe\">\n",
       "  <thead>\n",
       "    <tr style=\"text-align: right;\">\n",
       "      <th></th>\n",
       "      <th>day</th>\n",
       "      <th>weather</th>\n",
       "    </tr>\n",
       "  </thead>\n",
       "  <tbody>\n",
       "    <tr>\n",
       "      <th>0</th>\n",
       "      <td>1</td>\n",
       "      <td>snow</td>\n",
       "    </tr>\n",
       "    <tr>\n",
       "      <th>1</th>\n",
       "      <td>2</td>\n",
       "      <td>snow</td>\n",
       "    </tr>\n",
       "    <tr>\n",
       "      <th>2</th>\n",
       "      <td>3</td>\n",
       "      <td>sun</td>\n",
       "    </tr>\n",
       "    <tr>\n",
       "      <th>3</th>\n",
       "      <td>4</td>\n",
       "      <td>snow</td>\n",
       "    </tr>\n",
       "    <tr>\n",
       "      <th>4</th>\n",
       "      <td>5</td>\n",
       "      <td>snow</td>\n",
       "    </tr>\n",
       "    <tr>\n",
       "      <th>5</th>\n",
       "      <td>6</td>\n",
       "      <td>sun</td>\n",
       "    </tr>\n",
       "    <tr>\n",
       "      <th>6</th>\n",
       "      <td>7</td>\n",
       "      <td>snow</td>\n",
       "    </tr>\n",
       "    <tr>\n",
       "      <th>7</th>\n",
       "      <td>8</td>\n",
       "      <td>sun</td>\n",
       "    </tr>\n",
       "    <tr>\n",
       "      <th>8</th>\n",
       "      <td>9</td>\n",
       "      <td>sun</td>\n",
       "    </tr>\n",
       "  </tbody>\n",
       "</table>\n",
       "</div>"
      ],
      "text/plain": [
       "   day weather\n",
       "0    1    snow\n",
       "1    2    snow\n",
       "2    3     sun\n",
       "3    4    snow\n",
       "4    5    snow\n",
       "5    6     sun\n",
       "6    7    snow\n",
       "7    8     sun\n",
       "8    9     sun"
      ]
     },
     "execution_count": 3,
     "metadata": {},
     "output_type": "execute_result"
    }
   ],
   "source": [
    "weather = pd.DataFrame({'day': range(1,len(weather)+1), 'weather': weather})\n",
    "weather"
   ]
  },
  {
   "cell_type": "code",
   "execution_count": 4,
   "metadata": {},
   "outputs": [
    {
     "data": {
      "text/html": [
       "<div>\n",
       "<style scoped>\n",
       "    .dataframe tbody tr th:only-of-type {\n",
       "        vertical-align: middle;\n",
       "    }\n",
       "\n",
       "    .dataframe tbody tr th {\n",
       "        vertical-align: top;\n",
       "    }\n",
       "\n",
       "    .dataframe thead th {\n",
       "        text-align: right;\n",
       "    }\n",
       "</style>\n",
       "<table border=\"1\" class=\"dataframe\">\n",
       "  <thead>\n",
       "    <tr style=\"text-align: right;\">\n",
       "      <th></th>\n",
       "      <th>day</th>\n",
       "      <th>weather</th>\n",
       "      <th>transition</th>\n",
       "    </tr>\n",
       "  </thead>\n",
       "  <tbody>\n",
       "    <tr>\n",
       "      <th>0</th>\n",
       "      <td>1</td>\n",
       "      <td>snow</td>\n",
       "      <td>snow</td>\n",
       "    </tr>\n",
       "    <tr>\n",
       "      <th>1</th>\n",
       "      <td>2</td>\n",
       "      <td>snow</td>\n",
       "      <td>sun</td>\n",
       "    </tr>\n",
       "    <tr>\n",
       "      <th>2</th>\n",
       "      <td>3</td>\n",
       "      <td>sun</td>\n",
       "      <td>snow</td>\n",
       "    </tr>\n",
       "    <tr>\n",
       "      <th>3</th>\n",
       "      <td>4</td>\n",
       "      <td>snow</td>\n",
       "      <td>snow</td>\n",
       "    </tr>\n",
       "    <tr>\n",
       "      <th>4</th>\n",
       "      <td>5</td>\n",
       "      <td>snow</td>\n",
       "      <td>sun</td>\n",
       "    </tr>\n",
       "    <tr>\n",
       "      <th>5</th>\n",
       "      <td>6</td>\n",
       "      <td>sun</td>\n",
       "      <td>snow</td>\n",
       "    </tr>\n",
       "    <tr>\n",
       "      <th>6</th>\n",
       "      <td>7</td>\n",
       "      <td>snow</td>\n",
       "      <td>sun</td>\n",
       "    </tr>\n",
       "    <tr>\n",
       "      <th>7</th>\n",
       "      <td>8</td>\n",
       "      <td>sun</td>\n",
       "      <td>sun</td>\n",
       "    </tr>\n",
       "    <tr>\n",
       "      <th>8</th>\n",
       "      <td>9</td>\n",
       "      <td>sun</td>\n",
       "      <td>NaN</td>\n",
       "    </tr>\n",
       "  </tbody>\n",
       "</table>\n",
       "</div>"
      ],
      "text/plain": [
       "   day weather transition\n",
       "0    1    snow       snow\n",
       "1    2    snow        sun\n",
       "2    3     sun       snow\n",
       "3    4    snow       snow\n",
       "4    5    snow        sun\n",
       "5    6     sun       snow\n",
       "6    7    snow        sun\n",
       "7    8     sun        sun\n",
       "8    9     sun        NaN"
      ]
     },
     "execution_count": 4,
     "metadata": {},
     "output_type": "execute_result"
    }
   ],
   "source": [
    "# Create a column containing the next state\n",
    "weather['transition'] = weather['weather'].shift(-1)\n",
    "weather"
   ]
  },
  {
   "cell_type": "code",
   "execution_count": 5,
   "metadata": {},
   "outputs": [
    {
     "data": {
      "text/html": [
       "<div>\n",
       "<style scoped>\n",
       "    .dataframe tbody tr th:only-of-type {\n",
       "        vertical-align: middle;\n",
       "    }\n",
       "\n",
       "    .dataframe tbody tr th {\n",
       "        vertical-align: top;\n",
       "    }\n",
       "\n",
       "    .dataframe thead th {\n",
       "        text-align: right;\n",
       "    }\n",
       "</style>\n",
       "<table border=\"1\" class=\"dataframe\">\n",
       "  <thead>\n",
       "    <tr style=\"text-align: right;\">\n",
       "      <th></th>\n",
       "      <th></th>\n",
       "      <th>day</th>\n",
       "    </tr>\n",
       "    <tr>\n",
       "      <th>weather</th>\n",
       "      <th>transition</th>\n",
       "      <th></th>\n",
       "    </tr>\n",
       "  </thead>\n",
       "  <tbody>\n",
       "    <tr>\n",
       "      <th rowspan=\"2\" valign=\"top\">snow</th>\n",
       "      <th>snow</th>\n",
       "      <td>2</td>\n",
       "    </tr>\n",
       "    <tr>\n",
       "      <th>sun</th>\n",
       "      <td>3</td>\n",
       "    </tr>\n",
       "    <tr>\n",
       "      <th rowspan=\"2\" valign=\"top\">sun</th>\n",
       "      <th>snow</th>\n",
       "      <td>2</td>\n",
       "    </tr>\n",
       "    <tr>\n",
       "      <th>sun</th>\n",
       "      <td>1</td>\n",
       "    </tr>\n",
       "  </tbody>\n",
       "</table>\n",
       "</div>"
      ],
      "text/plain": [
       "                    day\n",
       "weather transition     \n",
       "snow    snow          2\n",
       "        sun           3\n",
       "sun     snow          2\n",
       "        sun           1"
      ]
     },
     "execution_count": 5,
     "metadata": {},
     "output_type": "execute_result"
    }
   ],
   "source": [
    "# How do we now calculate the empirical transition probabilities?\n",
    "weather.groupby(['weather', 'transition']).count()"
   ]
  },
  {
   "cell_type": "code",
   "execution_count": 11,
   "metadata": {},
   "outputs": [
    {
     "data": {
      "text/html": [
       "<div>\n",
       "<style scoped>\n",
       "    .dataframe tbody tr th:only-of-type {\n",
       "        vertical-align: middle;\n",
       "    }\n",
       "\n",
       "    .dataframe tbody tr th {\n",
       "        vertical-align: top;\n",
       "    }\n",
       "\n",
       "    .dataframe thead th {\n",
       "        text-align: right;\n",
       "    }\n",
       "</style>\n",
       "<table border=\"1\" class=\"dataframe\">\n",
       "  <thead>\n",
       "    <tr style=\"text-align: right;\">\n",
       "      <th>transition</th>\n",
       "      <th>snow</th>\n",
       "      <th>sun</th>\n",
       "    </tr>\n",
       "    <tr>\n",
       "      <th>weather</th>\n",
       "      <th></th>\n",
       "      <th></th>\n",
       "    </tr>\n",
       "  </thead>\n",
       "  <tbody>\n",
       "    <tr>\n",
       "      <th>snow</th>\n",
       "      <td>0.400000</td>\n",
       "      <td>0.600000</td>\n",
       "    </tr>\n",
       "    <tr>\n",
       "      <th>sun</th>\n",
       "      <td>0.666667</td>\n",
       "      <td>0.333333</td>\n",
       "    </tr>\n",
       "  </tbody>\n",
       "</table>\n",
       "</div>"
      ],
      "text/plain": [
       "transition      snow       sun\n",
       "weather                       \n",
       "snow        0.400000  0.600000\n",
       "sun         0.666667  0.333333"
      ]
     },
     "execution_count": 11,
     "metadata": {},
     "output_type": "execute_result"
    }
   ],
   "source": [
    "# Use pd.crosstab to calculate the transition probabilites\n",
    "P = pd.crosstab(weather['weather'], weather['transition'], normalize='index')\n",
    "P\n",
    "\n",
    "# P is the transition probability matrix"
   ]
  },
  {
   "cell_type": "markdown",
   "metadata": {},
   "source": [
    "## Creating a state diagram with [`pygraphviz`](http://pygraphviz.github.io/documentation/pygraphviz-1.5/)"
   ]
  },
  {
   "cell_type": "code",
   "execution_count": 7,
   "metadata": {},
   "outputs": [],
   "source": [
    "#pip install pygraphviz"
   ]
  },
  {
   "cell_type": "code",
   "execution_count": 8,
   "metadata": {},
   "outputs": [
    {
     "ename": "ModuleNotFoundError",
     "evalue": "No module named 'pygraphviz'",
     "output_type": "error",
     "traceback": [
      "\u001b[0;31m---------------------------------------------------------------------------\u001b[0m",
      "\u001b[0;31mModuleNotFoundError\u001b[0m                       Traceback (most recent call last)",
      "\u001b[0;32m<ipython-input-8-a9600ee009d3>\u001b[0m in \u001b[0;36m<module>\u001b[0;34m\u001b[0m\n\u001b[0;32m----> 1\u001b[0;31m \u001b[0;32mimport\u001b[0m \u001b[0mpygraphviz\u001b[0m \u001b[0;32mas\u001b[0m \u001b[0mpgv\u001b[0m\u001b[0;34m\u001b[0m\u001b[0;34m\u001b[0m\u001b[0m\n\u001b[0m\u001b[1;32m      2\u001b[0m \u001b[0;34m\u001b[0m\u001b[0m\n\u001b[1;32m      3\u001b[0m \u001b[0mstates\u001b[0m \u001b[0;34m=\u001b[0m \u001b[0;34m[\u001b[0m\u001b[0;34m'snow'\u001b[0m\u001b[0;34m,\u001b[0m \u001b[0;34m'sun'\u001b[0m\u001b[0;34m]\u001b[0m\u001b[0;34m\u001b[0m\u001b[0;34m\u001b[0m\u001b[0m\n\u001b[1;32m      4\u001b[0m \u001b[0mG\u001b[0m \u001b[0;34m=\u001b[0m \u001b[0mpgv\u001b[0m\u001b[0;34m.\u001b[0m\u001b[0mAGraph\u001b[0m\u001b[0;34m(\u001b[0m\u001b[0mdirected\u001b[0m\u001b[0;34m=\u001b[0m\u001b[0;32mTrue\u001b[0m\u001b[0;34m)\u001b[0m\u001b[0;34m\u001b[0m\u001b[0;34m\u001b[0m\u001b[0m\n\u001b[1;32m      5\u001b[0m \u001b[0;32mfor\u001b[0m \u001b[0mstate_from\u001b[0m \u001b[0;32min\u001b[0m \u001b[0mstates\u001b[0m\u001b[0;34m:\u001b[0m\u001b[0;34m\u001b[0m\u001b[0;34m\u001b[0m\u001b[0m\n",
      "\u001b[0;31mModuleNotFoundError\u001b[0m: No module named 'pygraphviz'"
     ]
    }
   ],
   "source": [
    "import pygraphviz as pgv\n",
    "\n",
    "states = ['snow', 'sun']\n",
    "G = pgv.AGraph(directed=True)\n",
    "for state_from in states:\n",
    "    for state_to in states:\n",
    "        G.add_edge(state_from, state_to, label=np.round(P.loc[state_from, state_to],2))\n",
    "\n",
    "G.draw('transition.png', prog='dot')"
   ]
  },
  {
   "cell_type": "markdown",
   "metadata": {},
   "source": [
    "## So we have\n",
    "\n",
    "$$\n",
    "P(Y_{t+1}=0| Y_{t}=0) = 0.4\n",
    "$$\n",
    "$$\n",
    "P(Y_{t+1}=0| Y_{t}=1) = 0.67\n",
    "$$\n",
    "$$\n",
    "P(Y_{t+1}=1| Y_{t}=0) = 0.60\n",
    "$$\n",
    "$$\n",
    "P(Y_{t+1}=1| Y_{t}=1) = 0.33\n",
    "$$\n",
    "\n",
    "What is the probability of a third day of sun given that the two previous days where sunny as well (Markov property!)?\n",
    "\n",
    "$$\n",
    "P(Y_{3}=1|Y_{2}=1, Y_{1}=1) = P(Y_{3}=1|Y_{2}=1) = 0.33\n",
    "$$\n",
    "\n",
    "What is the probability of a sunny third day given that the first day was sunny and we know nothing about the second day? \n",
    "\n",
    "$$\n",
    "P(Y_{3}=1|Y_{1}=1) = P(Y_{3}=1| Y_{2}=1)P(Y_{2}=1|Y_{1}=1) + P(Y_{3}=1| Y_{2}=0)P(Y_{2}=0|Y_{1}=1) = 0.33*0.33 + 0.6*0.67 = 0.51\n",
    "$$\n",
    "\n",
    "In general we can write:\n",
    "\n",
    "$$\n",
    "P(Y_{1+h} = y_{1+h} | Y_{1}=y_{1}) = P(Y_{1}=y_{1})P^h\n",
    "$$\n",
    "\n",
    "where $P(Y_{0})$ is the given initial distribution."
   ]
  },
  {
   "cell_type": "code",
   "execution_count": 10,
   "metadata": {},
   "outputs": [],
   "source": [
    "# Choose a current state\n",
    "current_state = [0, 1] # [0, 1] means sunny and [1, 0] means snowy\n",
    "# We know that it is sunny"
   ]
  },
  {
   "cell_type": "code",
   "execution_count": 40,
   "metadata": {},
   "outputs": [
    {
     "data": {
      "text/html": [
       "<div>\n",
       "<style scoped>\n",
       "    .dataframe tbody tr th:only-of-type {\n",
       "        vertical-align: middle;\n",
       "    }\n",
       "\n",
       "    .dataframe tbody tr th {\n",
       "        vertical-align: top;\n",
       "    }\n",
       "\n",
       "    .dataframe thead th {\n",
       "        text-align: right;\n",
       "    }\n",
       "</style>\n",
       "<table border=\"1\" class=\"dataframe\">\n",
       "  <thead>\n",
       "    <tr style=\"text-align: right;\">\n",
       "      <th>transition</th>\n",
       "      <th>snow</th>\n",
       "      <th>sun</th>\n",
       "    </tr>\n",
       "    <tr>\n",
       "      <th>weather</th>\n",
       "      <th></th>\n",
       "      <th></th>\n",
       "    </tr>\n",
       "  </thead>\n",
       "  <tbody>\n",
       "    <tr>\n",
       "      <th>snow</th>\n",
       "      <td>0.400000</td>\n",
       "      <td>0.600000</td>\n",
       "    </tr>\n",
       "    <tr>\n",
       "      <th>sun</th>\n",
       "      <td>0.666667</td>\n",
       "      <td>0.333333</td>\n",
       "    </tr>\n",
       "  </tbody>\n",
       "</table>\n",
       "</div>"
      ],
      "text/plain": [
       "transition      snow       sun\n",
       "weather                       \n",
       "snow        0.400000  0.600000\n",
       "sun         0.666667  0.333333"
      ]
     },
     "execution_count": 40,
     "metadata": {},
     "output_type": "execute_result"
    }
   ],
   "source": [
    "P"
   ]
  },
  {
   "cell_type": "code",
   "execution_count": 39,
   "metadata": {},
   "outputs": [
    {
     "data": {
      "text/plain": [
       "transition\n",
       "snow    0.666667\n",
       "sun     0.333333\n",
       "Name: sun, dtype: float64"
      ]
     },
     "execution_count": 39,
     "metadata": {},
     "output_type": "execute_result"
    }
   ],
   "source": [
    "P.loc['sun']"
   ]
  },
  {
   "cell_type": "code",
   "execution_count": 64,
   "metadata": {},
   "outputs": [
    {
     "data": {
      "text/plain": [
       "array([0.66666667, 0.33333333])"
      ]
     },
     "execution_count": 64,
     "metadata": {},
     "output_type": "execute_result"
    }
   ],
   "source": [
    "# What is the probablity for the conditions tomorrow?\n",
    "np.dot(current_state, P)"
   ]
  },
  {
   "cell_type": "code",
   "execution_count": 81,
   "metadata": {},
   "outputs": [
    {
     "data": {
      "text/plain": [
       "'snow'"
      ]
     },
     "execution_count": 81,
     "metadata": {},
     "output_type": "execute_result"
    }
   ],
   "source": [
    "# How can we actually choose, given the current probability distribution, a next stat\n",
    "np.random.choice(S, p=P.loc['sun'])\n",
    "# np.random.choice(S, p=np.dot(current_state, P))\n",
    "\n",
    "# Both solutions are equivalent"
   ]
  },
  {
   "cell_type": "code",
   "execution_count": 65,
   "metadata": {},
   "outputs": [
    {
     "data": {
      "text/plain": [
       "array([0.48888889, 0.51111111])"
      ]
     },
     "execution_count": 65,
     "metadata": {},
     "output_type": "execute_result"
    }
   ],
   "source": [
    "# What is the probability for the conditions in two days?\n",
    "np.dot(np.dot(current_state, P), P)"
   ]
  },
  {
   "cell_type": "code",
   "execution_count": 73,
   "metadata": {},
   "outputs": [
    {
     "data": {
      "text/html": [
       "<div>\n",
       "<style scoped>\n",
       "    .dataframe tbody tr th:only-of-type {\n",
       "        vertical-align: middle;\n",
       "    }\n",
       "\n",
       "    .dataframe tbody tr th {\n",
       "        vertical-align: top;\n",
       "    }\n",
       "\n",
       "    .dataframe thead th {\n",
       "        text-align: right;\n",
       "    }\n",
       "</style>\n",
       "<table border=\"1\" class=\"dataframe\">\n",
       "  <thead>\n",
       "    <tr style=\"text-align: right;\">\n",
       "      <th>transition</th>\n",
       "      <th>snow</th>\n",
       "      <th>sun</th>\n",
       "    </tr>\n",
       "    <tr>\n",
       "      <th>weather</th>\n",
       "      <th></th>\n",
       "      <th></th>\n",
       "    </tr>\n",
       "  </thead>\n",
       "  <tbody>\n",
       "    <tr>\n",
       "      <th>snow</th>\n",
       "      <td>0.526328</td>\n",
       "      <td>0.473672</td>\n",
       "    </tr>\n",
       "    <tr>\n",
       "      <th>sun</th>\n",
       "      <td>0.526302</td>\n",
       "      <td>0.473698</td>\n",
       "    </tr>\n",
       "  </tbody>\n",
       "</table>\n",
       "</div>"
      ],
      "text/plain": [
       "transition      snow       sun\n",
       "weather                       \n",
       "snow        0.526328  0.473672\n",
       "sun         0.526302  0.473698"
      ]
     },
     "execution_count": 73,
     "metadata": {},
     "output_type": "execute_result"
    }
   ],
   "source": [
    "# Look at the stationary distribution\n",
    "P.dot(P).dot(P).dot(P).dot(P).dot(P).dot(P).dot(P)"
   ]
  },
  {
   "cell_type": "markdown",
   "metadata": {},
   "source": [
    "#### How can we characterize the Markov Chain in the supermarket project?"
   ]
  },
  {
   "cell_type": "code",
   "execution_count": null,
   "metadata": {},
   "outputs": [],
   "source": [
    "# Initial State\n",
    "# You could randomly draw from all states but the checkout\n",
    "\n",
    "# State Space - state of all possible states\n",
    "S = ['dairy', 'drinks', 'spices', 'fruit', 'checkout']\n",
    "\n",
    "# Transition Probabilites\n",
    "# Your task to extract them from the data"
   ]
  }
 ],
 "metadata": {
  "kernelspec": {
   "display_name": "Python 3",
   "language": "python",
   "name": "python3"
  },
  "language_info": {
   "codemirror_mode": {
    "name": "ipython",
    "version": 3
   },
   "file_extension": ".py",
   "mimetype": "text/x-python",
   "name": "python",
   "nbconvert_exporter": "python",
   "pygments_lexer": "ipython3",
   "version": "3.8.3"
  }
 },
 "nbformat": 4,
 "nbformat_minor": 4
}
