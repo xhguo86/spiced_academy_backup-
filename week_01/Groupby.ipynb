{
 "cells": [
  {
   "cell_type": "markdown",
   "metadata": {},
   "source": [
    "# 0) Warmup"
   ]
  },
  {
   "cell_type": "code",
   "execution_count": 2,
   "metadata": {},
   "outputs": [
    {
     "name": "stdout",
     "output_type": "stream",
     "text": [
      "ls: 无法访问 'groupby_and_aggregation': 没有那个文件或目录\r\n"
     ]
    }
   ],
   "source": [
    "!ls groupby_and_aggregation"
   ]
  },
  {
   "cell_type": "code",
   "execution_count": 3,
   "metadata": {},
   "outputs": [],
   "source": [
    "import pandas as pd\n",
    "import numpy as np\n",
    "\n",
    "df = pd.read_csv('./data/large_countries_2015.csv', index_col=0)\n",
    "\n",
    "df['population'] = df['population'] / 1000000\n",
    "# 小数点\n",
    "df['population'] = round(df['population'], 1)"
   ]
  },
  {
   "cell_type": "code",
   "execution_count": 7,
   "metadata": {
    "collapsed": true
   },
   "outputs": [
    {
     "data": {
      "text/html": [
       "<div>\n",
       "<style scoped>\n",
       "    .dataframe tbody tr th:only-of-type {\n",
       "        vertical-align: middle;\n",
       "    }\n",
       "\n",
       "    .dataframe tbody tr th {\n",
       "        vertical-align: top;\n",
       "    }\n",
       "\n",
       "    .dataframe thead th {\n",
       "        text-align: right;\n",
       "    }\n",
       "</style>\n",
       "<table border=\"1\" class=\"dataframe\">\n",
       "  <thead>\n",
       "    <tr style=\"text-align: right;\">\n",
       "      <th></th>\n",
       "      <th>population</th>\n",
       "      <th>fertility</th>\n",
       "      <th>continent</th>\n",
       "    </tr>\n",
       "  </thead>\n",
       "  <tbody>\n",
       "    <tr>\n",
       "      <th>Bangladesh</th>\n",
       "      <td>161.0</td>\n",
       "      <td>2.12</td>\n",
       "      <td>Asia</td>\n",
       "    </tr>\n",
       "    <tr>\n",
       "      <th>Brazil</th>\n",
       "      <td>207.8</td>\n",
       "      <td>1.78</td>\n",
       "      <td>South America</td>\n",
       "    </tr>\n",
       "    <tr>\n",
       "      <th>China</th>\n",
       "      <td>1376.0</td>\n",
       "      <td>1.57</td>\n",
       "      <td>Asia</td>\n",
       "    </tr>\n",
       "    <tr>\n",
       "      <th>India</th>\n",
       "      <td>1311.1</td>\n",
       "      <td>2.43</td>\n",
       "      <td>Asia</td>\n",
       "    </tr>\n",
       "    <tr>\n",
       "      <th>Indonesia</th>\n",
       "      <td>257.6</td>\n",
       "      <td>2.28</td>\n",
       "      <td>Asia</td>\n",
       "    </tr>\n",
       "  </tbody>\n",
       "</table>\n",
       "</div>"
      ],
      "text/plain": [
       "            population  fertility      continent\n",
       "Bangladesh       161.0       2.12           Asia\n",
       "Brazil           207.8       1.78  South America\n",
       "China           1376.0       1.57           Asia\n",
       "India           1311.1       2.43           Asia\n",
       "Indonesia        257.6       2.28           Asia"
      ]
     },
     "execution_count": 7,
     "metadata": {},
     "output_type": "execute_result"
    }
   ],
   "source": [
    "df.head()"
   ]
  },
  {
   "cell_type": "markdown",
   "metadata": {},
   "source": [
    "## 0.1) Calculate the average population size of countries in the dataset"
   ]
  },
  {
   "cell_type": "code",
   "execution_count": 4,
   "metadata": {},
   "outputs": [
    {
     "name": "stdout",
     "output_type": "stream",
     "text": [
      "The average population size of large countries in 2015 was 375.35 million\n"
     ]
    }
   ],
   "source": [
    "print(f'The average population size of large countries in 2015 was {round(df.population.mean(), 2)} million')"
   ]
  },
  {
   "cell_type": "markdown",
   "metadata": {},
   "source": [
    "## 0.2) Calculate the average fertility rate in the dataset"
   ]
  },
  {
   "cell_type": "code",
   "execution_count": 5,
   "metadata": {},
   "outputs": [
    {
     "data": {
      "text/html": [
       "<div>\n",
       "<style scoped>\n",
       "    .dataframe tbody tr th:only-of-type {\n",
       "        vertical-align: middle;\n",
       "    }\n",
       "\n",
       "    .dataframe tbody tr th {\n",
       "        vertical-align: top;\n",
       "    }\n",
       "\n",
       "    .dataframe thead th {\n",
       "        text-align: right;\n",
       "    }\n",
       "</style>\n",
       "<table border=\"1\" class=\"dataframe\">\n",
       "  <thead>\n",
       "    <tr style=\"text-align: right;\">\n",
       "      <th></th>\n",
       "      <th>population</th>\n",
       "      <th>fertility</th>\n",
       "      <th>continent</th>\n",
       "      <th>pop_next_gen</th>\n",
       "    </tr>\n",
       "  </thead>\n",
       "  <tbody>\n",
       "    <tr>\n",
       "      <th>Bangladesh</th>\n",
       "      <td>161.0</td>\n",
       "      <td>2.12</td>\n",
       "      <td>Asia</td>\n",
       "      <td>331.6600</td>\n",
       "    </tr>\n",
       "    <tr>\n",
       "      <th>Brazil</th>\n",
       "      <td>207.8</td>\n",
       "      <td>1.78</td>\n",
       "      <td>South America</td>\n",
       "      <td>392.7420</td>\n",
       "    </tr>\n",
       "    <tr>\n",
       "      <th>China</th>\n",
       "      <td>1376.0</td>\n",
       "      <td>1.57</td>\n",
       "      <td>Asia</td>\n",
       "      <td>2456.1600</td>\n",
       "    </tr>\n",
       "    <tr>\n",
       "      <th>India</th>\n",
       "      <td>1311.1</td>\n",
       "      <td>2.43</td>\n",
       "      <td>Asia</td>\n",
       "      <td>2904.0865</td>\n",
       "    </tr>\n",
       "    <tr>\n",
       "      <th>Indonesia</th>\n",
       "      <td>257.6</td>\n",
       "      <td>2.28</td>\n",
       "      <td>Asia</td>\n",
       "      <td>551.2640</td>\n",
       "    </tr>\n",
       "  </tbody>\n",
       "</table>\n",
       "</div>"
      ],
      "text/plain": [
       "            population  fertility      continent  pop_next_gen\n",
       "Bangladesh       161.0       2.12           Asia      331.6600\n",
       "Brazil           207.8       1.78  South America      392.7420\n",
       "China           1376.0       1.57           Asia     2456.1600\n",
       "India           1311.1       2.43           Asia     2904.0865\n",
       "Indonesia        257.6       2.28           Asia      551.2640"
      ]
     },
     "execution_count": 5,
     "metadata": {},
     "output_type": "execute_result"
    }
   ],
   "source": [
    "# If no person dies, \n",
    "# what would be the number of people living in large countries in the next generation?\n",
    "df['pop_next_gen'] = df['population'] + df['population'] * 0.5 * df['fertility']\n",
    "df.head()"
   ]
  },
  {
   "cell_type": "code",
   "execution_count": 6,
   "metadata": {},
   "outputs": [
    {
     "name": "stdout",
     "output_type": "stream",
     "text": [
      "The sum of people living in large countries in the next generation is 9459.89\n"
     ]
    }
   ],
   "source": [
    "population = round(df['pop_next_gen'].sum(), 2)\n",
    "print(f'The sum of people living in large countries in the next generation is {population}')"
   ]
  },
  {
   "cell_type": "code",
   "execution_count": 7,
   "metadata": {},
   "outputs": [
    {
     "data": {
      "text/html": [
       "<div>\n",
       "<style scoped>\n",
       "    .dataframe tbody tr th:only-of-type {\n",
       "        vertical-align: middle;\n",
       "    }\n",
       "\n",
       "    .dataframe tbody tr th {\n",
       "        vertical-align: top;\n",
       "    }\n",
       "\n",
       "    .dataframe thead th {\n",
       "        text-align: right;\n",
       "    }\n",
       "</style>\n",
       "<table border=\"1\" class=\"dataframe\">\n",
       "  <thead>\n",
       "    <tr style=\"text-align: right;\">\n",
       "      <th></th>\n",
       "      <th>population</th>\n",
       "      <th>fertility</th>\n",
       "      <th>continent</th>\n",
       "      <th>pop_next_gen</th>\n",
       "      <th>pop_next_arithmetic_mean</th>\n",
       "    </tr>\n",
       "  </thead>\n",
       "  <tbody>\n",
       "    <tr>\n",
       "      <th>Bangladesh</th>\n",
       "      <td>161.0</td>\n",
       "      <td>2.12</td>\n",
       "      <td>Asia</td>\n",
       "      <td>331.6600</td>\n",
       "      <td>357.218750</td>\n",
       "    </tr>\n",
       "    <tr>\n",
       "      <th>Brazil</th>\n",
       "      <td>207.8</td>\n",
       "      <td>1.78</td>\n",
       "      <td>South America</td>\n",
       "      <td>392.7420</td>\n",
       "      <td>461.056250</td>\n",
       "    </tr>\n",
       "    <tr>\n",
       "      <th>China</th>\n",
       "      <td>1376.0</td>\n",
       "      <td>1.57</td>\n",
       "      <td>Asia</td>\n",
       "      <td>2456.1600</td>\n",
       "      <td>3053.000000</td>\n",
       "    </tr>\n",
       "    <tr>\n",
       "      <th>India</th>\n",
       "      <td>1311.1</td>\n",
       "      <td>2.43</td>\n",
       "      <td>Asia</td>\n",
       "      <td>2904.0865</td>\n",
       "      <td>2909.003125</td>\n",
       "    </tr>\n",
       "    <tr>\n",
       "      <th>Indonesia</th>\n",
       "      <td>257.6</td>\n",
       "      <td>2.28</td>\n",
       "      <td>Asia</td>\n",
       "      <td>551.2640</td>\n",
       "      <td>571.550000</td>\n",
       "    </tr>\n",
       "  </tbody>\n",
       "</table>\n",
       "</div>"
      ],
      "text/plain": [
       "            population  fertility      continent  pop_next_gen  \\\n",
       "Bangladesh       161.0       2.12           Asia      331.6600   \n",
       "Brazil           207.8       1.78  South America      392.7420   \n",
       "China           1376.0       1.57           Asia     2456.1600   \n",
       "India           1311.1       2.43           Asia     2904.0865   \n",
       "Indonesia        257.6       2.28           Asia      551.2640   \n",
       "\n",
       "            pop_next_arithmetic_mean  \n",
       "Bangladesh                357.218750  \n",
       "Brazil                    461.056250  \n",
       "China                    3053.000000  \n",
       "India                    2909.003125  \n",
       "Indonesia                 571.550000  "
      ]
     },
     "execution_count": 7,
     "metadata": {},
     "output_type": "execute_result"
    }
   ],
   "source": [
    "# The average fertility rate would be the fertility rate that would lead to exactly this number\n",
    "# if we applied it to every country\n",
    "df['pop_next_arithmetic_mean'] = df['population'] + df['population'] * 0.5 * df['fertility'].mean()\n",
    "df.head()"
   ]
  },
  {
   "cell_type": "code",
   "execution_count": 8,
   "metadata": {},
   "outputs": [
    {
     "name": "stdout",
     "output_type": "stream",
     "text": [
      "The sum of people living in large countries in the next generation is 9993.69\n"
     ]
    }
   ],
   "source": [
    "population_arithmetic_mean = round(df['pop_next_arithmetic_mean'].sum(), 2)\n",
    "print(f'The sum of people living in large countries in the next generation is {population_arithmetic_mean}')"
   ]
  },
  {
   "cell_type": "code",
   "execution_count": 9,
   "metadata": {},
   "outputs": [],
   "source": [
    "# Taking the arithmetic mean does not provide us with the right number of people in the next \n",
    "# generation\n",
    "# The reason is that the influence of countries du to differences in population size are not \n",
    "# taken into account by the arithmetic mean"
   ]
  },
  {
   "cell_type": "code",
   "execution_count": 10,
   "metadata": {},
   "outputs": [],
   "source": [
    "# Weighted arithmetic mean\n",
    "# Weights will be the population size\n",
    "weighted_average_fertility = np.average(df.fertility, weights=df.population)"
   ]
  },
  {
   "cell_type": "code",
   "execution_count": 11,
   "metadata": {},
   "outputs": [
    {
     "data": {
      "text/html": [
       "<div>\n",
       "<style scoped>\n",
       "    .dataframe tbody tr th:only-of-type {\n",
       "        vertical-align: middle;\n",
       "    }\n",
       "\n",
       "    .dataframe tbody tr th {\n",
       "        vertical-align: top;\n",
       "    }\n",
       "\n",
       "    .dataframe thead th {\n",
       "        text-align: right;\n",
       "    }\n",
       "</style>\n",
       "<table border=\"1\" class=\"dataframe\">\n",
       "  <thead>\n",
       "    <tr style=\"text-align: right;\">\n",
       "      <th></th>\n",
       "      <th>population</th>\n",
       "      <th>fertility</th>\n",
       "      <th>continent</th>\n",
       "      <th>pop_next_gen</th>\n",
       "      <th>pop_next_arithmetic_mean</th>\n",
       "      <th>pop_next_weighted_arithmetic_mean</th>\n",
       "    </tr>\n",
       "  </thead>\n",
       "  <tbody>\n",
       "    <tr>\n",
       "      <th>Bangladesh</th>\n",
       "      <td>161.0</td>\n",
       "      <td>2.12</td>\n",
       "      <td>Asia</td>\n",
       "      <td>331.6600</td>\n",
       "      <td>357.218750</td>\n",
       "      <td>338.138354</td>\n",
       "    </tr>\n",
       "    <tr>\n",
       "      <th>Brazil</th>\n",
       "      <td>207.8</td>\n",
       "      <td>1.78</td>\n",
       "      <td>South America</td>\n",
       "      <td>392.7420</td>\n",
       "      <td>461.056250</td>\n",
       "      <td>436.429503</td>\n",
       "    </tr>\n",
       "    <tr>\n",
       "      <th>China</th>\n",
       "      <td>1376.0</td>\n",
       "      <td>1.57</td>\n",
       "      <td>Asia</td>\n",
       "      <td>2456.1600</td>\n",
       "      <td>3053.000000</td>\n",
       "      <td>2889.927794</td>\n",
       "    </tr>\n",
       "    <tr>\n",
       "      <th>India</th>\n",
       "      <td>1311.1</td>\n",
       "      <td>2.43</td>\n",
       "      <td>Asia</td>\n",
       "      <td>2904.0865</td>\n",
       "      <td>2909.003125</td>\n",
       "      <td>2753.622333</td>\n",
       "    </tr>\n",
       "    <tr>\n",
       "      <th>Indonesia</th>\n",
       "      <td>257.6</td>\n",
       "      <td>2.28</td>\n",
       "      <td>Asia</td>\n",
       "      <td>551.2640</td>\n",
       "      <td>571.550000</td>\n",
       "      <td>541.021366</td>\n",
       "    </tr>\n",
       "  </tbody>\n",
       "</table>\n",
       "</div>"
      ],
      "text/plain": [
       "            population  fertility      continent  pop_next_gen  \\\n",
       "Bangladesh       161.0       2.12           Asia      331.6600   \n",
       "Brazil           207.8       1.78  South America      392.7420   \n",
       "China           1376.0       1.57           Asia     2456.1600   \n",
       "India           1311.1       2.43           Asia     2904.0865   \n",
       "Indonesia        257.6       2.28           Asia      551.2640   \n",
       "\n",
       "            pop_next_arithmetic_mean  pop_next_weighted_arithmetic_mean  \n",
       "Bangladesh                357.218750                         338.138354  \n",
       "Brazil                    461.056250                         436.429503  \n",
       "China                    3053.000000                        2889.927794  \n",
       "India                    2909.003125                        2753.622333  \n",
       "Indonesia                 571.550000                         541.021366  "
      ]
     },
     "execution_count": 11,
     "metadata": {},
     "output_type": "execute_result"
    }
   ],
   "source": [
    "df['pop_next_weighted_arithmetic_mean'] = df['population'] + df['population'] * 0.5 * weighted_average_fertility\n",
    "df.head()"
   ]
  },
  {
   "cell_type": "code",
   "execution_count": 12,
   "metadata": {},
   "outputs": [
    {
     "name": "stdout",
     "output_type": "stream",
     "text": [
      "The sum of people living in large countries in the next generation is 9459.89\n"
     ]
    }
   ],
   "source": [
    "population_weighted_arithmetic_mean = round(df['pop_next_weighted_arithmetic_mean'].sum(), 2)\n",
    "print(f'The sum of people living in large countries in the next generation is {population_weighted_arithmetic_mean}')"
   ]
  },
  {
   "cell_type": "code",
   "execution_count": null,
   "metadata": {},
   "outputs": [],
   "source": []
  },
  {
   "cell_type": "markdown",
   "metadata": {},
   "source": [
    "Now imagine that we are interested in the averages per continent. How can we do that?"
   ]
  },
  {
   "cell_type": "markdown",
   "metadata": {},
   "source": [
    "# 1) Groupby and aggregation\n",
    "\n",
    "Today we are going to talk about 3 different but related topics.\n",
    "\n",
    "1. Aggregate functions in pandas\n",
    "2. The groupby method of a pandas.DataFrame\n",
    "3. Applying functions or transformations to pandas.Series"
   ]
  },
  {
   "cell_type": "markdown",
   "metadata": {},
   "source": [
    "## 1.1) Aggregate functions in pandas\n",
    "\n",
    "**Aggregate function**: takes multiple rows as input and returns a single value"
   ]
  },
  {
   "cell_type": "code",
   "execution_count": 13,
   "metadata": {
    "collapsed": true
   },
   "outputs": [
    {
     "data": {
      "text/plain": [
       "population                           375.350000\n",
       "fertility                              2.437500\n",
       "pop_next_gen                         788.324417\n",
       "pop_next_arithmetic_mean             832.807813\n",
       "pop_next_weighted_arithmetic_mean    788.324417\n",
       "dtype: float64"
      ]
     },
     "execution_count": 13,
     "metadata": {},
     "output_type": "execute_result"
    }
   ],
   "source": [
    "df.mean()"
   ]
  },
  {
   "cell_type": "code",
   "execution_count": 14,
   "metadata": {
    "collapsed": true
   },
   "outputs": [
    {
     "data": {
      "text/plain": [
       "population    4504.20\n",
       "fertility       29.25\n",
       "dtype: float64"
      ]
     },
     "execution_count": 14,
     "metadata": {},
     "output_type": "execute_result"
    }
   ],
   "source": [
    "df[['population', 'fertility']].sum()"
   ]
  },
  {
   "cell_type": "code",
   "execution_count": 15,
   "metadata": {
    "collapsed": true
   },
   "outputs": [
    {
     "data": {
      "text/plain": [
       "population                           12\n",
       "fertility                            12\n",
       "continent                            12\n",
       "pop_next_gen                         12\n",
       "pop_next_arithmetic_mean             12\n",
       "pop_next_weighted_arithmetic_mean    12\n",
       "dtype: int64"
      ]
     },
     "execution_count": 15,
     "metadata": {},
     "output_type": "execute_result"
    }
   ],
   "source": [
    "df.count()"
   ]
  },
  {
   "cell_type": "code",
   "execution_count": 16,
   "metadata": {
    "collapsed": true
   },
   "outputs": [
    {
     "data": {
      "text/plain": [
       "population                                    1376\n",
       "fertility                                     5.89\n",
       "continent                            South America\n",
       "pop_next_gen                               2904.09\n",
       "pop_next_arithmetic_mean                      3053\n",
       "pop_next_weighted_arithmetic_mean          2889.93\n",
       "dtype: object"
      ]
     },
     "execution_count": 16,
     "metadata": {},
     "output_type": "execute_result"
    }
   ],
   "source": [
    "df.max()"
   ]
  },
  {
   "cell_type": "code",
   "execution_count": 17,
   "metadata": {
    "collapsed": true
   },
   "outputs": [
    {
     "data": {
      "text/plain": [
       "population                             100.7\n",
       "fertility                               1.45\n",
       "continent                             Africa\n",
       "pop_next_gen                         218.385\n",
       "pop_next_arithmetic_mean             223.428\n",
       "pop_next_weighted_arithmetic_mean    211.494\n",
       "dtype: object"
      ]
     },
     "execution_count": 17,
     "metadata": {},
     "output_type": "execute_result"
    }
   ],
   "source": [
    "df.min()"
   ]
  },
  {
   "cell_type": "code",
   "execution_count": 18,
   "metadata": {
    "collapsed": true
   },
   "outputs": [
    {
     "data": {
      "text/plain": [
       "population                           185.550000\n",
       "fertility                              2.125000\n",
       "pop_next_gen                         434.385000\n",
       "pop_next_arithmetic_mean             411.689062\n",
       "pop_next_weighted_arithmetic_mean    389.699202\n",
       "dtype: float64"
      ]
     },
     "execution_count": 18,
     "metadata": {},
     "output_type": "execute_result"
    }
   ],
   "source": [
    "df.median()"
   ]
  },
  {
   "cell_type": "code",
   "execution_count": 19,
   "metadata": {
    "collapsed": true
   },
   "outputs": [
    {
     "data": {
      "text/plain": [
       "population                           126.640000\n",
       "fertility                              1.574000\n",
       "pop_next_gen                         251.570450\n",
       "pop_next_arithmetic_mean             280.982500\n",
       "pop_next_weighted_arithmetic_mean    265.974168\n",
       "Name: 0.1, dtype: float64"
      ]
     },
     "execution_count": 19,
     "metadata": {},
     "output_type": "execute_result"
    }
   ],
   "source": [
    "df.quantile(.1)"
   ]
  },
  {
   "cell_type": "code",
   "execution_count": 20,
   "metadata": {
    "collapsed": true
   },
   "outputs": [
    {
     "data": {
      "text/plain": [
       "population                           4.000891e+28\n",
       "fertility                            1.715701e+04\n",
       "pop_next_gen                         4.163947e+32\n",
       "pop_next_arithmetic_mean             5.694520e+32\n",
       "pop_next_weighted_arithmetic_mean    2.946995e+32\n",
       "dtype: float64"
      ]
     },
     "execution_count": 20,
     "metadata": {},
     "output_type": "execute_result"
    }
   ],
   "source": [
    "df.prod()"
   ]
  },
  {
   "cell_type": "code",
   "execution_count": 21,
   "metadata": {
    "collapsed": true
   },
   "outputs": [
    {
     "data": {
      "text/plain": [
       "population                            456.517642\n",
       "fertility                               1.200781\n",
       "pop_next_gen                          903.267856\n",
       "pop_next_arithmetic_mean             1012.898518\n",
       "pop_next_weighted_arithmetic_mean     958.795800\n",
       "dtype: float64"
      ]
     },
     "execution_count": 21,
     "metadata": {},
     "output_type": "execute_result"
    }
   ],
   "source": [
    "df.std()"
   ]
  },
  {
   "cell_type": "code",
   "execution_count": null,
   "metadata": {},
   "outputs": [],
   "source": [
    "df.var()"
   ]
  },
  {
   "cell_type": "code",
   "execution_count": 25,
   "metadata": {
    "collapsed": true
   },
   "outputs": [
    {
     "data": {
      "text/plain": [
       "population                           131.785292\n",
       "fertility                              0.346636\n",
       "pop_next_gen                         260.750970\n",
       "pop_next_arithmetic_mean             292.398616\n",
       "pop_next_weighted_arithmetic_mean    276.780507\n",
       "dtype: float64"
      ]
     },
     "execution_count": 25,
     "metadata": {},
     "output_type": "execute_result"
    }
   ],
   "source": [
    "df.sem()"
   ]
  },
  {
   "cell_type": "code",
   "execution_count": 33,
   "metadata": {},
   "outputs": [
    {
     "data": {
      "text/html": [
       "<div>\n",
       "<style scoped>\n",
       "    .dataframe tbody tr th:only-of-type {\n",
       "        vertical-align: middle;\n",
       "    }\n",
       "\n",
       "    .dataframe tbody tr th {\n",
       "        vertical-align: top;\n",
       "    }\n",
       "\n",
       "    .dataframe thead th {\n",
       "        text-align: right;\n",
       "    }\n",
       "</style>\n",
       "<table border=\"1\" class=\"dataframe\">\n",
       "  <thead>\n",
       "    <tr style=\"text-align: right;\">\n",
       "      <th></th>\n",
       "      <th>population</th>\n",
       "      <th>fertility</th>\n",
       "      <th>pop_next_gen</th>\n",
       "      <th>pop_next_arithmetic_mean</th>\n",
       "      <th>pop_next_weighted_arithmetic_mean</th>\n",
       "    </tr>\n",
       "  </thead>\n",
       "  <tbody>\n",
       "    <tr>\n",
       "      <th>count</th>\n",
       "      <td>12.000000</td>\n",
       "      <td>12.000000</td>\n",
       "      <td>12.000000</td>\n",
       "      <td>12.000000</td>\n",
       "      <td>12.000000</td>\n",
       "    </tr>\n",
       "    <tr>\n",
       "      <th>mean</th>\n",
       "      <td>375.350000</td>\n",
       "      <td>2.437500</td>\n",
       "      <td>788.324417</td>\n",
       "      <td>832.807813</td>\n",
       "      <td>788.324417</td>\n",
       "    </tr>\n",
       "    <tr>\n",
       "      <th>std</th>\n",
       "      <td>456.517642</td>\n",
       "      <td>1.200781</td>\n",
       "      <td>903.267856</td>\n",
       "      <td>1012.898518</td>\n",
       "      <td>958.795800</td>\n",
       "    </tr>\n",
       "    <tr>\n",
       "      <th>min</th>\n",
       "      <td>100.700000</td>\n",
       "      <td>1.450000</td>\n",
       "      <td>218.385000</td>\n",
       "      <td>223.428125</td>\n",
       "      <td>211.493989</td>\n",
       "    </tr>\n",
       "    <tr>\n",
       "      <th>25%</th>\n",
       "      <td>139.375000</td>\n",
       "      <td>1.737500</td>\n",
       "      <td>261.445625</td>\n",
       "      <td>309.238281</td>\n",
       "      <td>292.720702</td>\n",
       "    </tr>\n",
       "    <tr>\n",
       "      <th>50%</th>\n",
       "      <td>185.550000</td>\n",
       "      <td>2.125000</td>\n",
       "      <td>434.385000</td>\n",
       "      <td>411.689062</td>\n",
       "      <td>389.699202</td>\n",
       "    </tr>\n",
       "    <tr>\n",
       "      <th>75%</th>\n",
       "      <td>273.650000</td>\n",
       "      <td>2.567500</td>\n",
       "      <td>658.774500</td>\n",
       "      <td>607.160937</td>\n",
       "      <td>574.730189</td>\n",
       "    </tr>\n",
       "    <tr>\n",
       "      <th>max</th>\n",
       "      <td>1376.000000</td>\n",
       "      <td>5.890000</td>\n",
       "      <td>2904.086500</td>\n",
       "      <td>3053.000000</td>\n",
       "      <td>2889.927794</td>\n",
       "    </tr>\n",
       "  </tbody>\n",
       "</table>\n",
       "</div>"
      ],
      "text/plain": [
       "        population  fertility  pop_next_gen  pop_next_arithmetic_mean  \\\n",
       "count    12.000000  12.000000     12.000000                 12.000000   \n",
       "mean    375.350000   2.437500    788.324417                832.807813   \n",
       "std     456.517642   1.200781    903.267856               1012.898518   \n",
       "min     100.700000   1.450000    218.385000                223.428125   \n",
       "25%     139.375000   1.737500    261.445625                309.238281   \n",
       "50%     185.550000   2.125000    434.385000                411.689062   \n",
       "75%     273.650000   2.567500    658.774500                607.160937   \n",
       "max    1376.000000   5.890000   2904.086500               3053.000000   \n",
       "\n",
       "       pop_next_weighted_arithmetic_mean  \n",
       "count                          12.000000  \n",
       "mean                          788.324417  \n",
       "std                           958.795800  \n",
       "min                           211.493989  \n",
       "25%                           292.720702  \n",
       "50%                           389.699202  \n",
       "75%                           574.730189  \n",
       "max                          2889.927794  "
      ]
     },
     "execution_count": 33,
     "metadata": {},
     "output_type": "execute_result"
    }
   ],
   "source": [
    "df.describe()"
   ]
  },
  {
   "cell_type": "code",
   "execution_count": 34,
   "metadata": {},
   "outputs": [
    {
     "data": {
      "text/html": [
       "<div>\n",
       "<style scoped>\n",
       "    .dataframe tbody tr th:only-of-type {\n",
       "        vertical-align: middle;\n",
       "    }\n",
       "\n",
       "    .dataframe tbody tr th {\n",
       "        vertical-align: top;\n",
       "    }\n",
       "\n",
       "    .dataframe thead th {\n",
       "        text-align: right;\n",
       "    }\n",
       "</style>\n",
       "<table border=\"1\" class=\"dataframe\">\n",
       "  <thead>\n",
       "    <tr style=\"text-align: right;\">\n",
       "      <th></th>\n",
       "      <th>population</th>\n",
       "      <th>fertility</th>\n",
       "      <th>continent</th>\n",
       "      <th>pop_next_gen</th>\n",
       "      <th>pop_next_arithmetic_mean</th>\n",
       "      <th>pop_next_weighted_arithmetic_mean</th>\n",
       "    </tr>\n",
       "  </thead>\n",
       "  <tbody>\n",
       "    <tr>\n",
       "      <th>count</th>\n",
       "      <td>12.000000</td>\n",
       "      <td>12.000000</td>\n",
       "      <td>12.0</td>\n",
       "      <td>12.000000</td>\n",
       "      <td>12.000000</td>\n",
       "      <td>12.000000</td>\n",
       "    </tr>\n",
       "    <tr>\n",
       "      <th>mean</th>\n",
       "      <td>375.350000</td>\n",
       "      <td>2.437500</td>\n",
       "      <td>NaN</td>\n",
       "      <td>788.324417</td>\n",
       "      <td>832.807813</td>\n",
       "      <td>788.324417</td>\n",
       "    </tr>\n",
       "    <tr>\n",
       "      <th>std</th>\n",
       "      <td>456.517642</td>\n",
       "      <td>1.200781</td>\n",
       "      <td>NaN</td>\n",
       "      <td>903.267856</td>\n",
       "      <td>1012.898518</td>\n",
       "      <td>958.795800</td>\n",
       "    </tr>\n",
       "    <tr>\n",
       "      <th>sem</th>\n",
       "      <td>131.785292</td>\n",
       "      <td>0.346636</td>\n",
       "      <td>NaN</td>\n",
       "      <td>260.750970</td>\n",
       "      <td>292.398616</td>\n",
       "      <td>276.780507</td>\n",
       "    </tr>\n",
       "  </tbody>\n",
       "</table>\n",
       "</div>"
      ],
      "text/plain": [
       "       population  fertility  continent  pop_next_gen  \\\n",
       "count   12.000000  12.000000       12.0     12.000000   \n",
       "mean   375.350000   2.437500        NaN    788.324417   \n",
       "std    456.517642   1.200781        NaN    903.267856   \n",
       "sem    131.785292   0.346636        NaN    260.750970   \n",
       "\n",
       "       pop_next_arithmetic_mean  pop_next_weighted_arithmetic_mean  \n",
       "count                 12.000000                          12.000000  \n",
       "mean                 832.807813                         788.324417  \n",
       "std                 1012.898518                         958.795800  \n",
       "sem                  292.398616                         276.780507  "
      ]
     },
     "execution_count": 34,
     "metadata": {},
     "output_type": "execute_result"
    }
   ],
   "source": [
    "# apply a customized set of aggregate functions\n",
    "#SEM：标准误（Standard Error of Mean）\n",
    "df.agg(['count','mean', 'std','sem'])"
   ]
  },
  {
   "cell_type": "code",
   "execution_count": 24,
   "metadata": {},
   "outputs": [
    {
     "data": {
      "text/plain": [
       "population    375.350000\n",
       "fertility       1.441875\n",
       "dtype: float64"
      ]
     },
     "execution_count": 24,
     "metadata": {},
     "output_type": "execute_result"
    }
   ],
   "source": [
    "# Aggregation with different functions for different columns\n",
    "df.agg({'population': 'mean', 'fertility': 'var'})"
   ]
  },
  {
   "cell_type": "markdown",
   "metadata": {},
   "source": [
    "## 1.2) Group By in pandas\n",
    "\n",
    "Data Aggregation in Python is very closely linked to the ``DataFrame.groupby()`` statement.\n",
    "\n",
    "- Splitting the data into groups based on some criteria.\n",
    "- Applying a(n aggregate) function to each group independently.\n",
    "- Combining the results into a data structure.\n",
    "\n",
    "![Split-Apply-Combine](split_apply_combine.png)"
   ]
  },
  {
   "cell_type": "markdown",
   "metadata": {},
   "source": [
    "## 1.2.1) Splitting"
   ]
  },
  {
   "cell_type": "code",
   "execution_count": 35,
   "metadata": {},
   "outputs": [],
   "source": [
    "df = df[['population', 'fertility', 'continent']]"
   ]
  },
  {
   "cell_type": "code",
   "execution_count": 36,
   "metadata": {},
   "outputs": [
    {
     "data": {
      "text/plain": [
       "pandas.core.groupby.generic.DataFrameGroupBy"
      ]
     },
     "execution_count": 36,
     "metadata": {},
     "output_type": "execute_result"
    }
   ],
   "source": [
    "# Inspect the type of groupby\n",
    "type(df.groupby('continent'))"
   ]
  },
  {
   "cell_type": "code",
   "execution_count": 37,
   "metadata": {},
   "outputs": [],
   "source": [
    "# Assign the groupby object to a variable name\n",
    "g = df.groupby('continent')"
   ]
  },
  {
   "cell_type": "code",
   "execution_count": 38,
   "metadata": {
    "collapsed": true
   },
   "outputs": [
    {
     "data": {
      "text/plain": [
       "{'Africa': Index(['Nigeria'], dtype='object'),\n",
       " 'Asia': Index(['Bangladesh', 'China', 'India', 'Indonesia', 'Japan', 'Pakistan',\n",
       "        'Philippines'],\n",
       "       dtype='object'),\n",
       " 'Europe': Index(['Russia'], dtype='object'),\n",
       " 'North America': Index(['Mexico', 'United States'], dtype='object'),\n",
       " 'South America': Index(['Brazil'], dtype='object')}"
      ]
     },
     "execution_count": 38,
     "metadata": {},
     "output_type": "execute_result"
    }
   ],
   "source": [
    "# Inspect the attributes and methods of the object\n",
    "g.groups"
   ]
  },
  {
   "cell_type": "code",
   "execution_count": 41,
   "metadata": {},
   "outputs": [
    {
     "name": "stdout",
     "output_type": "stream",
     "text": [
      "Africa\n",
      "         population  fertility continent\n",
      "Nigeria       182.2       5.89    Africa\n",
      "\n",
      "\n",
      "Asia\n",
      "             population  fertility continent\n",
      "Bangladesh        161.0       2.12      Asia\n",
      "China            1376.0       1.57      Asia\n",
      "India            1311.1       2.43      Asia\n",
      "Indonesia         257.6       2.28      Asia\n",
      "Japan             126.6       1.45      Asia\n",
      "Pakistan          188.9       3.04      Asia\n",
      "Philippines       100.7       2.98      Asia\n",
      "\n",
      "\n",
      "Europe\n",
      "        population  fertility continent\n",
      "Russia       143.5       1.61    Europe\n",
      "\n",
      "\n",
      "North America\n",
      "               population  fertility      continent\n",
      "Mexico              127.0       2.13  North America\n",
      "United States       321.8       1.97  North America\n",
      "\n",
      "\n",
      "South America\n",
      "        population  fertility      continent\n",
      "Brazil       207.8       1.78  South America\n",
      "\n",
      "\n"
     ]
    }
   ],
   "source": [
    "# iterrate over the DataFrames\n",
    "for a, b in g:\n",
    "    print(a)\n",
    "    print(b)\n",
    "    print('\\n')"
   ]
  },
  {
   "cell_type": "code",
   "execution_count": 42,
   "metadata": {},
   "outputs": [
    {
     "name": "stdout",
     "output_type": "stream",
     "text": [
      "Africa\n",
      "         population  fertility continent\n",
      "Nigeria       182.2       5.89    Africa\n",
      "\n",
      "\n",
      "Asia\n",
      "             population  fertility continent\n",
      "Bangladesh        161.0       2.12      Asia\n",
      "China            1376.0       1.57      Asia\n",
      "India            1311.1       2.43      Asia\n",
      "Indonesia         257.6       2.28      Asia\n",
      "Japan             126.6       1.45      Asia\n",
      "Pakistan          188.9       3.04      Asia\n",
      "Philippines       100.7       2.98      Asia\n",
      "\n",
      "\n",
      "Europe\n",
      "        population  fertility continent\n",
      "Russia       143.5       1.61    Europe\n",
      "\n",
      "\n",
      "North America\n",
      "               population  fertility      continent\n",
      "Mexico              127.0       2.13  North America\n",
      "United States       321.8       1.97  North America\n",
      "\n",
      "\n",
      "South America\n",
      "        population  fertility      continent\n",
      "Brazil       207.8       1.78  South America\n",
      "\n",
      "\n"
     ]
    }
   ],
   "source": [
    "# iterrate over the DataFrames\n",
    "for group, df_group in g:\n",
    "    print(group)\n",
    "    print(df_group)\n",
    "    print('\\n')"
   ]
  },
  {
   "cell_type": "code",
   "execution_count": 43,
   "metadata": {},
   "outputs": [
    {
     "data": {
      "text/html": [
       "<div>\n",
       "<style scoped>\n",
       "    .dataframe tbody tr th:only-of-type {\n",
       "        vertical-align: middle;\n",
       "    }\n",
       "\n",
       "    .dataframe tbody tr th {\n",
       "        vertical-align: top;\n",
       "    }\n",
       "\n",
       "    .dataframe thead th {\n",
       "        text-align: right;\n",
       "    }\n",
       "</style>\n",
       "<table border=\"1\" class=\"dataframe\">\n",
       "  <thead>\n",
       "    <tr style=\"text-align: right;\">\n",
       "      <th></th>\n",
       "      <th>population</th>\n",
       "      <th>fertility</th>\n",
       "      <th>continent</th>\n",
       "    </tr>\n",
       "  </thead>\n",
       "  <tbody>\n",
       "    <tr>\n",
       "      <th>Bangladesh</th>\n",
       "      <td>161.0</td>\n",
       "      <td>2.12</td>\n",
       "      <td>Asia</td>\n",
       "    </tr>\n",
       "    <tr>\n",
       "      <th>China</th>\n",
       "      <td>1376.0</td>\n",
       "      <td>1.57</td>\n",
       "      <td>Asia</td>\n",
       "    </tr>\n",
       "    <tr>\n",
       "      <th>India</th>\n",
       "      <td>1311.1</td>\n",
       "      <td>2.43</td>\n",
       "      <td>Asia</td>\n",
       "    </tr>\n",
       "    <tr>\n",
       "      <th>Indonesia</th>\n",
       "      <td>257.6</td>\n",
       "      <td>2.28</td>\n",
       "      <td>Asia</td>\n",
       "    </tr>\n",
       "    <tr>\n",
       "      <th>Japan</th>\n",
       "      <td>126.6</td>\n",
       "      <td>1.45</td>\n",
       "      <td>Asia</td>\n",
       "    </tr>\n",
       "    <tr>\n",
       "      <th>Pakistan</th>\n",
       "      <td>188.9</td>\n",
       "      <td>3.04</td>\n",
       "      <td>Asia</td>\n",
       "    </tr>\n",
       "    <tr>\n",
       "      <th>Philippines</th>\n",
       "      <td>100.7</td>\n",
       "      <td>2.98</td>\n",
       "      <td>Asia</td>\n",
       "    </tr>\n",
       "  </tbody>\n",
       "</table>\n",
       "</div>"
      ],
      "text/plain": [
       "             population  fertility continent\n",
       "Bangladesh        161.0       2.12      Asia\n",
       "China            1376.0       1.57      Asia\n",
       "India            1311.1       2.43      Asia\n",
       "Indonesia         257.6       2.28      Asia\n",
       "Japan             126.6       1.45      Asia\n",
       "Pakistan          188.9       3.04      Asia\n",
       "Philippines       100.7       2.98      Asia"
      ]
     },
     "execution_count": 43,
     "metadata": {},
     "output_type": "execute_result"
    }
   ],
   "source": [
    "# get the DataFrame of a specific group\n",
    "g.get_group('Asia')"
   ]
  },
  {
   "cell_type": "markdown",
   "metadata": {},
   "source": [
    "There are different ways of splitting a ``pandas.DataFrame``"
   ]
  },
  {
   "cell_type": "code",
   "execution_count": 44,
   "metadata": {},
   "outputs": [
    {
     "data": {
      "text/plain": [
       "<pandas.core.groupby.generic.DataFrameGroupBy object at 0x7fe191d7f850>"
      ]
     },
     "execution_count": 44,
     "metadata": {},
     "output_type": "execute_result"
    }
   ],
   "source": [
    "# 1. By one column\n",
    "df.groupby('continent')"
   ]
  },
  {
   "cell_type": "code",
   "execution_count": 45,
   "metadata": {},
   "outputs": [
    {
     "data": {
      "text/plain": [
       "<pandas.core.groupby.generic.DataFrameGroupBy object at 0x7fe191c5d8b0>"
      ]
     },
     "execution_count": 45,
     "metadata": {},
     "output_type": "execute_result"
    }
   ],
   "source": [
    "# 2. By two (or more) columns\n",
    "df.groupby(['continent', 'population'])"
   ]
  },
  {
   "cell_type": "code",
   "execution_count": 46,
   "metadata": {},
   "outputs": [
    {
     "data": {
      "text/plain": [
       "continent\n",
       "Africa           182.200000\n",
       "Asia             503.128571\n",
       "Europe           143.500000\n",
       "North America    224.400000\n",
       "South America    207.800000\n",
       "Name: population, dtype: float64"
      ]
     },
     "execution_count": 46,
     "metadata": {},
     "output_type": "execute_result"
    }
   ],
   "source": [
    "# Apply a aggregate function to it\n",
    "df.groupby('continent')['population'].mean()"
   ]
  },
  {
   "cell_type": "code",
   "execution_count": null,
   "metadata": {},
   "outputs": [],
   "source": []
  },
  {
   "cell_type": "markdown",
   "metadata": {},
   "source": [
    "### More sophisticated applications\n",
    "\n",
    "``.apply()`` and ``.transform()``\n",
    "\n",
    "``.transform()`` takes a ``pd.DataFrame`` or a ``pd.Series`` as input, applies a specified function to each ``pd.Series`` it receives and returns a ``pd.DataFrame`` or ``pd.Series`` of equal shape.\n",
    "> **input:** ``pd.DataFrame`` or ``pd.Series``<br>\n",
    "> **operates on:** each ``pd.Series``separately<br>\n",
    "> **output:** ``pd.DataFrame`` or ``pd.Series`` of the same shape"
   ]
  },
  {
   "cell_type": "code",
   "execution_count": 47,
   "metadata": {},
   "outputs": [],
   "source": [
    "g = df.groupby('continent')"
   ]
  },
  {
   "cell_type": "code",
   "execution_count": 48,
   "metadata": {},
   "outputs": [
    {
     "data": {
      "text/plain": [
       "continent\n",
       "Africa           182.200000\n",
       "Asia             503.128571\n",
       "Europe           143.500000\n",
       "North America    224.400000\n",
       "South America    207.800000\n",
       "Name: population, dtype: float64"
      ]
     },
     "execution_count": 48,
     "metadata": {},
     "output_type": "execute_result"
    }
   ],
   "source": [
    "g['population'].mean()"
   ]
  },
  {
   "cell_type": "code",
   "execution_count": 49,
   "metadata": {},
   "outputs": [
    {
     "data": {
      "text/plain": [
       "Bangladesh       503.128571\n",
       "Brazil           207.800000\n",
       "China            503.128571\n",
       "India            503.128571\n",
       "Indonesia        503.128571\n",
       "Japan            503.128571\n",
       "Mexico           224.400000\n",
       "Nigeria          182.200000\n",
       "Pakistan         503.128571\n",
       "Philippines      503.128571\n",
       "Russia           143.500000\n",
       "United States    224.400000\n",
       "Name: population, dtype: float64"
      ]
     },
     "execution_count": 49,
     "metadata": {},
     "output_type": "execute_result"
    }
   ],
   "source": [
    "g['population'].transform('mean')"
   ]
  },
  {
   "cell_type": "code",
   "execution_count": 52,
   "metadata": {},
   "outputs": [
    {
     "name": "stderr",
     "output_type": "stream",
     "text": [
      "<ipython-input-52-3e78da0c8040>:2: SettingWithCopyWarning: \n",
      "A value is trying to be set on a copy of a slice from a DataFrame.\n",
      "Try using .loc[row_indexer,col_indexer] = value instead\n",
      "\n",
      "See the caveats in the documentation: https://pandas.pydata.org/pandas-docs/stable/user_guide/indexing.html#returning-a-view-versus-a-copy\n",
      "  df['continent_population'] = g['population'].transform('sum')\n"
     ]
    },
    {
     "data": {
      "text/html": [
       "<div>\n",
       "<style scoped>\n",
       "    .dataframe tbody tr th:only-of-type {\n",
       "        vertical-align: middle;\n",
       "    }\n",
       "\n",
       "    .dataframe tbody tr th {\n",
       "        vertical-align: top;\n",
       "    }\n",
       "\n",
       "    .dataframe thead th {\n",
       "        text-align: right;\n",
       "    }\n",
       "</style>\n",
       "<table border=\"1\" class=\"dataframe\">\n",
       "  <thead>\n",
       "    <tr style=\"text-align: right;\">\n",
       "      <th></th>\n",
       "      <th>population</th>\n",
       "      <th>fertility</th>\n",
       "      <th>continent</th>\n",
       "      <th>continent_population</th>\n",
       "      <th>weighted_fertility</th>\n",
       "    </tr>\n",
       "  </thead>\n",
       "  <tbody>\n",
       "    <tr>\n",
       "      <th>Bangladesh</th>\n",
       "      <td>161.0</td>\n",
       "      <td>2.12</td>\n",
       "      <td>Asia</td>\n",
       "      <td>3521.9</td>\n",
       "      <td>0.096914</td>\n",
       "    </tr>\n",
       "    <tr>\n",
       "      <th>Brazil</th>\n",
       "      <td>207.8</td>\n",
       "      <td>1.78</td>\n",
       "      <td>South America</td>\n",
       "      <td>207.8</td>\n",
       "      <td>1.780000</td>\n",
       "    </tr>\n",
       "    <tr>\n",
       "      <th>China</th>\n",
       "      <td>1376.0</td>\n",
       "      <td>1.57</td>\n",
       "      <td>Asia</td>\n",
       "      <td>3521.9</td>\n",
       "      <td>0.613396</td>\n",
       "    </tr>\n",
       "    <tr>\n",
       "      <th>India</th>\n",
       "      <td>1311.1</td>\n",
       "      <td>2.43</td>\n",
       "      <td>Asia</td>\n",
       "      <td>3521.9</td>\n",
       "      <td>0.904618</td>\n",
       "    </tr>\n",
       "    <tr>\n",
       "      <th>Indonesia</th>\n",
       "      <td>257.6</td>\n",
       "      <td>2.28</td>\n",
       "      <td>Asia</td>\n",
       "      <td>3521.9</td>\n",
       "      <td>0.166765</td>\n",
       "    </tr>\n",
       "  </tbody>\n",
       "</table>\n",
       "</div>"
      ],
      "text/plain": [
       "            population  fertility      continent  continent_population  \\\n",
       "Bangladesh       161.0       2.12           Asia                3521.9   \n",
       "Brazil           207.8       1.78  South America                 207.8   \n",
       "China           1376.0       1.57           Asia                3521.9   \n",
       "India           1311.1       2.43           Asia                3521.9   \n",
       "Indonesia        257.6       2.28           Asia                3521.9   \n",
       "\n",
       "            weighted_fertility  \n",
       "Bangladesh            0.096914  \n",
       "Brazil                1.780000  \n",
       "China                 0.613396  \n",
       "India                 0.904618  \n",
       "Indonesia             0.166765  "
      ]
     },
     "execution_count": 52,
     "metadata": {},
     "output_type": "execute_result"
    }
   ],
   "source": [
    "# Transform can be incredibly powerful to create new columns - or in order to fill in missing values with .fillna()\n",
    "df['continent_population'] = g['population'].transform('sum')\n",
    "df.head()"
   ]
  },
  {
   "cell_type": "code",
   "execution_count": 53,
   "metadata": {},
   "outputs": [
    {
     "name": "stderr",
     "output_type": "stream",
     "text": [
      "<ipython-input-53-df936bec98db>:1: SettingWithCopyWarning: \n",
      "A value is trying to be set on a copy of a slice from a DataFrame.\n",
      "Try using .loc[row_indexer,col_indexer] = value instead\n",
      "\n",
      "See the caveats in the documentation: https://pandas.pydata.org/pandas-docs/stable/user_guide/indexing.html#returning-a-view-versus-a-copy\n",
      "  df['weighted_fertility'] = df['fertility'] * df['population'] / df['continent_population']\n"
     ]
    }
   ],
   "source": [
    "df['weighted_fertility'] = df['fertility'] * df['population'] / df['continent_population']"
   ]
  },
  {
   "cell_type": "code",
   "execution_count": 54,
   "metadata": {},
   "outputs": [
    {
     "data": {
      "text/html": [
       "<div>\n",
       "<style scoped>\n",
       "    .dataframe tbody tr th:only-of-type {\n",
       "        vertical-align: middle;\n",
       "    }\n",
       "\n",
       "    .dataframe tbody tr th {\n",
       "        vertical-align: top;\n",
       "    }\n",
       "\n",
       "    .dataframe thead th {\n",
       "        text-align: right;\n",
       "    }\n",
       "</style>\n",
       "<table border=\"1\" class=\"dataframe\">\n",
       "  <thead>\n",
       "    <tr style=\"text-align: right;\">\n",
       "      <th></th>\n",
       "      <th>population</th>\n",
       "      <th>fertility</th>\n",
       "      <th>continent</th>\n",
       "      <th>continent_population</th>\n",
       "      <th>weighted_fertility</th>\n",
       "    </tr>\n",
       "  </thead>\n",
       "  <tbody>\n",
       "    <tr>\n",
       "      <th>Bangladesh</th>\n",
       "      <td>161.0</td>\n",
       "      <td>2.12</td>\n",
       "      <td>Asia</td>\n",
       "      <td>3521.9</td>\n",
       "      <td>0.096914</td>\n",
       "    </tr>\n",
       "    <tr>\n",
       "      <th>Brazil</th>\n",
       "      <td>207.8</td>\n",
       "      <td>1.78</td>\n",
       "      <td>South America</td>\n",
       "      <td>207.8</td>\n",
       "      <td>1.780000</td>\n",
       "    </tr>\n",
       "    <tr>\n",
       "      <th>China</th>\n",
       "      <td>1376.0</td>\n",
       "      <td>1.57</td>\n",
       "      <td>Asia</td>\n",
       "      <td>3521.9</td>\n",
       "      <td>0.613396</td>\n",
       "    </tr>\n",
       "    <tr>\n",
       "      <th>India</th>\n",
       "      <td>1311.1</td>\n",
       "      <td>2.43</td>\n",
       "      <td>Asia</td>\n",
       "      <td>3521.9</td>\n",
       "      <td>0.904618</td>\n",
       "    </tr>\n",
       "    <tr>\n",
       "      <th>Indonesia</th>\n",
       "      <td>257.6</td>\n",
       "      <td>2.28</td>\n",
       "      <td>Asia</td>\n",
       "      <td>3521.9</td>\n",
       "      <td>0.166765</td>\n",
       "    </tr>\n",
       "  </tbody>\n",
       "</table>\n",
       "</div>"
      ],
      "text/plain": [
       "            population  fertility      continent  continent_population  \\\n",
       "Bangladesh       161.0       2.12           Asia                3521.9   \n",
       "Brazil           207.8       1.78  South America                 207.8   \n",
       "China           1376.0       1.57           Asia                3521.9   \n",
       "India           1311.1       2.43           Asia                3521.9   \n",
       "Indonesia        257.6       2.28           Asia                3521.9   \n",
       "\n",
       "            weighted_fertility  \n",
       "Bangladesh            0.096914  \n",
       "Brazil                1.780000  \n",
       "China                 0.613396  \n",
       "India                 0.904618  \n",
       "Indonesia             0.166765  "
      ]
     },
     "execution_count": 54,
     "metadata": {},
     "output_type": "execute_result"
    }
   ],
   "source": [
    "df.head()"
   ]
  },
  {
   "cell_type": "code",
   "execution_count": 55,
   "metadata": {},
   "outputs": [
    {
     "data": {
      "text/plain": [
       "continent\n",
       "Africa           5.890000\n",
       "Asia             2.082073\n",
       "Europe           1.610000\n",
       "North America    2.015276\n",
       "South America    1.780000\n",
       "Name: weighted_fertility, dtype: float64"
      ]
     },
     "execution_count": 55,
     "metadata": {},
     "output_type": "execute_result"
    }
   ],
   "source": [
    "df.groupby('continent')['weighted_fertility'].sum()"
   ]
  },
  {
   "cell_type": "code",
   "execution_count": null,
   "metadata": {},
   "outputs": [],
   "source": []
  },
  {
   "cell_type": "markdown",
   "metadata": {},
   "source": [
    "``.apply()`` takes a ``pd.DataFrame`` or a ``pd.Series`` as input, applies a specified function, either to the ``pd.DataFrame`` or to each ``pd.Series``. It returns, depending on the specified funtion, a ``pd.DataFrame`` of flexible size, a ``pd.Series`` or a scalar.\n",
    "> **input:** ``pd.DataFrame``<br>\n",
    "> **operates on:** the whole ``pd.DataFrame`` or each ``pd.Series``, depending on the function<br>\n",
    "> **output:** ``pd.DataFrame``, ``pd.Series`` or scalar"
   ]
  },
  {
   "cell_type": "code",
   "execution_count": 56,
   "metadata": {},
   "outputs": [],
   "source": [
    "def weighted_average(df):\n",
    "    '''Calculates the weighted average fertility'''\n",
    "    weights = df['population']/df['population'].sum()\n",
    "    weighted_fertility = df['fertility'] * weights\n",
    "    weighted_average_fertility = weighted_fertility.sum()\n",
    "    return weighted_average_fertility"
   ]
  },
  {
   "cell_type": "code",
   "execution_count": 57,
   "metadata": {},
   "outputs": [
    {
     "data": {
      "text/plain": [
       "2.2004764442076286"
      ]
     },
     "execution_count": 57,
     "metadata": {},
     "output_type": "execute_result"
    }
   ],
   "source": [
    "weighted_average(df)"
   ]
  },
  {
   "cell_type": "code",
   "execution_count": 60,
   "metadata": {},
   "outputs": [
    {
     "data": {
      "text/plain": [
       "continent\n",
       "Africa           5.890000\n",
       "Asia             2.082073\n",
       "Europe           1.610000\n",
       "North America    2.015276\n",
       "South America    1.780000\n",
       "dtype: float64"
      ]
     },
     "execution_count": 60,
     "metadata": {},
     "output_type": "execute_result"
    }
   ],
   "source": [
    "df.groupby('continent').apply(weighted_average) # .groupby().apply(name_of_function)"
   ]
  },
  {
   "cell_type": "markdown",
   "metadata": {},
   "source": [
    "### Combine\n",
    "\n",
    "Nothing to do here. Pandas is doing that for us."
   ]
  }
 ],
 "metadata": {
  "kernelspec": {
   "display_name": "Python 3",
   "language": "python",
   "name": "python3"
  },
  "language_info": {
   "codemirror_mode": {
    "name": "ipython",
    "version": 3
   },
   "file_extension": ".py",
   "mimetype": "text/x-python",
   "name": "python",
   "nbconvert_exporter": "python",
   "pygments_lexer": "ipython3",
   "version": "3.8.3"
  }
 },
 "nbformat": 4,
 "nbformat_minor": 4
}
